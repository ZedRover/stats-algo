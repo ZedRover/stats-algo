{
 "cells": [
  {
   "cell_type": "code",
   "execution_count": 1,
   "metadata": {},
   "outputs": [
    {
     "name": "stdout",
     "output_type": "stream",
     "text": [
      "t检验结果：p值\n",
      "Ttest_relResult(statistic=3.048475214454681, pvalue=0.013826970451693616)\n",
      "F检验结果：p值\n",
      "0.9824793107664767\n"
     ]
    }
   ],
   "source": [
    "from scipy.stats import ttest_rel, f\n",
    "import numpy as np\n",
    " \n",
    "# 模型一10组实验结果\n",
    "x = [44.2, 36.1, 46.5, 40.7, 61.6, 55.4, 59.9, 55.2, 65.5, 58.5]\n",
    "# 模型二10组实验结果\n",
    "y = [44.1, 35.9, 45.6, 39.5, 60.1, 55.1, 59.9, 54.2, 65.6, 58.2]\n",
    " \n",
    "print('t检验结果：p值')\n",
    "print(ttest_rel(x, y))\n",
    " \n",
    "# 计算组内样本方差\n",
    "var1 = np.var(x, ddof=1)\n",
    "var2 = np.var(y, ddof=1)\n",
    "# 计算统计量F\n",
    "F = var1 / var2\n",
    "# 计算自由度\n",
    "df1 = len(x) - 1\n",
    "df2 = len(y) - 1\n",
    "# 计算p值\n",
    "p_value = 1 - 2 * abs(0.5 - f.cdf(F, df1, df2))\n",
    "print('F检验结果：p值')\n",
    "print(p_value)"
   ]
  },
  {
   "cell_type": "code",
   "execution_count": 3,
   "metadata": {},
   "outputs": [
    {
     "name": "stdout",
     "output_type": "stream",
     "text": [
      "F检验结果：p值 0.05325041570441824\n"
     ]
    }
   ],
   "source": [
    "p_value = 1 - 2 * abs(0.5 - f.cdf(11.7397, 1, 4))\n",
    "print('F检验结果：p值',p_value)"
   ]
  },
  {
   "cell_type": "code",
   "execution_count": null,
   "metadata": {},
   "outputs": [],
   "source": []
  }
 ],
 "metadata": {
  "kernelspec": {
   "display_name": "Python 3.8.8 64-bit ('anaconda3-2021.05': pyenv)",
   "name": "python388jvsc74a57bd09b73e67f70ceb6d5b97bcb030d8fec385a817fa3964ac641deac3f763fb4943b"
  },
  "language_info": {
   "codemirror_mode": {
    "name": "ipython",
    "version": 3
   },
   "file_extension": ".py",
   "mimetype": "text/x-python",
   "name": "python",
   "nbconvert_exporter": "python",
   "pygments_lexer": "ipython3",
   "version": "3.8.8"
  },
  "orig_nbformat": 2
 },
 "nbformat": 4,
 "nbformat_minor": 2
}