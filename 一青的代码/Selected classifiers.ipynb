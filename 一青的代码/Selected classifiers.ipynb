{
 "cells": [
  {
   "cell_type": "code",
   "execution_count": 1,
   "metadata": {},
   "outputs": [],
   "source": [
    "# setup\n",
    "import pandas as pd\n",
    "import collections as co\n",
    "import numpy as np\n",
    "import seaborn as sns\n",
    "import itertools as it\n",
    "import matplotlib # A must \n",
    "import matplotlib.pyplot as plt\n",
    "import statsmodels.api as sm\n",
    "import pydotplus \n",
    "from matplotlib import cm\n",
    "from sklearn import datasets\n",
    "from sklearn import model_selection as skms\n",
    "from sklearn import metrics\n",
    "from sklearn import neighbors\n",
    "from sklearn import tree\n",
    "from sklearn import svm\n",
    "from sklearn import naive_bayes\n",
    "from sklearn import linear_model\n",
    "from sklearn import dummy\n",
    "from sklearn import model_selection as skms\n",
    "from sklearn import discriminant_analysis\n",
    "from time import sleep\n",
    "from PIL import Image\n",
    "%matplotlib inline"
   ]
  },
  {
   "cell_type": "code",
   "execution_count": 2,
   "metadata": {},
   "outputs": [],
   "source": [
    "iris = datasets.load_iris()\n",
    "\n",
    "# standard iris dataset\n",
    "tts = skms.train_test_split(iris.data, iris.target, \n",
    "                            test_size=.33, random_state=21)\n",
    "(iris_train_ftrs, iris_test_ftrs, \n",
    " iris_train_tgt,  iris_test_tgt) = tts\n",
    "\n",
    "# one-class variation\n",
    "useclass = 1\n",
    "tts_1c = skms.train_test_split(iris.data, iris.target==useclass, \n",
    "                               test_size=.33, random_state = 21)\n",
    "(iris_1c_train_ftrs, iris_1c_test_ftrs, \n",
    " iris_1c_train_tgt,  iris_1c_test_tgt) = tts_1c\n",
    "\n",
    "#How to understand \"iris.target==useclass\"???\n",
    "#print(iris_1c_train_tgt)\n",
    "#print(iris_1c_test_tgt)"
   ]
  },
  {
   "cell_type": "markdown",
   "metadata": {},
   "source": [
    "## Selected classifiers"
   ]
  },
  {
   "cell_type": "markdown",
   "metadata": {},
   "source": [
    "**Revisiting classification**\n",
    "\n",
    "So far, we have discussed two classifiers: NB and $k$-NN. Classification is simple, for instance, if you ask a 6-year-old boy to classify the shapes, crosses and circles, he should find the answer in 5 seconds. (Picture on the whiteboard)\n",
    "\n",
    "However, we may think a little more on the answers from the child:\n",
    "\n",
    "   * What is the rule that the child has followed in this simple classification? Drawing a straight line? Using more than one lines? The line has to be parallel to the edge of the paper?\n",
    "   \n",
    "   * When we say \"Good job\" to this child, how do we mean by \"good\"?\n",
    "   \n",
    "The discussion above leads to two important aspects of the classification: The constraints on the boundaries and the evaluation of the methods. \n",
    "\n",
    "Before creating a method, mathematicians often put some assumptions on what is happening with the data, which is equivalent to set constraints on how we separate the data. \n",
    "\n",
    "A classifier gives the prediction of the concerning output feature in the following ways: for instance, with $k$-NN, the “best\" predicted feature are given by voting, which can be regarded as the class with the biggest probability given the input features; with NB, the probability of each class given the input features are calculated by estimating the empirical joint distribution of the input features and the output feature.\n",
    "\n",
    "This is to say, it is equivalent for the classifiers to send out a predicted output feature as a class among $\\{True, False\\}$, $\\{-1, 0, 1\\}$, $\\{0, 1\\}$ or a conditional probability of each class given the input features.\n",
    "\n",
    "To evaluate the classifier, the simplest way is to consider the accuracy, however, for instance （Graph on the white board), the crosses and the circles can be perfectly separated, is there any idea to compare a curved boundary and a linear boundary?\n",
    "\n",
    "In this lecture, we shall introduce the following methods\n",
    "\n",
    "  * Decision tree\n",
    "  * Support vector classifier\n",
    "  * logistic regression\n",
    "  * Discriminant analysis\n",
    "  \n",
    "Basically, in that order, these methods introduce increasing numbers of assumptions.\n",
    "\n",
    "In general, we may never know if these assumptions are well satisfied. We always try multiple methods, cross-validate, and use the method with the best cross-validated results as our final tool."
   ]
  },
  {
   "cell_type": "code",
   "execution_count": 3,
   "metadata": {},
   "outputs": [],
   "source": [
    "def plot_boundary(ax, data, tgt, model, dims, grid_step = .01):\n",
    "    # grab a 2D view of the data and get limits\n",
    "    twoD = data[:, list(dims)]\n",
    "    min_x1, min_x2 = np.min(twoD, axis=0) + 2 * grid_step\n",
    "    max_x1, max_x2 = np.max(twoD, axis=0) - grid_step\n",
    "\n",
    "\n",
    "    # make a grid of points and predict at them\n",
    "    xs, ys = np.mgrid[min_x1:max_x1:grid_step,\n",
    "                      min_x2:max_x2:grid_step]\n",
    "    grid_points = np.c_[xs.ravel(), ys.ravel()]\n",
    "    # warning:  non-cv fit\n",
    "    preds = model.fit(twoD, tgt).predict(grid_points).reshape(xs.shape)\n",
    "\n",
    "    # plot the predictions at the grid points\n",
    "    ax.pcolormesh(xs,ys,preds,cmap=plt.cm.coolwarm)\n",
    "    ax.set_xlim(min_x1, max_x1)#-grid_step)\n",
    "    ax.set_ylim(min_x2, max_x2)#-grid_step)"
   ]
  },
  {
   "cell_type": "markdown",
   "metadata": {},
   "source": [
    "**Decision tree (DT)**\n",
    "\n",
    "The strategy of a decision tree is to ask questions. Similar to the game: guessing the number between 1 to 100 that your friend thinks about. We can always write a decision tree when playing this game (graph on the white board).\n",
    "\n",
    "Or, we look at the following example\n",
    "\n",
    "![dt](Decision-Tree-formulated-using-C45-for-Risk-of-Hypertension.png)\n",
    "\n",
    "The single question on the top is called *root* of the tree and the scattered nodes at the bottom are called the *leaves*.\n",
    "\n",
    "With \"sklearn\", a DT model can be built by simply type \"tree.DecisionTreeClassifier\" with the \"max_depth\" option. \n",
    "\n",
    "Let us look into the result with \"iris\" data."
   ]
  },
  {
   "cell_type": "code",
   "execution_count": 4,
   "metadata": {},
   "outputs": [
    {
     "data": {
      "image/png": "[encoded data removed]",
      "text/plain": [
       "<Figure size 288x216 with 1 Axes>"
      ]
     },
     "metadata": {
      "needs_background": "light"
     },
     "output_type": "display_data"
    }
   ],
   "source": [
    "tree_classifiers = {'DTC' : tree.DecisionTreeClassifier(max_depth=3)}\n",
    "#tree_classifiers = {'DTC' : tree.DecisionTreeClassifier(max_depth=8)}\n",
    "fig, ax = plt.subplots(1,1,figsize=(4,3))\n",
    "for name, mod in tree_classifiers.items():\n",
    "    # plot_boundary only uses specified columns\n",
    "    # [0,1] [sepal len/width] to predict and graph.  \n",
    "    plot_boundary(ax, iris.data, iris.target, mod, [0, 1])\n",
    "    ax.set_title(name)\n",
    "plt.tight_layout()\n",
    "\n",
    "# [0, 1] means we pick only the first and second dim of the input features\n",
    "# That is the sepal length and the sepal width"
   ]
  },
  {
   "attachments": {},
   "cell_type": "markdown",
   "metadata": {},
   "source": [
    "We display a 2D graph concerning the dimension \"sepal length\" and \"sepal width\" of the input features. \n",
    "\n",
    "The red region is setosa and the blue and gray are other two classes.\n",
    "\n",
    "The DT resolves the classification problem by breaking down the entire space of data into smaller and smaller regions. We say that the whole space is broken up and the model creates a partition. \n",
    "\n",
    "$$\n",
    "target = \\sum_{Region \\in Partition} c_R {\\bf 1}_{example \\in \n",
    "Region}\n",
    "$$\n",
    "\n",
    "where $c_R$ is the class label of the region.\n",
    "\n",
    "The option \"max_depth\" controls when it stops the breakdown. (Can you easily find from the graph above that this is a result from DT with max_depth = 3? and why the boundary are straight segments?)\n",
    "\n",
    "Indedd, the option \"max_depth\" controls the number of level of questions that a model can ask. A modest depth of the DT prevents overfitting. Theoretically, as long as we build sufficiently deep DT, the accuracy on the training set could reach 100%. In particular, the singleton with only one example becomes a region in the partition. However, the predictive capacity will be poor. "
   ]
  },
  {
   "attachments": {},
   "cell_type": "markdown",
   "metadata": {},
   "source": [
    "Another important question is what is the best way to raise questions. There are a number of major tree-building algorithms. Among them \n",
    "\n",
    "  * ID3 by Quinlan\n",
    "  * C4.5 and C5.0 by Quinlan\n",
    "  * CART (Classification and regression tree)\n",
    "  \n",
    "are the most popular.  "
   ]
  },
  {
   "cell_type": "code",
   "execution_count": 5,
   "metadata": {},
   "outputs": [],
   "source": [
    "#tree.DecisionTreeClassifier?"
   ]
  },
  {
   "attachments": {},
   "cell_type": "markdown",
   "metadata": {},
   "source": [
    "The tree-building algorithm use the following steps:\n",
    "\n",
    "  * Evaluate the set of features and splits and pick a \"best\" feature and split;\n",
    "  * Add a node to the tree that represents the feature-split;\n",
    "  * For each descendant, work with the matching data and either\n",
    "    * if the targets are similar enough, return a predicted target; \n",
    "    * if not, return to the first step and repeat.\n",
    "    \n",
    "Each of these steps can be implemented and limited in different ways. The DT algorithms control\n",
    "\n",
    "  * what splits and partitions are allowed (for instance, CART is a binomial tree)\n",
    "  * how features splits are evaluated (for instance, ID.3, C4.5: information gain ration; CART: Gini)\n",
    "  * other limits (for instance, minimum number of examples at a leaf)    "
   ]
  },
  {
   "attachments": {},
   "cell_type": "markdown",
   "metadata": {},
   "source": [
    "We remark here \n",
    "\n",
    "  * comparing two examples: even all observable features are the same, the decision might be left to chance, that is to say their output features could be different; (unobservable features, error in measurements...) \n",
    "  * DT could not explain well when decisions (output features) form a time series."
   ]
  },
  {
   "cell_type": "markdown",
   "metadata": {},
   "source": [
    "**Evaluation of DT**"
   ]
  },
  {
   "cell_type": "code",
   "execution_count": 6,
   "metadata": {},
   "outputs": [
    {
     "data": {
      "text/plain": [
       "array([0.98, 0.92, 0.98])"
      ]
     },
     "execution_count": 6,
     "metadata": {},
     "output_type": "execute_result"
    }
   ],
   "source": [
    "# quite well\n",
    "dtc = tree.DecisionTreeClassifier()\n",
    "skms.cross_val_score(dtc, \n",
    "                   iris.data, iris.target, \n",
    "                   cv=3, scoring='accuracy') # sorry"
   ]
  },
  {
   "cell_type": "markdown",
   "metadata": {},
   "source": [
    "**Visualization of DT**"
   ]
  },
  {
   "cell_type": "code",
   "execution_count": 7,
   "metadata": {},
   "outputs": [],
   "source": [
    "iris_1c_tree = (tree.DecisionTreeClassifier()\n",
    "                    .fit(iris_1c_train_ftrs, iris_1c_train_tgt))"
   ]
  },
  {
   "cell_type": "code",
   "execution_count": 8,
   "metadata": {},
   "outputs": [],
   "source": [
    "#pip install pydotplus"
   ]
  },
  {
   "cell_type": "code",
   "execution_count": 9,
   "metadata": {},
   "outputs": [],
   "source": [
    "#pip install GraphViz"
   ]
  },
  {
   "cell_type": "code",
   "execution_count": 10,
   "metadata": {},
   "outputs": [],
   "source": [
    "# using an additional library\n",
    "# conda install pydotplus\n",
    "# pip install pydotplus\n",
    "import pydotplus \n",
    "from PIL import Image\n",
    "dot_data = tree.export_graphviz(iris_1c_tree, out_file=None) \n",
    "graph = pydotplus.graph_from_dot_data(dot_data)\n",
    "graph.write_png(\"outputs/iris_1c.png\")\n",
    "im=Image.open('outputs/iris_1c.png')\n",
    "im.show()"
   ]
  },
  {
   "cell_type": "code",
   "execution_count": 11,
   "metadata": {},
   "outputs": [],
   "source": [
    "iris_tree = (tree.DecisionTreeClassifier(max_depth=2)\n",
    "                 .fit(iris_train_ftrs, iris_train_tgt))"
   ]
  },
  {
   "cell_type": "code",
   "execution_count": 12,
   "metadata": {},
   "outputs": [],
   "source": [
    "# no added lib. to produce .dot file\n",
    "with open(\"outputs/iris.dot\", 'w') as f:\n",
    "    dot_data = tree.export_graphviz(iris_tree, out_file=f, \n",
    "                                    feature_names=iris.feature_names,  \n",
    "                                    class_names=iris.target_names,  \n",
    "                                    filled=True, rounded=True)\n",
    "\n",
    "# the following '!' lines are \"shell\" commands\n",
    "# uses the 'dot' program to convert to dot -> png\n",
    "!dot -Tpng outputs/iris.dot -o outputs/iris.png\n",
    "!rm outputs/iris.dot\n",
    "\n",
    "im=Image.open('outputs/iris.png')\n",
    "im.show()"
   ]
  },
  {
   "cell_type": "code",
   "execution_count": 13,
   "metadata": {},
   "outputs": [
    {
     "data": {
      "image/png": "[encoded data removed]",
      "text/plain": [
       "<Figure size 288x288 with 4 Axes>"
      ]
     },
     "metadata": {
      "needs_background": "light"
     },
     "output_type": "display_data"
    }
   ],
   "source": [
    "fig, axes = plt.subplots(2,2,figsize=(4,4))\n",
    "\n",
    "depths = [1, 2, 5, None]\n",
    "for depth, ax in zip(depths, axes.flat):\n",
    "    dtc_model = tree.DecisionTreeClassifier(max_depth=depth)\n",
    "    # plot_boundary only uses specified columns [0,1]\n",
    "    # so we are only predicting with sepal length and width\n",
    "    plot_boundary(ax, iris.data, iris.target, dtc_model, [0,1])\n",
    "    ax.set_title(\"DTC (max_depth={})\".format(dtc_model.max_depth))\n",
    "\n",
    "plt.tight_layout()"
   ]
  },
  {
   "cell_type": "markdown",
   "metadata": {},
   "source": [
    "**Support vector classifier**\n",
    "If drawing a line between the crosses and the dots on paper as simple as possible, the mathematics simply fall apart. Let's look at the perfectly separable case. Here are three possible lines. In fact, we have infinitely many candidates as boundary.\n",
    "\n",
    "What line has a strong case for being the best around? The black one! Why?\n",
    "\n",
    "  * It stays far away from the data\n",
    "  * It is the most cautious line: maximum margin separator, which keeps both classes as far from itself as possible"
   ]
  },
  {
   "cell_type": "code",
   "execution_count": 14,
   "metadata": {},
   "outputs": [
    {
     "data": {
      "image/png": "[encoded data removed]",
      "text/plain": [
       "<Figure size 288x216 with 1 Axes>"
      ]
     },
     "metadata": {
      "needs_background": "light"
     },
     "output_type": "display_data"
    }
   ],
   "source": [
    "fig, ax = plt.subplots(1,1,figsize=(4,3))\n",
    "\n",
    "# fancy way to get cross-product of points\n",
    "left  = np.mgrid[1:4.0, 1:10].reshape(2, -1).T\n",
    "right = np.mgrid[6:9.0, 1:10].reshape(2, -1).T\n",
    "\n",
    "# data points\n",
    "ax.scatter(left[:,0] , left[:,1] , c='b', marker='x')\n",
    "ax.scatter(right[:,0], right[:,1], c='r', marker='o')\n",
    "\n",
    "# separating lines\n",
    "ax.plot([3.5, 5.5], [1,9], 'y', label='A')\n",
    "ax.plot([4.5, 4.5], [1,9], 'k', label='B')\n",
    "ax.plot([3.5, 5.5], [9,1], 'g', label='C')\n",
    "ax.legend(loc='lower center');"
   ]
  },
  {
   "cell_type": "markdown",
   "metadata": {},
   "source": [
    "Further observation: if we change the problem slightly by keeping only those points on the borders of the two class clusters, we have something like"
   ]
  },
  {
   "cell_type": "code",
   "execution_count": 15,
   "metadata": {},
   "outputs": [
    {
     "data": {
      "image/png": "[encoded data removed]",
      "text/plain": [
       "<Figure size 288x216 with 1 Axes>"
      ]
     },
     "metadata": {
      "needs_background": "light"
     },
     "output_type": "display_data"
    }
   ],
   "source": [
    "fig, ax = plt.subplots(1,1,figsize=(4,3))\n",
    "\n",
    "# fancy way to get cross-product of points\n",
    "left  = np.mgrid[1:4:2, 1:10].reshape(2, -1).T\n",
    "right = np.mgrid[6:9:2, 1:10].reshape(2, -1).T\n",
    "\n",
    "ax.scatter(left[:,0] , left[:,1] , c='b', marker='x')\n",
    "ax.scatter([2,2], [1,9], c='b', marker='x')\n",
    "ax.scatter(right[:,0], right[:,1], c='r', marker='o')\n",
    "ax.scatter([7,7], [1,9], c='r', marker='o')\n",
    "ax.set_xlim(0,9);"
   ]
  },
  {
   "attachments": {},
   "cell_type": "markdown",
   "metadata": {},
   "source": [
    "We have lost anything is the problem is set with the hull of the data. We can continue reducing the data we need to form that max-margin separating line. Really, we do NOT need the entire border of both classes. Only the boundary points facing the opposing class really matter. So, we can drop the non-facing points."
   ]
  },
  {
   "cell_type": "code",
   "execution_count": 16,
   "metadata": {},
   "outputs": [
    {
     "data": {
      "image/png": "[encoded data removed]",
      "text/plain": [
       "<Figure size 288x216 with 1 Axes>"
      ]
     },
     "metadata": {
      "needs_background": "light"
     },
     "output_type": "display_data"
    }
   ],
   "source": [
    "fig, ax = plt.subplots(1,1,figsize=(4,3))\n",
    "\n",
    "left  = np.mgrid[3:4, 1:10].reshape(2, -1).T\n",
    "right = np.mgrid[6:7, 1:10].reshape(2, -1).T\n",
    "\n",
    "ax.scatter(left[:,0] , left[:,1] , c='b', marker='x')\n",
    "ax.scatter(right[:,0], right[:,1], c='r', marker='o')\n",
    "ax.set_xlim(0,9);"
   ]
  },
  {
   "attachments": {},
   "cell_type": "markdown",
   "metadata": {},
   "source": [
    "We worked out way down to a potentially much smaller set of data points. We focus on the points that matter, which is called support vectors, or supporting examples. \n",
    "\n",
    "In conclusion, a support vector classifier (SVC) is to \n",
    "\n",
    "  * find the support vectors - the border points\n",
    "  * do the mathematics necessary to figure out the maximum margin separator\n",
    "  \n",
    "SVCs try to balance off two competing concerns: getting the biggest margin between the example classes and minimizing the number of training error. \n",
    "\n",
    "Short remarks:\n",
    "\n",
    "  * SVC allows for storing more data, compared with $k$-NN\n",
    "  * From SVC to SVM, the boundary is not necessarily linear"
   ]
  },
  {
   "cell_type": "markdown",
   "metadata": {},
   "source": [
    "**Performance of SVC**\n",
    "\n",
    "SVC are NOT naturally suited with multiclass clasification. They are typically wrapped up in either one-versus-one (OVO) or one-versus-rest (OVR) systems. In \"sklearn\" the SVC is a mix of OvO and OvR. \n",
    "\n",
    "There are four ways (actually more) that we can get a SVC in \"sklearn\"\n",
    "\n",
    "  * LinearSVC\n",
    "  * SVC with a linear kernel \n",
    "  * SVC with a polynomial kernel of degree 1\n",
    "  * NuSVC with a linear kernel"
   ]
  },
  {
   "cell_type": "code",
   "execution_count": 17,
   "metadata": {},
   "outputs": [],
   "source": [
    "#svm.NuSVC?"
   ]
  },
  {
   "cell_type": "code",
   "execution_count": 18,
   "metadata": {},
   "outputs": [],
   "source": [
    "#svm.SVC?"
   ]
  },
  {
   "cell_type": "markdown",
   "metadata": {},
   "source": [
    "The option \"C\" controls the maximal tolerance on the classification error;\n",
    "\n",
    "The option \"$\\nu$\" has a simple meaning: at least $\\nu\\%$ of the data will be kept as a support vector. It also has a consequence on error, but errors of a special type: margin errors. \n",
    "  \n",
    "  * either on the wrong side of the separator \n",
    "  * or on the correct side of the separator  (correctly classified) but within the margin\n",
    "  \n",
    "  Under certain circumstance, margin errors increase to $\\nu$ and support vectors decrease to $\\nu$. \n",
    "  \n",
    "  Let's look at how varying $C$ and $\\nu$ affects the boundary between class."
   ]
  },
  {
   "cell_type": "code",
   "execution_count": 19,
   "metadata": {},
   "outputs": [],
   "source": [
    "from sklearn import svm\n",
    "sv_classifiers = {\"SVC(Linear)\"   : svm.SVC(kernel='linear'),\n",
    "                  \"NuSVC(Linear)\" : svm.NuSVC(kernel='linear', nu=.9)} "
   ]
  },
  {
   "cell_type": "code",
   "execution_count": 20,
   "metadata": {},
   "outputs": [
    {
     "data": {
      "image/png": "[encoded data removed]",
      "text/plain": [
       "<Figure size 432x216 with 2 Axes>"
      ]
     },
     "metadata": {
      "needs_background": "light"
     },
     "output_type": "display_data"
    }
   ],
   "source": [
    "fig, axes = plt.subplots(1,2,figsize=(6,3))\n",
    "for (name, mod), ax in zip(sv_classifiers.items(), axes.flat):\n",
    "    plot_boundary(ax, iris.data, iris.target, mod, [0,1])\n",
    "    ax.set_title(name)\n",
    "plt.tight_layout()"
   ]
  },
  {
   "cell_type": "code",
   "execution_count": 21,
   "metadata": {},
   "outputs": [],
   "source": [
    "def np_cartesian_product(*arrays):\n",
    "    ndim = len(arrays)\n",
    "    return np.stack(np.meshgrid(*arrays), axis=-1).reshape(-1, ndim)"
   ]
  },
  {
   "cell_type": "code",
   "execution_count": 22,
   "metadata": {},
   "outputs": [],
   "source": [
    "def plot_separator(model, xs, ys, label='', ax=None):\n",
    "    ''' xs, ys are 1-D b/c contour and decision_function\n",
    "        use incompatible packaging '''\n",
    "    if ax is None:\n",
    "        ax = plt.gca()\n",
    "\n",
    "    xy = np_cartesian_product(xs, ys)\n",
    "    z_shape = (xs.size, ys.size) # verus shape[0]?\n",
    "    zs = model.decision_function(xy).reshape(z_shape)\n",
    "\n",
    "    contours = ax.contour(xs, ys, zs,\n",
    "                          colors='k', levels=[0],\n",
    "                          linestyles=['-'])\n",
    "    fmt = {contours.levels[0] : label}\n",
    "    labels = ax.clabel(contours, fmt=fmt, inline_spacing=10)\n",
    "    [l.set_rotation(-90) for l in labels]"
   ]
  },
  {
   "cell_type": "code",
   "execution_count": 23,
   "metadata": {},
   "outputs": [],
   "source": [
    "def do_linear_svc_separators(svc_maker, pname, params, ax):\n",
    "    'create svc(params) and draw seperation boundary'\n",
    "    xys = (np.linspace(2,8,100),\n",
    "           np.linspace(2,8,100))\n",
    "\n",
    "    for p in params:\n",
    "        kwargs = {pname:p, 'kernel':'linear'}\n",
    "        svc = svc_maker(**kwargs).fit(ftrs, tgt)\n",
    "        # plot_separator is in mlwpy.py\n",
    "        plot_separator(svc, *xys, \n",
    "                       '{}={:g}'.format(pname, p), ax=ax)"
   ]
  },
  {
   "cell_type": "code",
   "execution_count": 24,
   "metadata": {},
   "outputs": [
    {
     "data": {
      "image/png": "[encoded data removed]",
      "text/plain": [
       "<Figure size 864x288 with 3 Axes>"
      ]
     },
     "metadata": {
      "needs_background": "light"
     },
     "output_type": "display_data"
    }
   ],
   "source": [
    "ftrs = np.array([[3,3],\n",
    "                 [3,6],\n",
    "                 [7,3],\n",
    "                 [7,6],\n",
    "                 [6,3]])\n",
    "tgt  = np.array([0,0,1,1,0])\n",
    "colors = np.array(['r', 'b'])\n",
    "\n",
    "Cs = [.1, 1.0, 10]\n",
    "nus = [.3, .4, .5]\n",
    "\n",
    "fig, axes = plt.subplots(1,3,figsize=(12,4),\n",
    "                         sharex=True, sharey=True)\n",
    "for ax in axes:\n",
    "    ax.scatter(ftrs[:,0], ftrs[:,1], c=colors[tgt])\n",
    "ax.set_xlim(2,8); ax.set_ylim(2,7)\n",
    "\n",
    "do_linear_svc_separators(svm.SVC,   \"C\",   Cs, axes[1])\n",
    "do_linear_svc_separators(svm.NuSVC, \"nu\", nus, axes[2])\n",
    "\n",
    "axes[0].set_title(\"No Boundary\")\n",
    "axes[1].set_title(\"C Boundaries\")\n",
    "axes[2].set_title(r\"$\\nu$ Boundaries\");"
   ]
  },
  {
   "cell_type": "markdown",
   "metadata": {},
   "source": [
    "**Bias and Variance in SVC**\n",
    "\n",
    "  * Large $\\nu$ gives awful performance on training and testing. (too biased)\n",
    "  * Decreasing $\\nu$ may give overfitting\n",
    "  * High value of $C$ leads to overfitting and low value of $C$ leads to underfitting"
   ]
  },
  {
   "cell_type": "code",
   "execution_count": 25,
   "metadata": {},
   "outputs": [
    {
     "data": {
      "image/png": "[encoded data removed]",
      "text/plain": [
       "<Figure size 288x216 with 1 Axes>"
      ]
     },
     "metadata": {
      "needs_background": "light"
     },
     "output_type": "display_data"
    }
   ],
   "source": [
    "ftrs, tgt = datasets.make_blobs(centers=2,\n",
    "                                n_features=3,\n",
    "                                n_samples=200,\n",
    "                                center_box = [-2.0, 2.0],\n",
    "                                random_state=1099)\n",
    "\n",
    "# note, using three features, but graphing only two dimensions\n",
    "fig, ax = plt.subplots(1,1,figsize=(4,3))\n",
    "ax.scatter(ftrs[:, 0], ftrs[:, 1], \n",
    "           marker='o', c=tgt, s=25, edgecolor='k')\n",
    "ax.axis('off');"
   ]
  },
  {
   "cell_type": "code",
   "execution_count": 26,
   "metadata": {},
   "outputs": [],
   "source": [
    "# adjusted to remove infeasible nu values\n",
    "nus = np.linspace(0.05, .85, 9)\n",
    "tt = skms.validation_curve(svm.NuSVC(kernel='linear'), \n",
    "                           ftrs, tgt, \n",
    "                           param_name='nu',\n",
    "                           param_range=nus,\n",
    "                           cv=5)"
   ]
  },
  {
   "cell_type": "code",
   "execution_count": 27,
   "metadata": {},
   "outputs": [],
   "source": [
    "def sk_graph_to_tidy(train_test_scores, # y values\n",
    "                     eval_points,       # x values\n",
    "                     eval_label,        # x column name\n",
    "                     num_folds):        # could be inferred\n",
    "    train_scores, test_scores = train_test_scores\n",
    "    # humph, didn't know np_cartesian was order sensitive\n",
    "    labels = np_cartesian_product(eval_points,\n",
    "                                  [0,1], # surrogates for train/test\n",
    "                                  np.arange(num_folds))\n",
    "    score = np.concatenate([train_scores.flatten(),\n",
    "                            test_scores.flatten()], axis=0)\n",
    "\n",
    "    df = pd.DataFrame.from_records(labels)\n",
    "    df.columns = [eval_label, 'set', 'fold']\n",
    "    df.set = df.set.replace({0:'Train', 1:'Test'})\n",
    "    df['score'] = score\n",
    "    return df\n"
   ]
  },
  {
   "cell_type": "code",
   "execution_count": 28,
   "metadata": {},
   "outputs": [
    {
     "data": {
      "image/png": "[encoded data removed]",
      "text/plain": [
       "<Figure size 288x216 with 1 Axes>"
      ]
     },
     "metadata": {
      "needs_background": "light"
     },
     "output_type": "display_data"
    }
   ],
   "source": [
    "fig,ax = plt.subplots(1,1,figsize=(4,3))\n",
    "\n",
    "tidy_df = sk_graph_to_tidy(tt, nus, 'nu', 5)\n",
    "ax = sns.lineplot(x='nu', y='score', hue='set', data=tidy_df)\n",
    "\n",
    "ax.set_title('5-fold CV Performance for NuSVC')\n",
    "ax.set_xlabel(\"\\n\".join([r'$\\nu$ for $\\nu$-SVC']))\n",
    "ax.set_ylim(.3, 1.01)\n",
    "ax.legend(loc='lower center');"
   ]
  },
  {
   "cell_type": "code",
   "execution_count": 29,
   "metadata": {},
   "outputs": [],
   "source": [
    "cs = [0.0001, 0.001, 0.01, .1, 1.0, 10, 100, 1000]\n",
    "tt = skms.validation_curve(svm.SVC(kernel='linear'), \n",
    "                           ftrs, tgt, \n",
    "                           param_name='C',\n",
    "                           param_range=cs,\n",
    "                           cv=5)"
   ]
  },
  {
   "cell_type": "code",
   "execution_count": 30,
   "metadata": {},
   "outputs": [
    {
     "data": {
      "image/png": "[encoded data removed]",
      "text/plain": [
       "<Figure size 288x216 with 1 Axes>"
      ]
     },
     "metadata": {
      "needs_background": "light"
     },
     "output_type": "display_data"
    }
   ],
   "source": [
    "fig,ax = plt.subplots(1,1,figsize=(4,3))\n",
    "\n",
    "tidy_df = sk_graph_to_tidy(tt, cs, 'c', 5)\n",
    "ax = sns.lineplot(x='c',y='score',hue='set',data=tidy_df)\n",
    "\n",
    "ax.set_title('5-fold CV Performance for SVC')\n",
    "ax.set_xlabel(\"\\n\".join([r'C for SVC']))\n",
    "ax.set_ylim(.8, 1.01)\n",
    "ax.set_xlim(.00001, 10001)\n",
    "ax.set_xscale('log')"
   ]
  },
  {
   "cell_type": "markdown",
   "metadata": {},
   "source": [
    "**Logistic regression**\n",
    "\n",
    "Logistic regression works in two stages:\n",
    "\n",
    "  * it computes something closely related to the probabilities of being in each target class\n",
    "  * it labels an example with the highest-probability class\n",
    "  \n",
    "Step one is a regression, which is tightly linked to linear regression. The value to be predicted is in the term of *log-odds*."
   ]
  },
  {
   "cell_type": "markdown",
   "metadata": {},
   "source": [
    "**odds, log-odds**\n",
    "\n",
    "In a game, you have $10\\%$ chance to win. We write those odds as $1:9$ (ratio between two classes?)."
   ]
  },
  {
   "cell_type": "code",
   "execution_count": 31,
   "metadata": {},
   "outputs": [],
   "source": [
    "def simple_argmax(arr):\n",
    "    ' helper to convert np.argmax into something usable '\n",
    "    return np.array(np.unravel_index(np.argmax(arr), \n",
    "                                     arr.shape))\n",
    "\n",
    "def df_names(df, idxs):\n",
    "    ' helper to convert number of index/column labels '\n",
    "    r,c = idxs\n",
    "    return df.index[r], df.columns[c]"
   ]
  },
  {
   "cell_type": "code",
   "execution_count": 32,
   "metadata": {},
   "outputs": [
    {
     "name": "stdout",
     "output_type": "stream",
     "text": [
      "Best Betting Scenario (for Mark) for These Values:\n",
      "(Andy, Mark): (11, 1)\n"
     ]
    },
    {
     "data": {
      "text/html": [
       "<div>\n",
       "<style scoped>\n",
       "    .dataframe tbody tr th:only-of-type {\n",
       "        vertical-align: middle;\n",
       "    }\n",
       "\n",
       "    .dataframe tbody tr th {\n",
       "        vertical-align: top;\n",
       "    }\n",
       "\n",
       "    .dataframe thead th {\n",
       "        text-align: right;\n",
       "    }\n",
       "</style>\n",
       "<table border=\"1\" class=\"dataframe\">\n",
       "  <thead>\n",
       "    <tr style=\"text-align: right;\">\n",
       "      <th>Mark Bet</th>\n",
       "      <th>1</th>\n",
       "      <th>3</th>\n",
       "      <th>5</th>\n",
       "      <th>7</th>\n",
       "      <th>9</th>\n",
       "      <th>11</th>\n",
       "    </tr>\n",
       "    <tr>\n",
       "      <th>Andy Bet</th>\n",
       "      <th></th>\n",
       "      <th></th>\n",
       "      <th></th>\n",
       "      <th></th>\n",
       "      <th></th>\n",
       "      <th></th>\n",
       "    </tr>\n",
       "  </thead>\n",
       "  <tbody>\n",
       "    <tr>\n",
       "      <th>1</th>\n",
       "      <td>-0.8</td>\n",
       "      <td>-2.6</td>\n",
       "      <td>-4.4</td>\n",
       "      <td>-6.2</td>\n",
       "      <td>-8.0</td>\n",
       "      <td>-9.8</td>\n",
       "    </tr>\n",
       "    <tr>\n",
       "      <th>3</th>\n",
       "      <td>-0.6</td>\n",
       "      <td>-2.4</td>\n",
       "      <td>-4.2</td>\n",
       "      <td>-6.0</td>\n",
       "      <td>-7.8</td>\n",
       "      <td>-9.6</td>\n",
       "    </tr>\n",
       "    <tr>\n",
       "      <th>5</th>\n",
       "      <td>-0.4</td>\n",
       "      <td>-2.2</td>\n",
       "      <td>-4.0</td>\n",
       "      <td>-5.8</td>\n",
       "      <td>-7.6</td>\n",
       "      <td>-9.4</td>\n",
       "    </tr>\n",
       "    <tr>\n",
       "      <th>7</th>\n",
       "      <td>-0.2</td>\n",
       "      <td>-2.0</td>\n",
       "      <td>-3.8</td>\n",
       "      <td>-5.6</td>\n",
       "      <td>-7.4</td>\n",
       "      <td>-9.2</td>\n",
       "    </tr>\n",
       "    <tr>\n",
       "      <th>9</th>\n",
       "      <td>0.0</td>\n",
       "      <td>-1.8</td>\n",
       "      <td>-3.6</td>\n",
       "      <td>-5.4</td>\n",
       "      <td>-7.2</td>\n",
       "      <td>-9.0</td>\n",
       "    </tr>\n",
       "    <tr>\n",
       "      <th>11</th>\n",
       "      <td>0.2</td>\n",
       "      <td>-1.6</td>\n",
       "      <td>-3.4</td>\n",
       "      <td>-5.2</td>\n",
       "      <td>-7.0</td>\n",
       "      <td>-8.8</td>\n",
       "    </tr>\n",
       "  </tbody>\n",
       "</table>\n",
       "</div>"
      ],
      "text/plain": [
       "Mark Bet   1    3    5    7    9    11\n",
       "Andy Bet                              \n",
       "1        -0.8 -2.6 -4.4 -6.2 -8.0 -9.8\n",
       "3        -0.6 -2.4 -4.2 -6.0 -7.8 -9.6\n",
       "5        -0.4 -2.2 -4.0 -5.8 -7.6 -9.4\n",
       "7        -0.2 -2.0 -3.8 -5.6 -7.4 -9.2\n",
       "9         0.0 -1.8 -3.6 -5.4 -7.2 -9.0\n",
       "11        0.2 -1.6 -3.4 -5.2 -7.0 -8.8"
      ]
     },
     "metadata": {},
     "output_type": "display_data"
    }
   ],
   "source": [
    "base_bets = np.arange(1,12,2)\n",
    "mark_bet, andy_bet = np.meshgrid(base_bets, base_bets)\n",
    "\n",
    "mark_winnings = .1 * andy_bet + .9 * -mark_bet\n",
    "\n",
    "df = pd.DataFrame(mark_winnings, \n",
    "                  index  =base_bets, \n",
    "                  columns=base_bets)\n",
    "df.index.name = \"Andy Bet\"\n",
    "df.columns.name = \"Mark Bet\"\n",
    "\n",
    "print(\"Best Betting Scenario (for Mark) for These Values:\")\n",
    "print(\"(Andy, Mark):\", df_names(df, simple_argmax(mark_winnings)))\n",
    "\n",
    "display(df)"
   ]
  },
  {
   "cell_type": "code",
   "execution_count": 33,
   "metadata": {},
   "outputs": [
    {
     "data": {
      "text/html": [
       "<div>\n",
       "<style scoped>\n",
       "    .dataframe tbody tr th:only-of-type {\n",
       "        vertical-align: middle;\n",
       "    }\n",
       "\n",
       "    .dataframe tbody tr th {\n",
       "        vertical-align: top;\n",
       "    }\n",
       "\n",
       "    .dataframe thead th {\n",
       "        text-align: right;\n",
       "    }\n",
       "</style>\n",
       "<table border=\"1\" class=\"dataframe\">\n",
       "  <thead>\n",
       "    <tr style=\"text-align: right;\">\n",
       "      <th></th>\n",
       "      <th>Prob(E)</th>\n",
       "      <th>Odds(E:not E)</th>\n",
       "      <th>Log-Odds</th>\n",
       "    </tr>\n",
       "    <tr>\n",
       "      <th>Pct(%)</th>\n",
       "      <th></th>\n",
       "      <th></th>\n",
       "      <th></th>\n",
       "    </tr>\n",
       "  </thead>\n",
       "  <tbody>\n",
       "    <tr>\n",
       "      <th>0.0%</th>\n",
       "      <td>0.000000</td>\n",
       "      <td>0.000000</td>\n",
       "      <td>-inf</td>\n",
       "    </tr>\n",
       "    <tr>\n",
       "      <th>0.1%</th>\n",
       "      <td>0.001000</td>\n",
       "      <td>0.001001</td>\n",
       "      <td>-6.906755</td>\n",
       "    </tr>\n",
       "    <tr>\n",
       "      <th>1.0%</th>\n",
       "      <td>0.010000</td>\n",
       "      <td>0.010101</td>\n",
       "      <td>-4.595120</td>\n",
       "    </tr>\n",
       "    <tr>\n",
       "      <th>5.0%</th>\n",
       "      <td>0.050000</td>\n",
       "      <td>0.052632</td>\n",
       "      <td>-2.944439</td>\n",
       "    </tr>\n",
       "    <tr>\n",
       "      <th>10.0%</th>\n",
       "      <td>0.100000</td>\n",
       "      <td>0.111111</td>\n",
       "      <td>-2.197225</td>\n",
       "    </tr>\n",
       "    <tr>\n",
       "      <th>25.0%</th>\n",
       "      <td>0.250000</td>\n",
       "      <td>0.333333</td>\n",
       "      <td>-1.098612</td>\n",
       "    </tr>\n",
       "    <tr>\n",
       "      <th>33.3%</th>\n",
       "      <td>0.333333</td>\n",
       "      <td>0.500000</td>\n",
       "      <td>-0.693147</td>\n",
       "    </tr>\n",
       "    <tr>\n",
       "      <th>50.0%</th>\n",
       "      <td>0.500000</td>\n",
       "      <td>1.000000</td>\n",
       "      <td>0.000000</td>\n",
       "    </tr>\n",
       "    <tr>\n",
       "      <th>66.7%</th>\n",
       "      <td>0.666667</td>\n",
       "      <td>2.000000</td>\n",
       "      <td>0.693147</td>\n",
       "    </tr>\n",
       "    <tr>\n",
       "      <th>75.0%</th>\n",
       "      <td>0.750000</td>\n",
       "      <td>3.000000</td>\n",
       "      <td>1.098612</td>\n",
       "    </tr>\n",
       "    <tr>\n",
       "      <th>90.0%</th>\n",
       "      <td>0.900000</td>\n",
       "      <td>9.000000</td>\n",
       "      <td>2.197225</td>\n",
       "    </tr>\n",
       "    <tr>\n",
       "      <th>95.0%</th>\n",
       "      <td>0.950000</td>\n",
       "      <td>19.000000</td>\n",
       "      <td>2.944439</td>\n",
       "    </tr>\n",
       "    <tr>\n",
       "      <th>99.0%</th>\n",
       "      <td>0.990000</td>\n",
       "      <td>99.000000</td>\n",
       "      <td>4.595120</td>\n",
       "    </tr>\n",
       "    <tr>\n",
       "      <th>99.9%</th>\n",
       "      <td>0.999000</td>\n",
       "      <td>999.000000</td>\n",
       "      <td>6.906755</td>\n",
       "    </tr>\n",
       "    <tr>\n",
       "      <th>100.0%</th>\n",
       "      <td>1.000000</td>\n",
       "      <td>inf</td>\n",
       "      <td>inf</td>\n",
       "    </tr>\n",
       "  </tbody>\n",
       "</table>\n",
       "</div>"
      ],
      "text/plain": [
       "         Prob(E)  Odds(E:not E)  Log-Odds\n",
       "Pct(%)                                   \n",
       " 0.0%   0.000000       0.000000      -inf\n",
       " 0.1%   0.001000       0.001001 -6.906755\n",
       " 1.0%   0.010000       0.010101 -4.595120\n",
       " 5.0%   0.050000       0.052632 -2.944439\n",
       "10.0%   0.100000       0.111111 -2.197225\n",
       "25.0%   0.250000       0.333333 -1.098612\n",
       "33.3%   0.333333       0.500000 -0.693147\n",
       "50.0%   0.500000       1.000000  0.000000\n",
       "66.7%   0.666667       2.000000  0.693147\n",
       "75.0%   0.750000       3.000000  1.098612\n",
       "90.0%   0.900000       9.000000  2.197225\n",
       "95.0%   0.950000      19.000000  2.944439\n",
       "99.0%   0.990000      99.000000  4.595120\n",
       "99.9%   0.999000     999.000000  6.906755\n",
       "100.0%  1.000000            inf       inf"
      ]
     },
     "execution_count": 33,
     "metadata": {},
     "output_type": "execute_result"
    }
   ],
   "source": [
    "tail_probs = [0.0, .001, .01, .05, .10, .25, 1.0/3.0]\n",
    "\n",
    "lwr_probs = np.array(tail_probs)\n",
    "upr_probs = 1-lwr_probs[::-1]\n",
    "cent_prob = np.array([.5])\n",
    "\n",
    "probs = np.concatenate([lwr_probs, cent_prob, upr_probs])\n",
    "\n",
    "# much better than geterr/seterr/seterr\n",
    "with np.errstate(divide='ignore'):\n",
    "    odds     = probs / (1-probs)\n",
    "    log_odds = np.log(odds)\n",
    "\n",
    "index=[\"{:4.1f}%\".format(p) for p in np.round(probs,3)*100]\n",
    "\n",
    "polo_dict = co.OrderedDict([(\"Prob(E)\",       probs), \n",
    "                            (\"Odds(E:not E)\", odds), \n",
    "                            (\"Log-Odds\",      log_odds)])\n",
    "polo_df = pd.DataFrame(polo_dict, index=index)\n",
    "polo_df.index.name=\"Pct(%)\"\n",
    "polo_df"
   ]
  },
  {
   "cell_type": "markdown",
   "metadata": {},
   "source": [
    "Let's look at the relationship between probabilities and odds."
   ]
  },
  {
   "cell_type": "code",
   "execution_count": 34,
   "metadata": {},
   "outputs": [
    {
     "data": {
      "image/png": "[encoded data removed]",
      "text/plain": [
       "<Figure size 648x216 with 2 Axes>"
      ]
     },
     "metadata": {
      "needs_background": "light"
     },
     "output_type": "display_data"
    }
   ],
   "source": [
    "def helper(ax,x,y,x_name,y_name):\n",
    "    ax.plot(x,y, 'r--o')\n",
    "    ax.set_xlabel(x_name)\n",
    "    ax.set_ylabel(y_name)\n",
    "\n",
    "# note, we trim the values above 90% [index -5] b/c \n",
    "# the scale of the plots gets too compressed\n",
    "# (huh, log-scale takes care of that! funny .....)\n",
    "fig, (ax0, ax1) = plt.subplots(1,2, figsize=(9,3))\n",
    "helper(ax0, probs[:-5], odds[:-5], 'probability', 'odds')\n",
    "helper(ax1, odds[:-5], probs[:-5], 'odds', 'probability')"
   ]
  },
  {
   "cell_type": "code",
   "execution_count": 35,
   "metadata": {},
   "outputs": [
    {
     "data": {
      "image/png": "[encoded data removed]",
      "text/plain": [
       "<Figure size 648x216 with 2 Axes>"
      ]
     },
     "metadata": {
      "needs_background": "light"
     },
     "output_type": "display_data"
    }
   ],
   "source": [
    "fig, (ax0, ax1) = plt.subplots(1,2, figsize=(9,3))\n",
    "helper(ax0, probs, log_odds, 'probability', 'log-odds')\n",
    "helper(ax1, log_odds, probs, 'log-odds', 'probability')"
   ]
  },
  {
   "cell_type": "markdown",
   "metadata": {},
   "source": [
    "One can see the extreme values for each of the probabilities, odds and log-odds."
   ]
  },
  {
   "cell_type": "code",
   "execution_count": 36,
   "metadata": {},
   "outputs": [
    {
     "data": {
      "text/html": [
       "<div>\n",
       "<style scoped>\n",
       "    .dataframe tbody tr th:only-of-type {\n",
       "        vertical-align: middle;\n",
       "    }\n",
       "\n",
       "    .dataframe tbody tr th {\n",
       "        vertical-align: top;\n",
       "    }\n",
       "\n",
       "    .dataframe thead th {\n",
       "        text-align: right;\n",
       "    }\n",
       "</style>\n",
       "<table border=\"1\" class=\"dataframe\">\n",
       "  <thead>\n",
       "    <tr style=\"text-align: right;\">\n",
       "      <th></th>\n",
       "      <th>min</th>\n",
       "      <th>max</th>\n",
       "    </tr>\n",
       "  </thead>\n",
       "  <tbody>\n",
       "    <tr>\n",
       "      <th>Prob(E)</th>\n",
       "      <td>0.0</td>\n",
       "      <td>1.0</td>\n",
       "    </tr>\n",
       "    <tr>\n",
       "      <th>Odds(E:not E)</th>\n",
       "      <td>0.0</td>\n",
       "      <td>inf</td>\n",
       "    </tr>\n",
       "    <tr>\n",
       "      <th>Log-Odds</th>\n",
       "      <td>-inf</td>\n",
       "      <td>inf</td>\n",
       "    </tr>\n",
       "  </tbody>\n",
       "</table>\n",
       "</div>"
      ],
      "text/plain": [
       "               min  max\n",
       "Prob(E)        0.0  1.0\n",
       "Odds(E:not E)  0.0  inf\n",
       "Log-Odds      -inf  inf"
      ]
     },
     "execution_count": 36,
     "metadata": {},
     "output_type": "execute_result"
    }
   ],
   "source": [
    "pd.DataFrame([polo_df.min(axis=0),\n",
    "              polo_df.max(axis=0)], index=['min', 'max']).T"
   ]
  },
  {
   "cell_type": "code",
   "execution_count": 37,
   "metadata": {},
   "outputs": [],
   "source": [
    "def logit(probs):\n",
    "    odds = probs / (1-probs)\n",
    "    log_odds = np.log(odds)\n",
    "    return log_odds"
   ]
  },
  {
   "cell_type": "markdown",
   "metadata": {},
   "source": [
    "The basic model of logistic regression is as follows\n",
    "\n",
    "$$\n",
    "LO = \\sum_{ftrs} w_f x_f.\n",
    "$$\n",
    "\n",
    "\"sklearn\" provides two classes \"LogisticRegression\" and \" SGDclassifier\". \"SGDclassifier\" makes its adjustments by looking at the errors in the current guess and using those to lower the error of the next guess - a kind of smart guess.\n",
    "\n",
    "The option \"saga\" allows us to use a full multiclass model instead of wrapping a binary classification with one-versus-rest."
   ]
  },
  {
   "cell_type": "code",
   "execution_count": 38,
   "metadata": {},
   "outputs": [
    {
     "data": {
      "image/png": "[encoded data removed]",
      "text/plain": [
       "<Figure size 864x288 with 2 Axes>"
      ]
     },
     "metadata": {
      "needs_background": "light"
     },
     "output_type": "display_data"
    }
   ],
   "source": [
    "# Both options come with \"regularization\" turned ON, \n",
    "LogReg = linear_model.LogisticRegression\n",
    "SGD    = linear_model.SGDClassifier\n",
    "logreg_classifiers = {'LogReg(saga)': LogReg(solver='saga', \n",
    "                                             multi_class='multinomial',\n",
    "                                             max_iter=1000),\n",
    "                      'LogReg(SGD)' :  SGD(loss='log', max_iter=1000)}\n",
    "\n",
    "fig, axes = plt.subplots(1,2,figsize=(12,4))\n",
    "axes = axes.flat\n",
    "for (name, mod), ax in zip(logreg_classifiers.items(), axes):\n",
    "    plot_boundary(ax, iris.data, iris.target, mod, [0,1])\n",
    "    ax.set_title(name)\n",
    "plt.tight_layout()"
   ]
  },
  {
   "cell_type": "markdown",
   "metadata": {},
   "source": [
    "**Logistic regression does NOT work well with perfectly separable data**"
   ]
  },
  {
   "cell_type": "code",
   "execution_count": 39,
   "metadata": {},
   "outputs": [
    {
     "data": {
      "image/png": "[encoded data removed]",
      "text/plain": [
       "<Figure size 288x72 with 1 Axes>"
      ]
     },
     "metadata": {
      "needs_background": "light"
     },
     "output_type": "display_data"
    }
   ],
   "source": [
    "fig, ax = plt.subplots(1,1,figsize=(4,1))\n",
    "\n",
    "x = np.array([1,2,5,10]).reshape(-1, 1)\n",
    "y = ['red', 'blue', 'red', 'blue']\n",
    "ax.scatter(x,np.zeros_like(x), c=y);"
   ]
  },
  {
   "cell_type": "code",
   "execution_count": 40,
   "metadata": {},
   "outputs": [
    {
     "name": "stdout",
     "output_type": "stream",
     "text": [
      "Optimization terminated successfully.\n",
      "         Current function value: 0.595215\n",
      "         Iterations 5\n"
     ]
    },
    {
     "data": {
      "text/plain": [
       "array([0.71833641, 0.6583037 , 0.45370855, 0.16965134])"
      ]
     },
     "execution_count": 40,
     "metadata": {},
     "output_type": "execute_result"
    }
   ],
   "source": [
    "# note:  different import source\n",
    "import statsmodels.api as sm\n",
    "\n",
    "x = np.c_[x, np.ones_like(x)] # +1 trick\n",
    "tgt = (np.array(y) == 'red')\n",
    "\n",
    "# sm.Logit is statsmodels name for logistic regression\n",
    "(sm.Logit(tgt, x, method='newton')\n",
    "   .fit()\n",
    "   .predict(x))  # training predictions"
   ]
  },
  {
   "cell_type": "code",
   "execution_count": 41,
   "metadata": {},
   "outputs": [
    {
     "data": {
      "image/png": "[encoded data removed]",
      "text/plain": [
       "<Figure size 288x72 with 1 Axes>"
      ]
     },
     "metadata": {
      "needs_background": "light"
     },
     "output_type": "display_data"
    }
   ],
   "source": [
    "fig, ax = plt.subplots(1,1,figsize=(4,1))\n",
    "\n",
    "x = np.array([1,4,6,10]).reshape(-1, 1)\n",
    "y = ['red', 'red', 'blue', 'blue']\n",
    "ax.scatter(x, np.zeros_like(x), c=y);"
   ]
  },
  {
   "cell_type": "code",
   "execution_count": 42,
   "metadata": {},
   "outputs": [
    {
     "name": "stdout",
     "output_type": "stream",
     "text": [
      "Perfect separation detected, results not available\n"
     ]
    }
   ],
   "source": [
    "x = np.c_[x, np.ones_like(x)] # +1 trick\n",
    "tgt = (np.array(y) == 'red')\n",
    "try:\n",
    "    (sm.Logit(tgt, x, method='newton')\n",
    "       .fit()\n",
    "       .predict(x)) # in-sample predictions\n",
    "except Exception as e:\n",
    "    print(e)"
   ]
  },
  {
   "cell_type": "markdown",
   "metadata": {},
   "source": [
    "**Discriminant analysis (DA)**\n",
    "\n",
    "Discriminant analysis includes a large class of statistical methods. \n",
    "\n",
    "  * They have a clear mathematical connection with NB on continuous features\n",
    "  * Different DA methods make different assumptions\n",
    "  \n",
    "For instance, we have two features:\n",
    "\n",
    "  * Features one and two talk to each other. They care what Class has to say.\n",
    "  * Features one and two talk to each other. They don't care what Class has to say.\n",
    "  * Feature one doesn't talk to Feature two directly. Anything Feature one knows comes from talking to Class. \n",
    "  * Feature one doesn't talk directly to feature two nor does it care what Class has to say. \n",
    "  \n",
    "  This is corresponding to the four methods that we shall learn in the sequel, QDA, LDA, GNB and DLDA.\n",
    "  \n",
    "  Mathematically, how feature one talks to feature two is modeled by covariance."
   ]
  },
  {
   "cell_type": "markdown",
   "metadata": {},
   "source": [
    "**Variance and covariance**\n",
    "\n",
    "Variance:\n",
    "\n",
    "$$\n",
    "Var(X) = \\frac{1}{n}\\sum_{x\\in X}(x-\\overline{X})^2\n",
    "$$"
   ]
  },
  {
   "cell_type": "code",
   "execution_count": 43,
   "metadata": {},
   "outputs": [
    {
     "name": "stdout",
     "output_type": "stream",
     "text": [
      "long way: 46.16\n",
      "built in: 46.16\n",
      "   close: True\n"
     ]
    }
   ],
   "source": [
    "X = np.array([1,3,5,10,20])\n",
    "n = len(X)\n",
    "\n",
    "mean_X = sum(X) / n\n",
    "errors = X - mean_X\n",
    "var_X = np.dot(errors, errors) / n\n",
    "\n",
    "fmt = \"long way: {}\\nbuilt in: {}\\n   close: {}\"\n",
    "print(fmt.format(var_X, \n",
    "                 np.var(X), \n",
    "                 np.allclose(var_X, np.var(X)))) # phew"
   ]
  },
  {
   "cell_type": "markdown",
   "metadata": {},
   "source": [
    "Covariance:\n",
    "\n",
    "$$Cov(X, Y) = \\frac{1}{n} \\sum_{x\\in X\\ y\\in Y}(x-\\overline{X})(y-\\overline{Y})$$"
   ]
  },
  {
   "cell_type": "code",
   "execution_count": 44,
   "metadata": {},
   "outputs": [
    {
     "name": "stdout",
     "output_type": "stream",
     "text": [
      "long way: 21.28\n",
      "built in: 21.28\n"
     ]
    }
   ],
   "source": [
    "X = np.array([1,3,5,10,20])\n",
    "Y = np.array([2,4,1,-2,12])\n",
    "\n",
    "mean_X = sum(X) / n\n",
    "mean_Y = sum(Y) / n\n",
    "\n",
    "errors_X = X - mean_X\n",
    "errors_Y = Y - mean_Y\n",
    "\n",
    "cov_XY = np.dot(errors_X, errors_Y) / n\n",
    "print(\"long way: {:5.2f}\".format(cov_XY))\n",
    "print(\"built in:\", np.cov(X,Y,bias=True)[0,1])\n",
    "# note:\n",
    "# np.cov(X,Y,bias=True) gives [Cov(X,X), Cov(X,Y)\n",
    "#                              Cov(Y,X), Cov(Y,Y)]"
   ]
  },
  {
   "cell_type": "markdown",
   "metadata": {},
   "source": [
    "**Alternative approach**\n",
    "\n",
    "$$\n",
    "Var(X) = \\frac{1}{n^2} \\sum_{i}\\sum_{j>i}(x_i-x_j)^2\n",
    "$$\n",
    "\n",
    "$$\n",
    "Cov(X, Y) = \\frac{1}{n^2} \\sum_{i}\\sum_{j>i} (x_i-x_j)(y_i-y_j)\n",
    "$$\n",
    "\n",
    "or \n",
    "\n",
    "$$\n",
    "Cov（X, Y) = \\frac{1}{2n^2} \\sum_{i,j} (x_i - x_j)(y_i - y_j)\n",
    "$$"
   ]
  },
  {
   "cell_type": "code",
   "execution_count": 45,
   "metadata": {},
   "outputs": [
    {
     "name": "stdout",
     "output_type": "stream",
     "text": [
      "Var(X): 46.16\n"
     ]
    }
   ],
   "source": [
    "var_x = 0\n",
    "n = len(X)\n",
    "for i in range(n):\n",
    "    for j in range(i, n): # rest of Xs\n",
    "        var_x += (X[i] - X[j])**2\n",
    "print(\"Var(X):\", var_x / n**2)"
   ]
  },
  {
   "cell_type": "code",
   "execution_count": 46,
   "metadata": {},
   "outputs": [
    {
     "name": "stdout",
     "output_type": "stream",
     "text": [
      "Cov(X,Y): 21.28\n"
     ]
    }
   ],
   "source": [
    "cov_xy = 0\n",
    "for i in range(len(X)):\n",
    "    for j in range(i, len(X)): # rest of Xs, Ys\n",
    "        cov_xy += (X[i] - X[j])*(Y[i]-Y[j])\n",
    "print(\"Cov(X,Y):\", cov_xy / n**2)"
   ]
  },
  {
   "cell_type": "code",
   "execution_count": 47,
   "metadata": {},
   "outputs": [
    {
     "name": "stdout",
     "output_type": "stream",
     "text": [
      "Cov(X,Y): 21.28\n"
     ]
    }
   ],
   "source": [
    "import itertools as it\n",
    "cov_XY = 0.0\n",
    "xy_pairs = it.product(zip(X,Y), repeat=2)\n",
    "for (x_i, y_i), (x_j,y_j) in xy_pairs:\n",
    "    cov_XY += (x_i - x_j) * (y_i - y_j)\n",
    "print(\"Cov(X,Y):\", cov_XY / (2 * n**2))"
   ]
  },
  {
   "cell_type": "code",
   "execution_count": 48,
   "metadata": {},
   "outputs": [
    {
     "name": "stdout",
     "output_type": "stream",
     "text": [
      "Cov(X,X) == Var(X): 46.16\n"
     ]
    }
   ],
   "source": [
    "cov_XX = 0.0\n",
    "for x_i, x_j in it.combinations(X, 2):\n",
    "    cov_XX += (x_i - x_j)**2\n",
    "print(\"Cov(X,X) == Var(X):\", cov_XX / (n**2))"
   ]
  },
  {
   "cell_type": "code",
   "execution_count": 49,
   "metadata": {},
   "outputs": [
    {
     "name": "stdout",
     "output_type": "stream",
     "text": [
      "Cov(X,Y): 21.28\n"
     ]
    }
   ],
   "source": [
    "cov_XY = 0.0\n",
    "for (x_i, y_i), (x_j,y_j) in it.combinations(zip(X,Y), 2):\n",
    "    cov_XY += (x_i - x_j) * (y_i - y_j)\n",
    "print(\"Cov(X,Y):\", cov_XY / (n**2))"
   ]
  },
  {
   "cell_type": "markdown",
   "metadata": {},
   "source": [
    "**Visualizing covariance**\n",
    "\n",
    "From the following equation\n",
    "\n",
    "$$\n",
    "Cov（X, Y) = \\frac{1}{2n^2} \\sum_{i,j} (x_i - x_j)(y_i - y_j)\n",
    "$$\n",
    "\n",
    "we find that the covariance is the sum of the areas of rectangles or a sum product of distances. In particular, these areas are signed areas.\n",
    "\n",
    "Taking 3 2D-examples, in the following graph, we shall draw the diagonal of each of the three rectangles and we shall color in the total contributions at each region of grid. \n",
    "\n",
    "  * Red indicates a positive overall covariance; \n",
    "  * Blue indicates a negative covariance;\n",
    "  * Darker colors indicate more covariance in either the positive or negative direction;\n",
    "  * White indicates a lack of covariance."
   ]
  },
  {
   "cell_type": "code",
   "execution_count": 50,
   "metadata": {},
   "outputs": [],
   "source": [
    "# color coding\n",
    "# -inf -> 0; 0 -> .5; inf -> 1\n",
    "# slowly at the tails; quickly in the middle (near 0)\n",
    "def sigmoid(x):  \n",
    "    return np.exp(-np.logaddexp(0, -x))\n",
    "\n",
    "# to get the colors we need, we have to build a raw array\n",
    "# with the correct values.  we are really \"drawing\"\n",
    "# inside a numpy array, not on the screen\n",
    "def draw_rectangle(arr, pt1, pt2):\n",
    "    (x1,y1),(x2,y2) = pt1,pt2\n",
    "    delta_x, delta_y = x2-x1, y2-y1\n",
    "    r,c = min(y1,y2), min(x1,x2)  # x,y -> r,c\n",
    "    # assign +/- 1 to each block in the rectangle.  \n",
    "    # total summation value equals area of rectangle (signed for up/down)\n",
    "    arr[r:r+abs(delta_y), \n",
    "        c:c+abs(delta_x)] += np.sign(delta_x * delta_y)"
   ]
  },
  {
   "cell_type": "code",
   "execution_count": 51,
   "metadata": {},
   "outputs": [],
   "source": [
    "# our data points:\n",
    "pts = [(1,1), (3,6), (6,3)]\n",
    "pt_array = np.array(pts, dtype=np.float64)\n",
    "\n",
    "# the array we are \"drawing\" on:\n",
    "draw_arr = np.zeros((10,10))\n",
    "ct = len(pts)\n",
    "c_magic = 1 / ct**2 # without double counting\n",
    "\n",
    "# we use the clever, don't double count method\n",
    "for pt1, pt2 in it.combinations(pts, 2):\n",
    "    draw_rectangle(draw_arr, pt1, pt2)\n",
    "draw_arr *= c_magic"
   ]
  },
  {
   "cell_type": "code",
   "execution_count": 52,
   "metadata": {},
   "outputs": [
    {
     "data": {
      "image/png": "[encoded data removed]",
      "text/plain": [
       "<Figure size 288x216 with 1 Axes>"
      ]
     },
     "metadata": {
      "needs_background": "light"
     },
     "output_type": "display_data"
    }
   ],
   "source": [
    "# display the array we drew\n",
    "from matplotlib import cm\n",
    "fig, ax = plt.subplots(1,1,figsize=(4,3))\n",
    "ax.matshow(sigmoid(draw_arr), origin='lower', cmap=cm.bwr, vmin=0, vmax=1)\n",
    "fig.tight_layout()\n",
    "\n",
    "# show a diagonal across each rectangles\n",
    "# the array elements are centered in each grid square\n",
    "ax.plot([ .5, 2.5],[ .5, 5.5], 'r')  # from 1,1 to 3,6 \n",
    "ax.plot([ .5, 5.5],[ .5, 2.5], 'r')  # from 1,1 to 6,3\n",
    "ax.plot([2.5, 5.5],[5.5, 2.5], 'b');  # from 3,6 to 6,3"
   ]
  },
  {
   "cell_type": "markdown",
   "metadata": {},
   "source": [
    "The total covariance for the pair of points is divided equally among the squares of the rectangle. To get the final color, we add up all the contributions, we've gotten along the way. Finally, we divide by the number of points squared."
   ]
  },
  {
   "cell_type": "code",
   "execution_count": 53,
   "metadata": {},
   "outputs": [
    {
     "name": "stdout",
     "output_type": "stream",
     "text": [
      "Cov(x,y) -   from numpy: 1.22\n",
      "Cov(x,y) - our long way: 1.22\n"
     ]
    }
   ],
   "source": [
    "np_cov = np.cov(pt_array[:,0], pt_array[:,1], bias=True)[0,1]\n",
    "print(\"Cov(x,y) -   from numpy: {:4.2f}\".format(np_cov))\n",
    "\n",
    "# show the covariance, as calculated from our drawing\n",
    "print(\"Cov(x,y) - our long way: {:4.2f}\".format(draw_arr.sum()))"
   ]
  },
  {
   "cell_type": "code",
   "execution_count": 54,
   "metadata": {},
   "outputs": [
    {
     "data": {
      "image/png": "[encoded data removed]",
      "text/plain": [
       "<Figure size 324x324 with 2 Axes>"
      ]
     },
     "metadata": {
      "needs_background": "light"
     },
     "output_type": "display_data"
    }
   ],
   "source": [
    "plt.figure(figsize=(4.5,4.5))\n",
    "hm = sns.heatmap(draw_arr, center=0, \n",
    "                 square=True, annot=True, \n",
    "                 cmap='bwr', fmt=\".1f\")\n",
    "hm.invert_yaxis()\n",
    "hm.tick_params(bottom=False, left=False)"
   ]
  },
  {
   "cell_type": "markdown",
   "metadata": {},
   "source": [
    "If we have more than two features, the correlation between features are described by the so-called covariance matrix. This is a symmetric matrix."
   ]
  },
  {
   "cell_type": "code",
   "execution_count": 55,
   "metadata": {},
   "outputs": [
    {
     "data": {
      "text/html": [
       "<div>\n",
       "<style scoped>\n",
       "    .dataframe tbody tr th:only-of-type {\n",
       "        vertical-align: middle;\n",
       "    }\n",
       "\n",
       "    .dataframe tbody tr th {\n",
       "        vertical-align: top;\n",
       "    }\n",
       "\n",
       "    .dataframe thead th {\n",
       "        text-align: right;\n",
       "    }\n",
       "</style>\n",
       "<table border=\"1\" class=\"dataframe\">\n",
       "  <thead>\n",
       "    <tr style=\"text-align: right;\">\n",
       "      <th></th>\n",
       "      <th>X</th>\n",
       "      <th>Y</th>\n",
       "      <th>Z</th>\n",
       "    </tr>\n",
       "    <tr>\n",
       "      <th>examples</th>\n",
       "      <th></th>\n",
       "      <th></th>\n",
       "      <th></th>\n",
       "    </tr>\n",
       "  </thead>\n",
       "  <tbody>\n",
       "    <tr>\n",
       "      <th>0</th>\n",
       "      <td>1</td>\n",
       "      <td>1</td>\n",
       "      <td>10</td>\n",
       "    </tr>\n",
       "    <tr>\n",
       "      <th>1</th>\n",
       "      <td>3</td>\n",
       "      <td>6</td>\n",
       "      <td>5</td>\n",
       "    </tr>\n",
       "    <tr>\n",
       "      <th>2</th>\n",
       "      <td>6</td>\n",
       "      <td>3</td>\n",
       "      <td>1</td>\n",
       "    </tr>\n",
       "  </tbody>\n",
       "</table>\n",
       "</div>"
      ],
      "text/plain": [
       "          X  Y   Z\n",
       "examples          \n",
       "0         1  1  10\n",
       "1         3  6   5\n",
       "2         6  3   1"
      ]
     },
     "metadata": {},
     "output_type": "display_data"
    },
    {
     "name": "stdout",
     "output_type": "stream",
     "text": [
      "Covariance:\n"
     ]
    },
    {
     "data": {
      "text/html": [
       "<div>\n",
       "<style scoped>\n",
       "    .dataframe tbody tr th:only-of-type {\n",
       "        vertical-align: middle;\n",
       "    }\n",
       "\n",
       "    .dataframe tbody tr th {\n",
       "        vertical-align: top;\n",
       "    }\n",
       "\n",
       "    .dataframe thead th {\n",
       "        text-align: right;\n",
       "    }\n",
       "</style>\n",
       "<table border=\"1\" class=\"dataframe\">\n",
       "  <thead>\n",
       "    <tr style=\"text-align: right;\">\n",
       "      <th></th>\n",
       "      <th>X</th>\n",
       "      <th>Y</th>\n",
       "      <th>Z</th>\n",
       "    </tr>\n",
       "  </thead>\n",
       "  <tbody>\n",
       "    <tr>\n",
       "      <th>X</th>\n",
       "      <td>6.333333</td>\n",
       "      <td>1.833333</td>\n",
       "      <td>-11.166667</td>\n",
       "    </tr>\n",
       "    <tr>\n",
       "      <th>Y</th>\n",
       "      <td>1.833333</td>\n",
       "      <td>6.333333</td>\n",
       "      <td>-5.166667</td>\n",
       "    </tr>\n",
       "    <tr>\n",
       "      <th>Z</th>\n",
       "      <td>-11.166667</td>\n",
       "      <td>-5.166667</td>\n",
       "      <td>20.333333</td>\n",
       "    </tr>\n",
       "  </tbody>\n",
       "</table>\n",
       "</div>"
      ],
      "text/plain": [
       "           X         Y          Z\n",
       "X   6.333333  1.833333 -11.166667\n",
       "Y   1.833333  6.333333  -5.166667\n",
       "Z -11.166667 -5.166667  20.333333"
      ]
     },
     "metadata": {},
     "output_type": "display_data"
    }
   ],
   "source": [
    "data = pd.DataFrame({'X':[ 1, 3, 6], \n",
    "                     'Y':[ 1, 6, 3], \n",
    "                     'Z':[10, 5, 1]})\n",
    "data.index.name = 'examples'\n",
    "\n",
    "# it's not critical to these examples, but Panda's cov is \n",
    "# \"unbiased\" and we've been working with \"biased\" cov.\n",
    "# see EOC notes for details\n",
    "display(data)\n",
    "print(\"Covariance:\")\n",
    "display(data.cov())"
   ]
  },
  {
   "cell_type": "code",
   "execution_count": 56,
   "metadata": {},
   "outputs": [
    {
     "data": {
      "text/html": [
       "<div>\n",
       "<style scoped>\n",
       "    .dataframe tbody tr th:only-of-type {\n",
       "        vertical-align: middle;\n",
       "    }\n",
       "\n",
       "    .dataframe tbody tr th {\n",
       "        vertical-align: top;\n",
       "    }\n",
       "\n",
       "    .dataframe thead th {\n",
       "        text-align: right;\n",
       "    }\n",
       "</style>\n",
       "<table border=\"1\" class=\"dataframe\">\n",
       "  <thead>\n",
       "    <tr style=\"text-align: right;\">\n",
       "      <th></th>\n",
       "      <th>x</th>\n",
       "      <th>y</th>\n",
       "      <th>z</th>\n",
       "    </tr>\n",
       "    <tr>\n",
       "      <th>examples</th>\n",
       "      <th></th>\n",
       "      <th></th>\n",
       "      <th></th>\n",
       "    </tr>\n",
       "  </thead>\n",
       "  <tbody>\n",
       "    <tr>\n",
       "      <th>0</th>\n",
       "      <td>3</td>\n",
       "      <td>9</td>\n",
       "      <td>1</td>\n",
       "    </tr>\n",
       "    <tr>\n",
       "      <th>1</th>\n",
       "      <td>6</td>\n",
       "      <td>6</td>\n",
       "      <td>4</td>\n",
       "    </tr>\n",
       "    <tr>\n",
       "      <th>2</th>\n",
       "      <td>3</td>\n",
       "      <td>3</td>\n",
       "      <td>7</td>\n",
       "    </tr>\n",
       "    <tr>\n",
       "      <th>3</th>\n",
       "      <td>4</td>\n",
       "      <td>0</td>\n",
       "      <td>0</td>\n",
       "    </tr>\n",
       "  </tbody>\n",
       "</table>\n",
       "</div>"
      ],
      "text/plain": [
       "          x  y  z\n",
       "examples         \n",
       "0         3  9  1\n",
       "1         6  6  4\n",
       "2         3  3  7\n",
       "3         4  0  0"
      ]
     },
     "metadata": {},
     "output_type": "display_data"
    },
    {
     "name": "stdout",
     "output_type": "stream",
     "text": [
      "Covariance:\n"
     ]
    },
    {
     "data": {
      "text/html": [
       "<div>\n",
       "<style scoped>\n",
       "    .dataframe tbody tr th:only-of-type {\n",
       "        vertical-align: middle;\n",
       "    }\n",
       "\n",
       "    .dataframe tbody tr th {\n",
       "        vertical-align: top;\n",
       "    }\n",
       "\n",
       "    .dataframe thead th {\n",
       "        text-align: right;\n",
       "    }\n",
       "</style>\n",
       "<table border=\"1\" class=\"dataframe\">\n",
       "  <thead>\n",
       "    <tr style=\"text-align: right;\">\n",
       "      <th></th>\n",
       "      <th>x</th>\n",
       "      <th>y</th>\n",
       "      <th>z</th>\n",
       "    </tr>\n",
       "  </thead>\n",
       "  <tbody>\n",
       "    <tr>\n",
       "      <th>x</th>\n",
       "      <td>2.0</td>\n",
       "      <td>0.0</td>\n",
       "      <td>0.0</td>\n",
       "    </tr>\n",
       "    <tr>\n",
       "      <th>y</th>\n",
       "      <td>0.0</td>\n",
       "      <td>15.0</td>\n",
       "      <td>0.0</td>\n",
       "    </tr>\n",
       "    <tr>\n",
       "      <th>z</th>\n",
       "      <td>0.0</td>\n",
       "      <td>0.0</td>\n",
       "      <td>10.0</td>\n",
       "    </tr>\n",
       "  </tbody>\n",
       "</table>\n",
       "</div>"
      ],
      "text/plain": [
       "     x     y     z\n",
       "x  2.0   0.0   0.0\n",
       "y  0.0  15.0   0.0\n",
       "z  0.0   0.0  10.0"
      ]
     },
     "metadata": {},
     "output_type": "display_data"
    }
   ],
   "source": [
    "data = pd.DataFrame({'x':[ 3, 6, 3, 4], \n",
    "                     'y':[ 9, 6, 3, 0],\n",
    "                     'z':[ 1, 4, 7, 0]})\n",
    "data.index.name = 'examples'\n",
    "display(data)\n",
    "print(\"Covariance:\")\n",
    "display(data.cov()) # biased covariance, see EOC"
   ]
  },
  {
   "cell_type": "markdown",
   "metadata": {},
   "source": [
    "The following graph can illustrate wether we get a consistent \"pattern\", that is, \"if $X$ goes up, $Y$ always goes up\"."
   ]
  },
  {
   "cell_type": "code",
   "execution_count": 57,
   "metadata": {},
   "outputs": [
    {
     "data": {
      "image/png": "[encoded data removed]",
      "text/plain": [
       "<Figure size 288x216 with 1 Axes>"
      ]
     },
     "metadata": {
      "needs_background": "light"
     },
     "output_type": "display_data"
    }
   ],
   "source": [
    "fig, ax = plt.subplots(1,1,figsize=(4,3))\n",
    "data.plot(ax=ax)\n",
    "ax.vlines([0,1,2,3], 0, 10, colors=\".5\")\n",
    "\n",
    "ax.legend(loc='lower center', ncol=3)\n",
    "\n",
    "plt.box(False)\n",
    "ax.set_xticks([0,1,2,3])\n",
    "ax.set_ylabel(\"values\");"
   ]
  },
  {
   "cell_type": "markdown",
   "metadata": {},
   "source": [
    "**QDA, LDA, GNB and DLDA**\n",
    "\n",
    "These techniques make different assumptions about the covariances.\n",
    "\n",
    "  * QDA (quadratic) assumes that covariance between different features are unconstrained\n",
    "  * LDA (linear) assumes in addition that covariance between features are the same regardless of the target class. \n",
    "  * GNB (Gaussian) assumes in addition that the covariance between features are all 0\n",
    "  * DLDA (Diagonal Linear) assumes in addition that the covariances among all the classes are the same\n",
    "  \n",
    "  That is \n",
    "  \n",
    "  * QDA: possibly different covariance matrix per class $\\Sigma_c$\n",
    "  * LDA: same covariance matrix for all classes $\\Sigma_c \\equiv \\Sigma$\n",
    "  * GNB: different diagonal covariance matrices per class $\\Sigma_c = diag_c$\n",
    "  * DLDA: same diagonal covariance matrix for all classes $\\Sigma_c\\equiv diag$"
   ]
  },
  {
   "cell_type": "markdown",
   "metadata": {},
   "source": [
    "**Performance of DA**"
   ]
  },
  {
   "cell_type": "code",
   "execution_count": 58,
   "metadata": {},
   "outputs": [],
   "source": [
    "from sklearn.base import BaseEstimator, ClassifierMixin\n",
    "class DLDA(BaseEstimator, ClassifierMixin):\n",
    "    def __init__(self):\n",
    "        pass\n",
    "\n",
    "    def fit(self, train_ftrs, train_tgts):\n",
    "        self.uniq_tgts = np.unique(train_tgts)\n",
    "        self.means, self.priors = {}, {}\n",
    "\n",
    "        self.var  = train_ftrs.var(axis=0) # biased\n",
    "        for tgt in self.uniq_tgts:\n",
    "            cases = train_ftrs[train_tgts==tgt]\n",
    "            self.means[tgt]  = cases.mean(axis=0)\n",
    "            self.priors[tgt] = len(cases) / len(train_ftrs)\n",
    "        return self\n",
    "\n",
    "    def predict(self, test_ftrs):\n",
    "        disc = np.empty((test_ftrs.shape[0],\n",
    "                         self.uniq_tgts.shape[0]))\n",
    "        for tgt in self.uniq_tgts:\n",
    "            # technically, the maha_dist is sqrt() of this:\n",
    "            mahalanobis_dists = ((test_ftrs - self.means[tgt])**2 /\n",
    "                                 self.var)\n",
    "            disc[:,tgt] = (-np.sum(mahalanobis_dists, axis=1) +\n",
    "                           2 * np.log(self.priors[tgt]))\n",
    "        return np.argmax(disc,axis=1)"
   ]
  },
  {
   "cell_type": "code",
   "execution_count": 59,
   "metadata": {},
   "outputs": [
    {
     "data": {
      "image/png": "[encoded data removed]",
      "text/plain": [
       "<Figure size 324x324 with 4 Axes>"
      ]
     },
     "metadata": {
      "needs_background": "light"
     },
     "output_type": "display_data"
    }
   ],
   "source": [
    "from sklearn import discriminant_analysis\n",
    "qda  = discriminant_analysis.QuadraticDiscriminantAnalysis()\n",
    "lda  = discriminant_analysis.LinearDiscriminantAnalysis()\n",
    "nb   = naive_bayes.GaussianNB()\n",
    "dlda = DLDA()\n",
    "\n",
    "da_methods = [qda, lda, nb, dlda]\n",
    "names = [\"QDA\", \"LDA\", \"NB\", \"DLDA\"]\n",
    "    \n",
    "fig, axes = plt.subplots(2,2, figsize=(4.5, 4.5),\n",
    "                         sharex=True, sharey = True)\n",
    "for ax, model, name in zip(axes.flat, da_methods, names):\n",
    "    preds = (model.fit(iris_train_ftrs, iris_train_tgt)\n",
    "                  .predict(iris_test_ftrs))\n",
    "    cm = metrics.confusion_matrix(iris_test_tgt, preds)\n",
    "    sns.heatmap(cm, annot=True, cbar=False, ax=ax)\n",
    "    ax.set_title(name)\n",
    "\n",
    "axes[0,0].set_ylabel('Actual')\n",
    "axes[1,0].set_xlabel('Predicted');"
   ]
  },
  {
   "cell_type": "markdown",
   "metadata": {},
   "source": [
    "LDA seems to be the best. Occam's razor: fewest assumption that get the job done. "
   ]
  },
  {
   "cell_type": "code",
   "execution_count": 60,
   "metadata": {},
   "outputs": [
    {
     "data": {
      "image/png": "[encoded data removed]",
      "text/plain": [
       "<Figure size 324x324 with 4 Axes>"
      ]
     },
     "metadata": {
      "needs_background": "light"
     },
     "output_type": "display_data"
    }
   ],
   "source": [
    "fig, axes = plt.subplots(2,2,figsize=(4.5, 4.5))\n",
    "axes = axes.flat\n",
    "\n",
    "for model, ax, name in zip(da_methods, axes, names):\n",
    "    # plot boundary only uses the specified (two) dimensions to predict\n",
    "    plot_boundary(ax, iris.data, iris.target, model, [0,1])\n",
    "    ax.set_title(name)\n",
    "plt.tight_layout()"
   ]
  },
  {
   "cell_type": "markdown",
   "metadata": {},
   "source": [
    "**Discussion on assumptions**\n",
    "\n",
    "A problem : if $y>x$."
   ]
  },
  {
   "cell_type": "code",
   "execution_count": 61,
   "metadata": {},
   "outputs": [],
   "source": [
    "def get_model_name(model):\n",
    "    ' return name of model (class) as a string '\n",
    "    return str(model.__class__).split('.')[-1][:-2]"
   ]
  },
  {
   "cell_type": "code",
   "execution_count": 62,
   "metadata": {},
   "outputs": [
    {
     "data": {
      "image/png": "[encoded data removed]",
      "text/plain": [
       "<Figure size 648x216 with 3 Axes>"
      ]
     },
     "metadata": {
      "needs_background": "light"
     },
     "output_type": "display_data"
    }
   ],
   "source": [
    "ftrs = np.mgrid[1:10, 1:10].T.reshape(-1,2)\n",
    "tgt  = ftrs[:,0] > ftrs[:,1]\n",
    "\n",
    "fig, axes = plt.subplots(1,3,figsize=(9,3))\n",
    "axes = axes.flat\n",
    "\n",
    "svc = svm.SVC(kernel='linear')\n",
    "dt_shallow  = tree.DecisionTreeClassifier(max_depth=3)\n",
    "dt_deep     = tree.DecisionTreeClassifier()\n",
    "models = [svc, dt_shallow, dt_deep]\n",
    "\n",
    "for model, ax in zip(models, axes):\n",
    "    # plot boundary only uses the specified (two) dimensions to predict\n",
    "    plot_boundary(ax, ftrs, tgt, model, [0,1])\n",
    "    ax.set_title(get_model_name(model))\n",
    "plt.tight_layout()"
   ]
  },
  {
   "cell_type": "markdown",
   "metadata": {},
   "source": [
    "**Comparison of classifiers**"
   ]
  },
  {
   "cell_type": "code",
   "execution_count": 63,
   "metadata": {},
   "outputs": [],
   "source": [
    "digits = datasets.load_digits()"
   ]
  },
  {
   "cell_type": "code",
   "execution_count": 64,
   "metadata": {},
   "outputs": [
    {
     "name": "stdout",
     "output_type": "stream",
     "text": [
      "Shape: (8, 8)\n"
     ]
    },
    {
     "data": {
      "image/png": "[encoded data removed]",
      "text/plain": [
       "<Figure size 216x216 with 1 Axes>"
      ]
     },
     "metadata": {
      "needs_background": "light"
     },
     "output_type": "display_data"
    }
   ],
   "source": [
    "print(\"Shape:\", digits.images[0].shape)\n",
    "plt.figure(figsize=(3,3))\n",
    "plt.imshow(digits.images[0], cmap='gray');"
   ]
  },
  {
   "cell_type": "code",
   "execution_count": 65,
   "metadata": {},
   "outputs": [
    {
     "data": {
      "text/plain": [
       "0"
      ]
     },
     "execution_count": 65,
     "metadata": {},
     "output_type": "execute_result"
    }
   ],
   "source": [
    "digits.target[0]"
   ]
  },
  {
   "cell_type": "code",
   "execution_count": 66,
   "metadata": {},
   "outputs": [],
   "source": [
    "from sklearn import model_selection as skms\n",
    "classifier_parade = \\\n",
    "    {'LogReg(1)' : linear_model.LogisticRegression(max_iter=1000),\n",
    "     'LogReg(2)' : linear_model.SGDClassifier(loss='log',\n",
    "                                              max_iter=1000),\n",
    "\n",
    "     'QDA' : discriminant_analysis.QuadraticDiscriminantAnalysis(),\n",
    "     'LDA' : discriminant_analysis.LinearDiscriminantAnalysis(),\n",
    "     'GNB' : naive_bayes.GaussianNB(),\n",
    "\n",
    "     'SVC(1)' : svm.SVC(kernel=\"linear\"),\n",
    "     'SVC(2)' : svm.LinearSVC(),\n",
    "\n",
    "     'DTC' : tree.DecisionTreeClassifier(),\n",
    "     '5NN-C' : neighbors.KNeighborsClassifier(),\n",
    "     '10NN-C' : neighbors.KNeighborsClassifier(n_neighbors=10)}\n",
    "\n",
    "\n",
    "\n",
    "baseline = dummy.DummyClassifier(strategy=\"uniform\")\n",
    "\n",
    "base_score = skms.cross_val_score(baseline, digits.data, digits.target==1, \n",
    "                                  cv=10, scoring = 'average_precision')"
   ]
  },
  {
   "cell_type": "code",
   "execution_count": 67,
   "metadata": {},
   "outputs": [
    {
     "name": "stderr",
     "output_type": "stream",
     "text": [
      "/opt/anaconda3/lib/python3.7/site-packages/sklearn/linear_model/_logistic.py:940: ConvergenceWarning: lbfgs failed to converge (status=1):\n",
      "STOP: TOTAL NO. of ITERATIONS REACHED LIMIT.\n",
      "\n",
      "Increase the number of iterations (max_iter) or scale the data as shown in:\n",
      "    https://scikit-learn.org/stable/modules/preprocessing.html\n",
      "Please also refer to the documentation for alternative solver options:\n",
      "    https://scikit-learn.org/stable/modules/linear_model.html#logistic-regression\n",
      "  extra_warning_msg=_LOGISTIC_SOLVER_CONVERGENCE_MSG)\n",
      "/opt/anaconda3/lib/python3.7/site-packages/sklearn/linear_model/_logistic.py:940: ConvergenceWarning: lbfgs failed to converge (status=1):\n",
      "STOP: TOTAL NO. of ITERATIONS REACHED LIMIT.\n",
      "\n",
      "Increase the number of iterations (max_iter) or scale the data as shown in:\n",
      "    https://scikit-learn.org/stable/modules/preprocessing.html\n",
      "Please also refer to the documentation for alternative solver options:\n",
      "    https://scikit-learn.org/stable/modules/linear_model.html#logistic-regression\n",
      "  extra_warning_msg=_LOGISTIC_SOLVER_CONVERGENCE_MSG)\n",
      "/opt/anaconda3/lib/python3.7/site-packages/sklearn/linear_model/_logistic.py:940: ConvergenceWarning: lbfgs failed to converge (status=1):\n",
      "STOP: TOTAL NO. of ITERATIONS REACHED LIMIT.\n",
      "\n",
      "Increase the number of iterations (max_iter) or scale the data as shown in:\n",
      "    https://scikit-learn.org/stable/modules/preprocessing.html\n",
      "Please also refer to the documentation for alternative solver options:\n",
      "    https://scikit-learn.org/stable/modules/linear_model.html#logistic-regression\n",
      "  extra_warning_msg=_LOGISTIC_SOLVER_CONVERGENCE_MSG)\n",
      "/opt/anaconda3/lib/python3.7/site-packages/sklearn/linear_model/_logistic.py:940: ConvergenceWarning: lbfgs failed to converge (status=1):\n",
      "STOP: TOTAL NO. of ITERATIONS REACHED LIMIT.\n",
      "\n",
      "Increase the number of iterations (max_iter) or scale the data as shown in:\n",
      "    https://scikit-learn.org/stable/modules/preprocessing.html\n",
      "Please also refer to the documentation for alternative solver options:\n",
      "    https://scikit-learn.org/stable/modules/linear_model.html#logistic-regression\n",
      "  extra_warning_msg=_LOGISTIC_SOLVER_CONVERGENCE_MSG)\n",
      "/opt/anaconda3/lib/python3.7/site-packages/sklearn/linear_model/_logistic.py:940: ConvergenceWarning: lbfgs failed to converge (status=1):\n",
      "STOP: TOTAL NO. of ITERATIONS REACHED LIMIT.\n",
      "\n",
      "Increase the number of iterations (max_iter) or scale the data as shown in:\n",
      "    https://scikit-learn.org/stable/modules/preprocessing.html\n",
      "Please also refer to the documentation for alternative solver options:\n",
      "    https://scikit-learn.org/stable/modules/linear_model.html#logistic-regression\n",
      "  extra_warning_msg=_LOGISTIC_SOLVER_CONVERGENCE_MSG)\n",
      "/opt/anaconda3/lib/python3.7/site-packages/sklearn/linear_model/_logistic.py:940: ConvergenceWarning: lbfgs failed to converge (status=1):\n",
      "STOP: TOTAL NO. of ITERATIONS REACHED LIMIT.\n",
      "\n",
      "Increase the number of iterations (max_iter) or scale the data as shown in:\n",
      "    https://scikit-learn.org/stable/modules/preprocessing.html\n",
      "Please also refer to the documentation for alternative solver options:\n",
      "    https://scikit-learn.org/stable/modules/linear_model.html#logistic-regression\n",
      "  extra_warning_msg=_LOGISTIC_SOLVER_CONVERGENCE_MSG)\n",
      "/opt/anaconda3/lib/python3.7/site-packages/sklearn/linear_model/_logistic.py:940: ConvergenceWarning: lbfgs failed to converge (status=1):\n",
      "STOP: TOTAL NO. of ITERATIONS REACHED LIMIT.\n",
      "\n",
      "Increase the number of iterations (max_iter) or scale the data as shown in:\n",
      "    https://scikit-learn.org/stable/modules/preprocessing.html\n",
      "Please also refer to the documentation for alternative solver options:\n",
      "    https://scikit-learn.org/stable/modules/linear_model.html#logistic-regression\n",
      "  extra_warning_msg=_LOGISTIC_SOLVER_CONVERGENCE_MSG)\n",
      "/opt/anaconda3/lib/python3.7/site-packages/sklearn/linear_model/_logistic.py:940: ConvergenceWarning: lbfgs failed to converge (status=1):\n",
      "STOP: TOTAL NO. of ITERATIONS REACHED LIMIT.\n",
      "\n",
      "Increase the number of iterations (max_iter) or scale the data as shown in:\n",
      "    https://scikit-learn.org/stable/modules/preprocessing.html\n",
      "Please also refer to the documentation for alternative solver options:\n",
      "    https://scikit-learn.org/stable/modules/linear_model.html#logistic-regression\n",
      "  extra_warning_msg=_LOGISTIC_SOLVER_CONVERGENCE_MSG)\n",
      "/opt/anaconda3/lib/python3.7/site-packages/sklearn/linear_model/_logistic.py:940: ConvergenceWarning: lbfgs failed to converge (status=1):\n",
      "STOP: TOTAL NO. of ITERATIONS REACHED LIMIT.\n",
      "\n",
      "Increase the number of iterations (max_iter) or scale the data as shown in:\n",
      "    https://scikit-learn.org/stable/modules/preprocessing.html\n",
      "Please also refer to the documentation for alternative solver options:\n",
      "    https://scikit-learn.org/stable/modules/linear_model.html#logistic-regression\n",
      "  extra_warning_msg=_LOGISTIC_SOLVER_CONVERGENCE_MSG)\n",
      "/opt/anaconda3/lib/python3.7/site-packages/sklearn/linear_model/_logistic.py:940: ConvergenceWarning: lbfgs failed to converge (status=1):\n",
      "STOP: TOTAL NO. of ITERATIONS REACHED LIMIT.\n",
      "\n",
      "Increase the number of iterations (max_iter) or scale the data as shown in:\n",
      "    https://scikit-learn.org/stable/modules/preprocessing.html\n",
      "Please also refer to the documentation for alternative solver options:\n",
      "    https://scikit-learn.org/stable/modules/linear_model.html#logistic-regression\n",
      "  extra_warning_msg=_LOGISTIC_SOLVER_CONVERGENCE_MSG)\n",
      "/opt/anaconda3/lib/python3.7/site-packages/sklearn/discriminant_analysis.py:691: UserWarning: Variables are collinear\n",
      "  warnings.warn(\"Variables are collinear\")\n",
      "/opt/anaconda3/lib/python3.7/site-packages/sklearn/discriminant_analysis.py:691: UserWarning: Variables are collinear\n",
      "  warnings.warn(\"Variables are collinear\")\n",
      "/opt/anaconda3/lib/python3.7/site-packages/sklearn/discriminant_analysis.py:691: UserWarning: Variables are collinear\n",
      "  warnings.warn(\"Variables are collinear\")\n",
      "/opt/anaconda3/lib/python3.7/site-packages/sklearn/discriminant_analysis.py:691: UserWarning: Variables are collinear\n",
      "  warnings.warn(\"Variables are collinear\")\n",
      "/opt/anaconda3/lib/python3.7/site-packages/sklearn/discriminant_analysis.py:691: UserWarning: Variables are collinear\n",
      "  warnings.warn(\"Variables are collinear\")\n",
      "/opt/anaconda3/lib/python3.7/site-packages/sklearn/discriminant_analysis.py:691: UserWarning: Variables are collinear\n",
      "  warnings.warn(\"Variables are collinear\")\n",
      "/opt/anaconda3/lib/python3.7/site-packages/sklearn/discriminant_analysis.py:691: UserWarning: Variables are collinear\n",
      "  warnings.warn(\"Variables are collinear\")\n",
      "/opt/anaconda3/lib/python3.7/site-packages/sklearn/discriminant_analysis.py:691: UserWarning: Variables are collinear\n",
      "  warnings.warn(\"Variables are collinear\")\n",
      "/opt/anaconda3/lib/python3.7/site-packages/sklearn/discriminant_analysis.py:691: UserWarning: Variables are collinear\n",
      "  warnings.warn(\"Variables are collinear\")\n",
      "/opt/anaconda3/lib/python3.7/site-packages/sklearn/discriminant_analysis.py:691: UserWarning: Variables are collinear\n",
      "  warnings.warn(\"Variables are collinear\")\n",
      "/opt/anaconda3/lib/python3.7/site-packages/sklearn/svm/_base.py:947: ConvergenceWarning: Liblinear failed to converge, increase the number of iterations.\n",
      "  \"the number of iterations.\", ConvergenceWarning)\n",
      "/opt/anaconda3/lib/python3.7/site-packages/sklearn/svm/_base.py:947: ConvergenceWarning: Liblinear failed to converge, increase the number of iterations.\n",
      "  \"the number of iterations.\", ConvergenceWarning)\n",
      "/opt/anaconda3/lib/python3.7/site-packages/sklearn/svm/_base.py:947: ConvergenceWarning: Liblinear failed to converge, increase the number of iterations.\n",
      "  \"the number of iterations.\", ConvergenceWarning)\n",
      "/opt/anaconda3/lib/python3.7/site-packages/sklearn/svm/_base.py:947: ConvergenceWarning: Liblinear failed to converge, increase the number of iterations.\n",
      "  \"the number of iterations.\", ConvergenceWarning)\n",
      "/opt/anaconda3/lib/python3.7/site-packages/sklearn/svm/_base.py:947: ConvergenceWarning: Liblinear failed to converge, increase the number of iterations.\n",
      "  \"the number of iterations.\", ConvergenceWarning)\n",
      "/opt/anaconda3/lib/python3.7/site-packages/sklearn/svm/_base.py:947: ConvergenceWarning: Liblinear failed to converge, increase the number of iterations.\n",
      "  \"the number of iterations.\", ConvergenceWarning)\n",
      "/opt/anaconda3/lib/python3.7/site-packages/sklearn/svm/_base.py:947: ConvergenceWarning: Liblinear failed to converge, increase the number of iterations.\n",
      "  \"the number of iterations.\", ConvergenceWarning)\n",
      "/opt/anaconda3/lib/python3.7/site-packages/sklearn/svm/_base.py:947: ConvergenceWarning: Liblinear failed to converge, increase the number of iterations.\n",
      "  \"the number of iterations.\", ConvergenceWarning)\n",
      "/opt/anaconda3/lib/python3.7/site-packages/sklearn/svm/_base.py:947: ConvergenceWarning: Liblinear failed to converge, increase the number of iterations.\n",
      "  \"the number of iterations.\", ConvergenceWarning)\n"
     ]
    },
    {
     "name": "stderr",
     "output_type": "stream",
     "text": [
      "/opt/anaconda3/lib/python3.7/site-packages/sklearn/svm/_base.py:947: ConvergenceWarning: Liblinear failed to converge, increase the number of iterations.\n",
      "  \"the number of iterations.\", ConvergenceWarning)\n"
     ]
    }
   ],
   "source": [
    "for name, model in classifier_parade.items():    \n",
    "    cv_scores = skms.cross_val_score(model, \n",
    "                                     digits.data, digits.target, \n",
    "                                     cv=10, \n",
    "                                     scoring='f1_macro')"
   ]
  },
  {
   "cell_type": "code",
   "execution_count": 73,
   "metadata": {
    "scrolled": false
   },
   "outputs": [
    {
     "name": "stderr",
     "output_type": "stream",
     "text": [
      "/opt/anaconda3/lib/python3.7/site-packages/sklearn/linear_model/_logistic.py:940: ConvergenceWarning: lbfgs failed to converge (status=1):\n",
      "STOP: TOTAL NO. of ITERATIONS REACHED LIMIT.\n",
      "\n",
      "Increase the number of iterations (max_iter) or scale the data as shown in:\n",
      "    https://scikit-learn.org/stable/modules/preprocessing.html\n",
      "Please also refer to the documentation for alternative solver options:\n",
      "    https://scikit-learn.org/stable/modules/linear_model.html#logistic-regression\n",
      "  extra_warning_msg=_LOGISTIC_SOLVER_CONVERGENCE_MSG)\n",
      "/opt/anaconda3/lib/python3.7/site-packages/sklearn/linear_model/_logistic.py:940: ConvergenceWarning: lbfgs failed to converge (status=1):\n",
      "STOP: TOTAL NO. of ITERATIONS REACHED LIMIT.\n",
      "\n",
      "Increase the number of iterations (max_iter) or scale the data as shown in:\n",
      "    https://scikit-learn.org/stable/modules/preprocessing.html\n",
      "Please also refer to the documentation for alternative solver options:\n",
      "    https://scikit-learn.org/stable/modules/linear_model.html#logistic-regression\n",
      "  extra_warning_msg=_LOGISTIC_SOLVER_CONVERGENCE_MSG)\n",
      "/opt/anaconda3/lib/python3.7/site-packages/sklearn/linear_model/_logistic.py:940: ConvergenceWarning: lbfgs failed to converge (status=1):\n",
      "STOP: TOTAL NO. of ITERATIONS REACHED LIMIT.\n",
      "\n",
      "Increase the number of iterations (max_iter) or scale the data as shown in:\n",
      "    https://scikit-learn.org/stable/modules/preprocessing.html\n",
      "Please also refer to the documentation for alternative solver options:\n",
      "    https://scikit-learn.org/stable/modules/linear_model.html#logistic-regression\n",
      "  extra_warning_msg=_LOGISTIC_SOLVER_CONVERGENCE_MSG)\n",
      "/opt/anaconda3/lib/python3.7/site-packages/sklearn/linear_model/_logistic.py:940: ConvergenceWarning: lbfgs failed to converge (status=1):\n",
      "STOP: TOTAL NO. of ITERATIONS REACHED LIMIT.\n",
      "\n",
      "Increase the number of iterations (max_iter) or scale the data as shown in:\n",
      "    https://scikit-learn.org/stable/modules/preprocessing.html\n",
      "Please also refer to the documentation for alternative solver options:\n",
      "    https://scikit-learn.org/stable/modules/linear_model.html#logistic-regression\n",
      "  extra_warning_msg=_LOGISTIC_SOLVER_CONVERGENCE_MSG)\n",
      "/opt/anaconda3/lib/python3.7/site-packages/sklearn/linear_model/_logistic.py:940: ConvergenceWarning: lbfgs failed to converge (status=1):\n",
      "STOP: TOTAL NO. of ITERATIONS REACHED LIMIT.\n",
      "\n",
      "Increase the number of iterations (max_iter) or scale the data as shown in:\n",
      "    https://scikit-learn.org/stable/modules/preprocessing.html\n",
      "Please also refer to the documentation for alternative solver options:\n",
      "    https://scikit-learn.org/stable/modules/linear_model.html#logistic-regression\n",
      "  extra_warning_msg=_LOGISTIC_SOLVER_CONVERGENCE_MSG)\n",
      "/opt/anaconda3/lib/python3.7/site-packages/sklearn/linear_model/_logistic.py:940: ConvergenceWarning: lbfgs failed to converge (status=1):\n",
      "STOP: TOTAL NO. of ITERATIONS REACHED LIMIT.\n",
      "\n",
      "Increase the number of iterations (max_iter) or scale the data as shown in:\n",
      "    https://scikit-learn.org/stable/modules/preprocessing.html\n",
      "Please also refer to the documentation for alternative solver options:\n",
      "    https://scikit-learn.org/stable/modules/linear_model.html#logistic-regression\n",
      "  extra_warning_msg=_LOGISTIC_SOLVER_CONVERGENCE_MSG)\n",
      "/opt/anaconda3/lib/python3.7/site-packages/sklearn/linear_model/_logistic.py:940: ConvergenceWarning: lbfgs failed to converge (status=1):\n",
      "STOP: TOTAL NO. of ITERATIONS REACHED LIMIT.\n",
      "\n",
      "Increase the number of iterations (max_iter) or scale the data as shown in:\n",
      "    https://scikit-learn.org/stable/modules/preprocessing.html\n",
      "Please also refer to the documentation for alternative solver options:\n",
      "    https://scikit-learn.org/stable/modules/linear_model.html#logistic-regression\n",
      "  extra_warning_msg=_LOGISTIC_SOLVER_CONVERGENCE_MSG)\n",
      "/opt/anaconda3/lib/python3.7/site-packages/sklearn/linear_model/_logistic.py:940: ConvergenceWarning: lbfgs failed to converge (status=1):\n",
      "STOP: TOTAL NO. of ITERATIONS REACHED LIMIT.\n",
      "\n",
      "Increase the number of iterations (max_iter) or scale the data as shown in:\n",
      "    https://scikit-learn.org/stable/modules/preprocessing.html\n",
      "Please also refer to the documentation for alternative solver options:\n",
      "    https://scikit-learn.org/stable/modules/linear_model.html#logistic-regression\n",
      "  extra_warning_msg=_LOGISTIC_SOLVER_CONVERGENCE_MSG)\n",
      "/opt/anaconda3/lib/python3.7/site-packages/sklearn/linear_model/_logistic.py:940: ConvergenceWarning: lbfgs failed to converge (status=1):\n",
      "STOP: TOTAL NO. of ITERATIONS REACHED LIMIT.\n",
      "\n",
      "Increase the number of iterations (max_iter) or scale the data as shown in:\n",
      "    https://scikit-learn.org/stable/modules/preprocessing.html\n",
      "Please also refer to the documentation for alternative solver options:\n",
      "    https://scikit-learn.org/stable/modules/linear_model.html#logistic-regression\n",
      "  extra_warning_msg=_LOGISTIC_SOLVER_CONVERGENCE_MSG)\n",
      "/opt/anaconda3/lib/python3.7/site-packages/sklearn/linear_model/_logistic.py:940: ConvergenceWarning: lbfgs failed to converge (status=1):\n",
      "STOP: TOTAL NO. of ITERATIONS REACHED LIMIT.\n",
      "\n",
      "Increase the number of iterations (max_iter) or scale the data as shown in:\n",
      "    https://scikit-learn.org/stable/modules/preprocessing.html\n",
      "Please also refer to the documentation for alternative solver options:\n",
      "    https://scikit-learn.org/stable/modules/linear_model.html#logistic-regression\n",
      "  extra_warning_msg=_LOGISTIC_SOLVER_CONVERGENCE_MSG)\n",
      "/opt/anaconda3/lib/python3.7/site-packages/sklearn/discriminant_analysis.py:691: UserWarning: Variables are collinear\n",
      "  warnings.warn(\"Variables are collinear\")\n",
      "/opt/anaconda3/lib/python3.7/site-packages/sklearn/discriminant_analysis.py:691: UserWarning: Variables are collinear\n",
      "  warnings.warn(\"Variables are collinear\")\n",
      "/opt/anaconda3/lib/python3.7/site-packages/sklearn/discriminant_analysis.py:691: UserWarning: Variables are collinear\n",
      "  warnings.warn(\"Variables are collinear\")\n",
      "/opt/anaconda3/lib/python3.7/site-packages/sklearn/discriminant_analysis.py:691: UserWarning: Variables are collinear\n",
      "  warnings.warn(\"Variables are collinear\")\n",
      "/opt/anaconda3/lib/python3.7/site-packages/sklearn/discriminant_analysis.py:691: UserWarning: Variables are collinear\n",
      "  warnings.warn(\"Variables are collinear\")\n",
      "/opt/anaconda3/lib/python3.7/site-packages/sklearn/discriminant_analysis.py:691: UserWarning: Variables are collinear\n",
      "  warnings.warn(\"Variables are collinear\")\n",
      "/opt/anaconda3/lib/python3.7/site-packages/sklearn/discriminant_analysis.py:691: UserWarning: Variables are collinear\n",
      "  warnings.warn(\"Variables are collinear\")\n",
      "/opt/anaconda3/lib/python3.7/site-packages/sklearn/discriminant_analysis.py:691: UserWarning: Variables are collinear\n",
      "  warnings.warn(\"Variables are collinear\")\n",
      "/opt/anaconda3/lib/python3.7/site-packages/sklearn/discriminant_analysis.py:691: UserWarning: Variables are collinear\n",
      "  warnings.warn(\"Variables are collinear\")\n",
      "/opt/anaconda3/lib/python3.7/site-packages/sklearn/discriminant_analysis.py:691: UserWarning: Variables are collinear\n",
      "  warnings.warn(\"Variables are collinear\")\n",
      "/opt/anaconda3/lib/python3.7/site-packages/sklearn/svm/_base.py:947: ConvergenceWarning: Liblinear failed to converge, increase the number of iterations.\n",
      "  \"the number of iterations.\", ConvergenceWarning)\n",
      "/opt/anaconda3/lib/python3.7/site-packages/sklearn/svm/_base.py:947: ConvergenceWarning: Liblinear failed to converge, increase the number of iterations.\n",
      "  \"the number of iterations.\", ConvergenceWarning)\n",
      "/opt/anaconda3/lib/python3.7/site-packages/sklearn/svm/_base.py:947: ConvergenceWarning: Liblinear failed to converge, increase the number of iterations.\n",
      "  \"the number of iterations.\", ConvergenceWarning)\n",
      "/opt/anaconda3/lib/python3.7/site-packages/sklearn/svm/_base.py:947: ConvergenceWarning: Liblinear failed to converge, increase the number of iterations.\n",
      "  \"the number of iterations.\", ConvergenceWarning)\n",
      "/opt/anaconda3/lib/python3.7/site-packages/sklearn/svm/_base.py:947: ConvergenceWarning: Liblinear failed to converge, increase the number of iterations.\n",
      "  \"the number of iterations.\", ConvergenceWarning)\n",
      "/opt/anaconda3/lib/python3.7/site-packages/sklearn/svm/_base.py:947: ConvergenceWarning: Liblinear failed to converge, increase the number of iterations.\n",
      "  \"the number of iterations.\", ConvergenceWarning)\n",
      "/opt/anaconda3/lib/python3.7/site-packages/sklearn/svm/_base.py:947: ConvergenceWarning: Liblinear failed to converge, increase the number of iterations.\n",
      "  \"the number of iterations.\", ConvergenceWarning)\n",
      "/opt/anaconda3/lib/python3.7/site-packages/sklearn/svm/_base.py:947: ConvergenceWarning: Liblinear failed to converge, increase the number of iterations.\n",
      "  \"the number of iterations.\", ConvergenceWarning)\n",
      "/opt/anaconda3/lib/python3.7/site-packages/sklearn/svm/_base.py:947: ConvergenceWarning: Liblinear failed to converge, increase the number of iterations.\n",
      "  \"the number of iterations.\", ConvergenceWarning)\n"
     ]
    },
    {
     "name": "stderr",
     "output_type": "stream",
     "text": [
      "/opt/anaconda3/lib/python3.7/site-packages/sklearn/svm/_base.py:947: ConvergenceWarning: Liblinear failed to converge, increase the number of iterations.\n",
      "  \"the number of iterations.\", ConvergenceWarning)\n"
     ]
    },
    {
     "data": {
      "image/png": "[encoded data removed]",
      "text/plain": [
       "<Figure size 432x288 with 1 Axes>"
      ]
     },
     "metadata": {
      "needs_background": "light"
     },
     "output_type": "display_data"
    }
   ],
   "source": [
    "%matplotlib inline\n",
    "fig, ax = plt.subplots(figsize=(6,4))\n",
    "ax.plot(base_score, label='base')\n",
    "for name, model in classifier_parade.items():    \n",
    "    cv_scores = skms.cross_val_score(model, \n",
    "                                     digits.data, digits.target, \n",
    "                                     cv=10, \n",
    "                                     scoring='f1_macro')\n",
    "    my_lbl = \"{} {:.3f}\".format(name, cv_scores.mean())\n",
    "    ax.plot(cv_scores, label=my_lbl)\n",
    "ax.set_xlim(0,10)\n",
    "ax.set_ylim(0.0, 1.1)\n",
    "#plt.xticks(np.linspace(0, 10, 5))\n",
    "ax.set_xlabel('Fold')\n",
    "ax.set_ylabel('Accuracy')\n",
    "ax.legend(loc='lower center', ncol=2);"
   ]
  },
  {
   "cell_type": "markdown",
   "metadata": {},
   "source": [
    "Ex1. Prove that the alternative way to computer the variance and the covariance of examples is equivalent to the classical way."
   ]
  },
  {
   "cell_type": "markdown",
   "metadata": {},
   "source": [
    "Ex2. Prove that the DLDA model have linear borders between classes (consider the simplest case: 2D input features, 2 classes, the conditional distribution of the input features given classes is gaussian)."
   ]
  },
  {
   "cell_type": "code",
   "execution_count": null,
   "metadata": {},
   "outputs": [],
   "source": []
  }
 ],
 "metadata": {
  "kernelspec": {
   "display_name": "Python 3",
   "language": "python",
   "name": "python3"
  },
  "language_info": {
   "codemirror_mode": {
    "name": "ipython",
    "version": 3
   },
   "file_extension": ".py",
   "mimetype": "text/x-python",
   "name": "python",
   "nbconvert_exporter": "python",
   "pygments_lexer": "ipython3",
   "version": "3.7.6"
  }
 },
 "nbformat": 4,
 "nbformat_minor": 2
}
