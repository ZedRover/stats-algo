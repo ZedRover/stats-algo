{
 "cells": [
  {
   "cell_type": "code",
   "execution_count": 8,
   "metadata": {},
   "outputs": [],
   "source": [
    "import pandas as pd\n",
    "import numpy as np\n",
    "import seaborn as sns\n",
    "import matplotlib # A must \n",
    "import matplotlib.pyplot as plt\n",
    "from sklearn import datasets\n",
    "from sklearn import model_selection as skms\n",
    "from sklearn import metrics\n",
    "from sklearn import neighbors\n",
    "from sklearn import naive_bayes\n",
    "from sklearn import linear_model\n",
    "from time import sleep\n",
    "diabetes = datasets.load_diabetes()\n",
    "%matplotlib inline"
   ]
  },
  {
   "attachments": {},
   "cell_type": "markdown",
   "metadata": {},
   "source": [
    "**Diabetes dataset**\n",
    "\n",
    "This version has been modified from raw numerical features by subtracting the mean and dividing them by the standard deviation of each column (standardizing).\n",
    "\n",
    "  * mean 0\n",
    "  * variance 1\n",
    "  \n",
    "Otherwise, the data is different in feature ranges. Height: 50-100inches; Incomes: 20,000-50,000$\n",
    "\n",
    "The categorial values in diabets were recorded as {0, 1} numerically, and then standardized. (negative ages, {-0.0507, -0.0446} as {True, False})"
   ]
  },
  {
   "cell_type": "code",
   "execution_count": 69,
   "metadata": {},
   "outputs": [],
   "source": [
    "diabetes = datasets.load_diabetes()\n",
    "\n",
    "tts = skms.train_test_split(diabetes.data,\n",
    "                            diabetes.target, \n",
    "                            test_size=.25)\n",
    "\n",
    "(diabetes_train_ftrs, diabetes_test_ftrs, \n",
    " diabetes_train_tgt,  diabetes_test_tgt) = tts"
   ]
  },
  {
   "cell_type": "code",
   "execution_count": 70,
   "metadata": {},
   "outputs": [
    {
     "data": {
      "text/html": [
       "<div>\n",
       "<style scoped>\n",
       "    .dataframe tbody tr th:only-of-type {\n",
       "        vertical-align: middle;\n",
       "    }\n",
       "\n",
       "    .dataframe tbody tr th {\n",
       "        vertical-align: top;\n",
       "    }\n",
       "\n",
       "    .dataframe thead th {\n",
       "        text-align: right;\n",
       "    }\n",
       "</style>\n",
       "<table border=\"1\" class=\"dataframe\">\n",
       "  <thead>\n",
       "    <tr style=\"text-align: right;\">\n",
       "      <th></th>\n",
       "      <th>age</th>\n",
       "      <th>sex</th>\n",
       "      <th>bmi</th>\n",
       "      <th>bp</th>\n",
       "      <th>s1</th>\n",
       "      <th>s2</th>\n",
       "      <th>s3</th>\n",
       "      <th>s4</th>\n",
       "      <th>s5</th>\n",
       "      <th>s6</th>\n",
       "      <th>target</th>\n",
       "    </tr>\n",
       "  </thead>\n",
       "  <tbody>\n",
       "    <tr>\n",
       "      <th>0</th>\n",
       "      <td>0.038076</td>\n",
       "      <td>0.050680</td>\n",
       "      <td>0.061696</td>\n",
       "      <td>0.021872</td>\n",
       "      <td>-0.044223</td>\n",
       "      <td>-0.034821</td>\n",
       "      <td>-0.043401</td>\n",
       "      <td>-0.002592</td>\n",
       "      <td>0.019908</td>\n",
       "      <td>-0.017646</td>\n",
       "      <td>151.0</td>\n",
       "    </tr>\n",
       "    <tr>\n",
       "      <th>1</th>\n",
       "      <td>-0.001882</td>\n",
       "      <td>-0.044642</td>\n",
       "      <td>-0.051474</td>\n",
       "      <td>-0.026328</td>\n",
       "      <td>-0.008449</td>\n",
       "      <td>-0.019163</td>\n",
       "      <td>0.074412</td>\n",
       "      <td>-0.039493</td>\n",
       "      <td>-0.068330</td>\n",
       "      <td>-0.092204</td>\n",
       "      <td>75.0</td>\n",
       "    </tr>\n",
       "    <tr>\n",
       "      <th>2</th>\n",
       "      <td>0.085299</td>\n",
       "      <td>0.050680</td>\n",
       "      <td>0.044451</td>\n",
       "      <td>-0.005671</td>\n",
       "      <td>-0.045599</td>\n",
       "      <td>-0.034194</td>\n",
       "      <td>-0.032356</td>\n",
       "      <td>-0.002592</td>\n",
       "      <td>0.002864</td>\n",
       "      <td>-0.025930</td>\n",
       "      <td>141.0</td>\n",
       "    </tr>\n",
       "    <tr>\n",
       "      <th>3</th>\n",
       "      <td>-0.089063</td>\n",
       "      <td>-0.044642</td>\n",
       "      <td>-0.011595</td>\n",
       "      <td>-0.036656</td>\n",
       "      <td>0.012191</td>\n",
       "      <td>0.024991</td>\n",
       "      <td>-0.036038</td>\n",
       "      <td>0.034309</td>\n",
       "      <td>0.022692</td>\n",
       "      <td>-0.009362</td>\n",
       "      <td>206.0</td>\n",
       "    </tr>\n",
       "    <tr>\n",
       "      <th>4</th>\n",
       "      <td>0.005383</td>\n",
       "      <td>-0.044642</td>\n",
       "      <td>-0.036385</td>\n",
       "      <td>0.021872</td>\n",
       "      <td>0.003935</td>\n",
       "      <td>0.015596</td>\n",
       "      <td>0.008142</td>\n",
       "      <td>-0.002592</td>\n",
       "      <td>-0.031991</td>\n",
       "      <td>-0.046641</td>\n",
       "      <td>135.0</td>\n",
       "    </tr>\n",
       "  </tbody>\n",
       "</table>\n",
       "</div>"
      ],
      "text/plain": [
       "        age       sex       bmi        bp        s1        s2        s3  \\\n",
       "0  0.038076  0.050680  0.061696  0.021872 -0.044223 -0.034821 -0.043401   \n",
       "1 -0.001882 -0.044642 -0.051474 -0.026328 -0.008449 -0.019163  0.074412   \n",
       "2  0.085299  0.050680  0.044451 -0.005671 -0.045599 -0.034194 -0.032356   \n",
       "3 -0.089063 -0.044642 -0.011595 -0.036656  0.012191  0.024991 -0.036038   \n",
       "4  0.005383 -0.044642 -0.036385  0.021872  0.003935  0.015596  0.008142   \n",
       "\n",
       "         s4        s5        s6  target  \n",
       "0 -0.002592  0.019908 -0.017646   151.0  \n",
       "1 -0.039493 -0.068330 -0.092204    75.0  \n",
       "2 -0.002592  0.002864 -0.025930   141.0  \n",
       "3  0.034309  0.022692 -0.009362   206.0  \n",
       "4 -0.002592 -0.031991 -0.046641   135.0  "
      ]
     },
     "execution_count": 70,
     "metadata": {},
     "output_type": "execute_result"
    }
   ],
   "source": [
    "diabetes_df = pd.DataFrame(diabetes.data, \n",
    "                           columns=diabetes.feature_names)\n",
    "diabetes_df['target'] = diabetes.target\n",
    "diabetes_df.head()"
   ]
  },
  {
   "cell_type": "code",
   "execution_count": 11,
   "metadata": {},
   "outputs": [
    {
     "data": {
      "image/png": "[encoded data removed]",
      "text/plain": [
       "<Figure size 578.5x432 with 20 Axes>"
      ]
     },
     "metadata": {
      "needs_background": "light"
     },
     "output_type": "display_data"
    }
   ],
   "source": [
    "sns.pairplot(diabetes_df[['age', 'sex', 'bmi', 'bp', 's1']], \n",
    "             height=1.5, hue='sex', plot_kws={'alpha':.2});\n",
    "#bmi: body mass index (body fat percentage)\n",
    "#bp: blood pressure\n",
    "#s1-s6 blood serum measurement\n",
    "#target is a numerical score measuring the progression of a patient's illness"
   ]
  },
  {
   "cell_type": "markdown",
   "metadata": {},
   "source": [
    "**KNN-R**\n",
    "\n",
    "Recall that to establish the NN classification we follow the following steps:\n",
    "\n",
    "  * Describe similarity\n",
    "  * Pick several of the most-similar examples \n",
    "  * Combine the picked examples into a single answer\n",
    "  \n",
    "In KNN-C, to give a prediction on classification, each picked example votes equally.\n",
    "\n",
    "Now the task at hand is to calculate a single summary value from a set of values. This value is called *statistics*. If you are trying to represent, or to summarize, the overall data set with one of these statistics, this statistic is called a summary statistic. "
   ]
  },
  {
   "cell_type": "code",
   "execution_count": 14,
   "metadata": {},
   "outputs": [
    {
     "name": "stdout",
     "output_type": "stream",
     "text": [
      ".. _diabetes_dataset:\n",
      "\n",
      "Diabetes dataset\n",
      "----------------\n",
      "\n",
      "Ten baseline variables, age, sex, body mass index, average blood\n",
      "pressure, and six blood serum measurements were obtained for each of n =\n",
      "442 diabetes patients, as well as the response of interest, a\n",
      "quantitative measure of disease progression one year after baseline.\n",
      "\n",
      "**Data Set Characteristics:**\n",
      "\n",
      "  :Number of Instances: 442\n",
      "\n",
      "  :Number of Attributes: First 10 columns are numeric predictive values\n",
      "\n",
      "  :Target: Column 11 is a quantitative measure of disease progression one year after baseline\n",
      "\n",
      "  :Attribute Information:\n",
      "      - Age\n",
      "      - Sex\n",
      "      - Body mass index\n",
      "      - Average blood pressure\n",
      "      - S1\n",
      "      - S2\n",
      "      - S3\n",
      "      - S4\n",
      "      - S5\n",
      "      - S6\n",
      "\n",
      "Note: Each of these 10 feature variables have been mean centered and scaled by the standard deviation times `n_samples` (i.e. the sum of squares of each column totals 1).\n",
      "\n",
      "Source URL:\n",
      "https://www4.stat.ncsu.edu/~boos/var.select/diabetes.html\n",
      "\n",
      "For more information see:\n",
      "Bradley Efron, Trevor Hastie, Iain Johnstone and Robert Tibshirani (2004) \"Least Angle Regression,\" Annals of Statistics (with discussion), 407-499.\n",
      "(https://web.stanford.edu/~hastie/Papers/LARS/LeastAngle_2002.pdf)\n"
     ]
    }
   ],
   "source": [
    "print(diabetes.DESCR)"
   ]
  },
  {
   "cell_type": "markdown",
   "metadata": {},
   "source": [
    "**Mean or median?**\n",
    "\n",
    "  * Mean: average or arithmetic mean\n",
    "  * Median: middle number (if the group is written in order)\n",
    "  \n",
    "The median is more robust measure of the center than the mean, in the case that an outlier comes to the data"
   ]
  },
  {
   "cell_type": "code",
   "execution_count": 71,
   "metadata": {},
   "outputs": [
    {
     "name": "stdout",
     "output_type": "stream",
     "text": [
      "no outlier\n",
      "8.0 8.0\n",
      "with outlier\n",
      "11.57 8.0\n"
     ]
    }
   ],
   "source": [
    "values = np.array([1, 3, 5, 8, 11, 13, 15])\n",
    "print(\"no outlier\")\n",
    "print(np.mean(values), \n",
    "      np.median(values))\n",
    "\n",
    "values_with_outlier = np.array([1, 3, 5, 8, 11, 13, 40])\n",
    "print(\"with outlier\")\n",
    "print(\"%5.2f\" % np.mean(values_with_outlier), \n",
    "      np.median(values_with_outlier))"
   ]
  },
  {
   "cell_type": "markdown",
   "metadata": {},
   "source": [
    "**Personalized weights**\n",
    "\n",
    "Beyond the mean and the median, there are many possible ways to combine the nearest-neighbor answers into an answer. For instance, a weighted mean given by the weights\n",
    "\n",
    "$$\n",
    "\\frac{\\frac{1}{{\\rm distance_i}}}{\\sum_i \\frac{1}{{\\rm distance_i}}}.\n",
    "$$"
   ]
  },
  {
   "cell_type": "code",
   "execution_count": 72,
   "metadata": {},
   "outputs": [
    {
     "data": {
      "text/plain": [
       "array([0.2, 0.4, 0.4])"
      ]
     },
     "execution_count": 72,
     "metadata": {},
     "output_type": "execute_result"
    }
   ],
   "source": [
    "distances = np.array([4.0, 2.0, 2.0])\n",
    "closeness = 1.0 / distances              # element-by-element division\n",
    "weights = closeness / np.sum(closeness)  # normalize sum to one\n",
    "weights"
   ]
  },
  {
   "cell_type": "code",
   "execution_count": 73,
   "metadata": {},
   "outputs": [
    {
     "name": "stdout",
     "output_type": "stream",
     "text": [
      "Mean: 6.0\n",
      "Weighted Mean: 6.4\n"
     ]
    }
   ],
   "source": [
    "values = np.array([4,6,8])\n",
    "\n",
    "mean = np.mean(values)\n",
    "wgt_mean = np.dot(values, weights)# scalar product of two vector (product of two matrices)\n",
    "\n",
    "print(\"Mean:\", mean)\n",
    "print(\"Weighted Mean:\", wgt_mean)"
   ]
  },
  {
   "cell_type": "code",
   "execution_count": 75,
   "metadata": {},
   "outputs": [
    {
     "name": "stdout",
     "output_type": "stream",
     "text": [
      "4528.6296296296305\n"
     ]
    }
   ],
   "source": [
    "knn   = neighbors.KNeighborsRegressor(n_neighbors=3)\n",
    "fit   = knn.fit(diabetes_train_ftrs, diabetes_train_tgt)\n",
    "preds = fit.predict(diabetes_test_ftrs)\n",
    "\n",
    "# evaluate our predictions against the held-back testing targets\n",
    "knn_err=metrics.mean_squared_error(diabetes_test_tgt, preds)\n",
    "# neighbors.KNeighborsRegressor?\n",
    "print(knn_err)"
   ]
  },
  {
   "cell_type": "code",
   "execution_count": 76,
   "metadata": {},
   "outputs": [
    {
     "data": {
      "text/plain": [
       "67.29509365198648"
      ]
     },
     "execution_count": 76,
     "metadata": {},
     "output_type": "execute_result"
    }
   ],
   "source": [
    "np.sqrt(knn_err)"
   ]
  },
  {
   "cell_type": "code",
   "execution_count": 77,
   "metadata": {},
   "outputs": [
    {
     "data": {
      "text/plain": [
       "321.0"
      ]
     },
     "execution_count": 77,
     "metadata": {},
     "output_type": "execute_result"
    }
   ],
   "source": [
    "diabetes_df['target'].max() - diabetes_df['target'].min()"
   ]
  },
  {
   "cell_type": "markdown",
   "metadata": {},
   "source": [
    "The target values span about 300 units and the prediction are off in an average sense by 60 units. Nice???"
   ]
  },
  {
   "cell_type": "markdown",
   "metadata": {},
   "source": [
    "**Linear regression** Drawing a line through the dots. \n",
    "\n",
    "The errors are the difference between the predicted results and the data points. We shall calculate a few values from the errors:\n",
    "\n",
    "  * Sum of errors\n",
    "  \n",
    "  $$\n",
    "  \\sum^N_{i=1} (y_i - \\widehat{y}_i)\n",
    "  $$\n",
    "  \n",
    "  * Sum of squares of errors\n",
    "  \n",
    "  $$\n",
    "  \\sum^N_{i=1} |y_i - \\widehat{y}_i|^2\n",
    "  $$\n",
    "  \n",
    "  * Squre root of the sum of squared errors (distance)\n",
    "  \n",
    "  $$\n",
    "  \\sqrt{{\\rm Sum\\ of\\ squares\\ of\\ errors}}\n",
    "  $$\n",
    "  \n",
    "**Fitting with a line $y=c$**"
   ]
  },
  {
   "cell_type": "code",
   "execution_count": 79,
   "metadata": {},
   "outputs": [],
   "source": [
    "def axis_helper(ax, lims):\n",
    "    'clean up axes'\n",
    "    ax.set_xlim(lims); ax.set_xticks([])\n",
    "    ax.set_ylim(lims); ax.set_yticks([])\n",
    "    ax.set_aspect('equal')"
   ]
  },
  {
   "cell_type": "code",
   "execution_count": 80,
   "metadata": {},
   "outputs": [],
   "source": [
    "# our data is very simple:  two (x,y) points\n",
    "D = np.array([[3,5],\n",
    "              [4,2]])\n",
    "\n",
    "# we'll take x as our \"input\" and y as our \"output\"\n",
    "x,y = D[:,0], D[:,1]"
   ]
  },
  {
   "cell_type": "code",
   "execution_count": 81,
   "metadata": {},
   "outputs": [
    {
     "data": {
      "image/png": "[encoded data removed]",
      "text/plain": [
       "<Figure size 720x360 with 6 Axes>"
      ]
     },
     "metadata": {},
     "output_type": "display_data"
    }
   ],
   "source": [
    "horizontal_lines = np.array([1, 2, 3, 3.5, 4, 5])\n",
    "\n",
    "results = []\n",
    "fig, axes = plt.subplots(1,6,figsize=(10,5))\n",
    "for h_line, ax in zip(horizontal_lines, axes.flat):\n",
    "    # styling\n",
    "    axis_helper(ax, (0,6))\n",
    "    ax.set_title(str(h_line))\n",
    "    \n",
    "    # plot the data\n",
    "    ax.plot(x,y, 'ro')\n",
    "    \n",
    "    # plot the prediction line\n",
    "    ax.axhline(h_line, color='y') # ax coords; defaults to 100%    \n",
    "\n",
    "    # plot the errors\n",
    "    # the horizontal line *is* our prediction; renaming for clarity\n",
    "    predictions = h_line \n",
    "    ax.vlines(x, predictions, y)\n",
    "    \n",
    "    # calculate the error amounts and their sum-of-squares\n",
    "    errors = y - predictions\n",
    "    sse = np.dot(errors, errors)\n",
    "\n",
    "    \n",
    "    # put together some results in a tuple\n",
    "    results.append((predictions, \n",
    "                    errors, errors.sum(), \n",
    "                    sse, np.sqrt(sse)))"
   ]
  },
  {
   "cell_type": "code",
   "execution_count": 82,
   "metadata": {},
   "outputs": [
    {
     "data": {
      "text/html": [
       "<div>\n",
       "<style scoped>\n",
       "    .dataframe tbody tr th:only-of-type {\n",
       "        vertical-align: middle;\n",
       "    }\n",
       "\n",
       "    .dataframe tbody tr th {\n",
       "        vertical-align: top;\n",
       "    }\n",
       "\n",
       "    .dataframe thead th {\n",
       "        text-align: right;\n",
       "    }\n",
       "</style>\n",
       "<table border=\"1\" class=\"dataframe\">\n",
       "  <thead>\n",
       "    <tr style=\"text-align: right;\">\n",
       "      <th></th>\n",
       "      <th>Errors</th>\n",
       "      <th>Sum</th>\n",
       "      <th>SSE</th>\n",
       "      <th>Distance</th>\n",
       "    </tr>\n",
       "    <tr>\n",
       "      <th>Prediction</th>\n",
       "      <th></th>\n",
       "      <th></th>\n",
       "      <th></th>\n",
       "      <th></th>\n",
       "    </tr>\n",
       "  </thead>\n",
       "  <tbody>\n",
       "    <tr>\n",
       "      <th>1.0</th>\n",
       "      <td>[4.0, 1.0]</td>\n",
       "      <td>5.0</td>\n",
       "      <td>17.0</td>\n",
       "      <td>4.123106</td>\n",
       "    </tr>\n",
       "    <tr>\n",
       "      <th>2.0</th>\n",
       "      <td>[3.0, 0.0]</td>\n",
       "      <td>3.0</td>\n",
       "      <td>9.0</td>\n",
       "      <td>3.000000</td>\n",
       "    </tr>\n",
       "    <tr>\n",
       "      <th>3.0</th>\n",
       "      <td>[2.0, -1.0]</td>\n",
       "      <td>1.0</td>\n",
       "      <td>5.0</td>\n",
       "      <td>2.236068</td>\n",
       "    </tr>\n",
       "    <tr>\n",
       "      <th>3.5</th>\n",
       "      <td>[1.5, -1.5]</td>\n",
       "      <td>0.0</td>\n",
       "      <td>4.5</td>\n",
       "      <td>2.121320</td>\n",
       "    </tr>\n",
       "    <tr>\n",
       "      <th>4.0</th>\n",
       "      <td>[1.0, -2.0]</td>\n",
       "      <td>-1.0</td>\n",
       "      <td>5.0</td>\n",
       "      <td>2.236068</td>\n",
       "    </tr>\n",
       "    <tr>\n",
       "      <th>5.0</th>\n",
       "      <td>[0.0, -3.0]</td>\n",
       "      <td>-3.0</td>\n",
       "      <td>9.0</td>\n",
       "      <td>3.000000</td>\n",
       "    </tr>\n",
       "  </tbody>\n",
       "</table>\n",
       "</div>"
      ],
      "text/plain": [
       "                 Errors  Sum   SSE  Distance\n",
       "Prediction                                  \n",
       "1.0          [4.0, 1.0]  5.0  17.0  4.123106\n",
       "2.0          [3.0, 0.0]  3.0   9.0  3.000000\n",
       "3.0         [2.0, -1.0]  1.0   5.0  2.236068\n",
       "3.5         [1.5, -1.5]  0.0   4.5  2.121320\n",
       "4.0         [1.0, -2.0] -1.0   5.0  2.236068\n",
       "5.0         [0.0, -3.0] -3.0   9.0  3.000000"
      ]
     },
     "metadata": {},
     "output_type": "display_data"
    }
   ],
   "source": [
    "col_labels = \"Prediction\", \"Errors\", \"Sum\", \"SSE\", \"Distance\"\n",
    "display(pd.DataFrame.from_records(results, \n",
    "                                  columns=col_labels, \n",
    "                                  index=\"Prediction\"))"
   ]
  },
  {
   "cell_type": "markdown",
   "metadata": {},
   "source": [
    "**Fitting with $y = mx + b$**\n",
    "\n",
    "We can draw a line that pointed up or down, which is a classic equation from algebra:\n",
    "\n",
    "$$\n",
    "y = mx + b.\n",
    "$$\n",
    "\n",
    "Then the closedness of this line to the points are defined by the SSE\n",
    "\n",
    "$$\n",
    "\\sum_{x, y \\in D} ((mx+b) - y)^2.\n",
    "$$"
   ]
  },
  {
   "cell_type": "code",
   "execution_count": 83,
   "metadata": {},
   "outputs": [],
   "source": [
    "def process(D, model, ax):\n",
    "    # make some useful abbreviations/names\n",
    "    # y is our \"actual\"\n",
    "    x, y = D[:,0], D[:,1] \n",
    "    m, b = model\n",
    "    \n",
    "    # styling\n",
    "    axis_helper(ax, (0,8))\n",
    "\n",
    "    # plot the data\n",
    "    ax.plot(x,y,'ro')\n",
    "\n",
    "    # plot the prediction line\n",
    "    helper_xs = np.array([0,8])\n",
    "    helper_line = m * helper_xs + b\n",
    "    ax.plot(helper_xs, helper_line, color='y')\n",
    "    \n",
    "    # plot the errors\n",
    "    predictions = m * x + b\n",
    "    ax.vlines(x, predictions, y)\n",
    "    \n",
    "    # calculate error amounts\n",
    "    errors = y - predictions\n",
    "    \n",
    "    # tuple up the results\n",
    "    sse = np.dot(errors, errors)\n",
    "    return (errors, errors.sum(), sse, np.sqrt(sse))"
   ]
  },
  {
   "cell_type": "code",
   "execution_count": 84,
   "metadata": {},
   "outputs": [
    {
     "data": {
      "text/html": [
       "<div>\n",
       "<style scoped>\n",
       "    .dataframe tbody tr th:only-of-type {\n",
       "        vertical-align: middle;\n",
       "    }\n",
       "\n",
       "    .dataframe tbody tr th {\n",
       "        vertical-align: top;\n",
       "    }\n",
       "\n",
       "    .dataframe thead th {\n",
       "        text-align: right;\n",
       "    }\n",
       "</style>\n",
       "<table border=\"1\" class=\"dataframe\">\n",
       "  <thead>\n",
       "    <tr style=\"text-align: right;\">\n",
       "      <th></th>\n",
       "      <th>Raw Errors</th>\n",
       "      <th>Sum</th>\n",
       "      <th>SSE</th>\n",
       "      <th>TotDist</th>\n",
       "    </tr>\n",
       "  </thead>\n",
       "  <tbody>\n",
       "    <tr>\n",
       "      <th>0</th>\n",
       "      <td>[2, -2]</td>\n",
       "      <td>0</td>\n",
       "      <td>8</td>\n",
       "      <td>2.828427</td>\n",
       "    </tr>\n",
       "    <tr>\n",
       "      <th>1</th>\n",
       "      <td>[1, -3]</td>\n",
       "      <td>-2</td>\n",
       "      <td>10</td>\n",
       "      <td>3.162278</td>\n",
       "    </tr>\n",
       "    <tr>\n",
       "      <th>2</th>\n",
       "      <td>[0, -4]</td>\n",
       "      <td>-4</td>\n",
       "      <td>16</td>\n",
       "      <td>4.000000</td>\n",
       "    </tr>\n",
       "    <tr>\n",
       "      <th>3</th>\n",
       "      <td>[0, -2]</td>\n",
       "      <td>-2</td>\n",
       "      <td>4</td>\n",
       "      <td>2.000000</td>\n",
       "    </tr>\n",
       "    <tr>\n",
       "      <th>4</th>\n",
       "      <td>[0, 0]</td>\n",
       "      <td>0</td>\n",
       "      <td>0</td>\n",
       "      <td>0.000000</td>\n",
       "    </tr>\n",
       "  </tbody>\n",
       "</table>\n",
       "</div>"
      ],
      "text/plain": [
       "  Raw Errors  Sum  SSE   TotDist\n",
       "0    [2, -2]    0    8  2.828427\n",
       "1    [1, -3]   -2   10  3.162278\n",
       "2    [0, -4]   -4   16  4.000000\n",
       "3    [0, -2]   -2    4  2.000000\n",
       "4     [0, 0]    0    0  0.000000"
      ]
     },
     "metadata": {},
     "output_type": "display_data"
    },
    {
     "data": {
      "image/png": "[encoded data removed]",
      "text/plain": [
       "<Figure size 864x432 with 5 Axes>"
      ]
     },
     "metadata": {},
     "output_type": "display_data"
    }
   ],
   "source": [
    "# our data is very simple:  two (x,y) points\n",
    "D = np.array([[3,5],\n",
    "              [4,2]])\n",
    "\n",
    "#                      m   b  --> predictions = mx + b\n",
    "lines_mb = np.array([[ 1,  0],\n",
    "                     [ 1,  1],\n",
    "                     [ 1,  2],\n",
    "                     [-1,  8],\n",
    "                     [-3, 14]])\n",
    "\n",
    "col_labels = (\"Raw Errors\", \"Sum\", \"SSE\", \"TotDist\")\n",
    "results = []\n",
    "\n",
    "# note: plotting occurs in process()\n",
    "fig, axes = plt.subplots(1,5,figsize=(12,6))\n",
    "records = [process(D, mod, ax) for mod,ax in zip(lines_mb, axes.flat)]\n",
    "df = pd.DataFrame.from_records(records, columns=col_labels)\n",
    "display(df)"
   ]
  },
  {
   "cell_type": "markdown",
   "metadata": {},
   "source": [
    "**More input features**\n",
    "\n",
    "When more input features are added, instead a single slope, we have to estimate the weights describing the contribution of each feature. Then the prediction looks like\n",
    "\n",
    "$$\n",
    "y_{pred} = \\sum_{features} w_f x_f = w\\cdot x,\n",
    "$$\n",
    "\n",
    "which could be implemented with \"sklearn\" as follows:"
   ]
  },
  {
   "cell_type": "code",
   "execution_count": 85,
   "metadata": {},
   "outputs": [
    {
     "data": {
      "text/plain": [
       "2866.085516606975"
      ]
     },
     "execution_count": 85,
     "metadata": {},
     "output_type": "execute_result"
    }
   ],
   "source": [
    "lr    = linear_model.LinearRegression()\n",
    "fit   = lr.fit(diabetes_train_ftrs, diabetes_train_tgt)\n",
    "preds = fit.predict(diabetes_test_ftrs)\n",
    "\n",
    "# evaluate our predictions against the unseen testing targets\n",
    "metrics.mean_squared_error(diabetes_test_tgt, preds)"
   ]
  },
  {
   "cell_type": "markdown",
   "metadata": {},
   "source": [
    "In general, we find no implication on the quality of fit and of the prediction from the magnitude of SSE (Why?) This depends on further study with hypothesis tests."
   ]
  },
  {
   "cell_type": "markdown",
   "metadata": {},
   "source": [
    "**Optimization: Picking the best answers**\n",
    "\n",
    "We shall study a little bit deeper on how to pick the best weights $m$ and $b$ or in a multiple regression, the weights. It is to say that we set the knobs of the machine to their best value.\n",
    "\n",
    "In the context of linear regression\n",
    "\n",
    "  * with the homogeneity and non-correlated assumption on $\\varepsilon$, the observation error of $y$, we have the explicit formula for the estimation of the weights (white board);\n",
    "  \n",
    "  * with further Gaussian assumption $\\varepsilon_i\\sim \\mathcal{N}(0, \\sigma^2)$. The estimation is indeed the maximum likelihood estimation.\n",
    "  \n",
    "  However, in most situation in machine learning, the explicit form of the best choice of the estimation (or the estimated parameter of the model) is difficult to find. We shall find a way to approximate the best answer. \n",
    "  \n",
    "  Here are 3 guessing ways:\n",
    "  \n",
    "  * Random guess: Try lots of possibilities at random, take the best one;\n",
    "  * Random step: Try one line - pick an $m$ and a $b$ - at random, make several random adjustments. Repeat.\n",
    "  * Smart step: Try one line at random, see how it does, adjust in some smart way. Repeat.\n",
    "  \n",
    "  The following way is corresponding to choosing the best knobs with rigorous mathematical proof.\n",
    "  \n",
    "  * Calculated shortcut\n",
    "  \n",
    "  We have a simplest example to illustrate how we work with the 4 ways."
   ]
  },
  {
   "cell_type": "code",
   "execution_count": 86,
   "metadata": {},
   "outputs": [],
   "source": [
    "tgt = np.array([3,5,8,10,12,15])"
   ]
  },
  {
   "cell_type": "code",
   "execution_count": 87,
   "metadata": {},
   "outputs": [
    {
     "data": {
      "text/plain": [
       "7.541257200375599"
      ]
     },
     "execution_count": 87,
     "metadata": {},
     "output_type": "execute_result"
    }
   ],
   "source": [
    "# random guesses with| some constraints\n",
    "num_guesses = 10\n",
    "results = []\n",
    "for g in range(num_guesses):\n",
    "    guess = np.random.uniform(low=tgt.min(), high=tgt.max())\n",
    "    total_dist = np.sum((tgt - guess)**2)\n",
    "    results.append((total_dist, guess))\n",
    "best_guess = sorted(results)[0][1]\n",
    "best_guess"
   ]
  },
  {
   "cell_type": "code",
   "execution_count": 88,
   "metadata": {},
   "outputs": [
    {
     "name": "stdout",
     "output_type": "stream",
     "text": [
      "8.206438858340613\n"
     ]
    }
   ],
   "source": [
    "# use a random choice to take a hypothetical \n",
    "# step up or down:  follow it, if it is an improvement\n",
    "num_steps = 100\n",
    "step_size = .05\n",
    "\n",
    "best_guess = np.random.uniform(low=tgt.min(), high=tgt.max())\n",
    "best_dist  = np.sum((tgt - best_guess)**2)\n",
    "\n",
    "for s in range(num_steps):\n",
    "    new_guess = best_guess + (np.random.choice([+1, -1]) * step_size)\n",
    "    new_dist = np.sum((tgt - new_guess)**2)\n",
    "    if new_dist < best_dist:\n",
    "        best_guess, best_dist = new_guess, new_dist\n",
    "print(best_guess)"
   ]
  },
  {
   "cell_type": "code",
   "execution_count": 89,
   "metadata": {},
   "outputs": [
    {
     "name": "stdout",
     "output_type": "stream",
     "text": [
      "start: 9.248047637607316\n",
      "  end: 8.828047637607325\n"
     ]
    }
   ],
   "source": [
    "# hypothetically take both steps (up and down)\n",
    "# choose the better of the two.\n",
    "# if it is an improvement, follow that step\n",
    "num_steps = 1000\n",
    "step_size = .02\n",
    "\n",
    "best_guess = np.random.uniform(low=tgt.min(), high=tgt.max())\n",
    "best_dist  = np.sum((tgt - best_guess)**2)\n",
    "print(\"start:\", best_guess)\n",
    "for s in range(num_steps):\n",
    "    # np.newaxis is needed to align the minus\n",
    "    guesses = best_guess + (np.array([-1, 1]) * step_size)\n",
    "    dists   = np.sum((tgt[:,np.newaxis] - guesses)**2, axis=0)\n",
    "    \n",
    "    better_idx = np.argmin(dists)\n",
    "\n",
    "    if dists[better_idx] > best_dist:\n",
    "        break\n",
    "    \n",
    "    best_guess = guesses[better_idx]\n",
    "    best_dist  = dists[better_idx]\n",
    "print(\"  end:\", best_guess)"
   ]
  },
  {
   "cell_type": "markdown",
   "metadata": {},
   "source": [
    "Unless we get stuck in a bad spot, we should have a better shot at success than random stepping. (Question: what could be a bad spot???)"
   ]
  },
  {
   "cell_type": "code",
   "execution_count": 68,
   "metadata": {},
   "outputs": [
    {
     "name": "stdout",
     "output_type": "stream",
     "text": [
      "mean: 8.833333333333334\n"
     ]
    }
   ],
   "source": [
    "print(\"mean:\", np.mean(tgt))"
   ]
  },
  {
   "cell_type": "markdown",
   "metadata": {},
   "source": [
    "Question: why the mean is the best value minimizing the SSE?"
   ]
  },
  {
   "cell_type": "code",
   "execution_count": 49,
   "metadata": {},
   "outputs": [
    {
     "name": "stdout",
     "output_type": "stream",
     "text": [
      "   kNN : 60.79\n",
      "linreg : 54.01\n"
     ]
    }
   ],
   "source": [
    "# stand alone code\n",
    "from sklearn import (datasets, neighbors, \n",
    "                     model_selection as skms,\n",
    "                     linear_model, metrics)\n",
    "\n",
    "diabetes = datasets.load_diabetes()\n",
    "tts =  skms.train_test_split(diabetes.data,\n",
    "                             diabetes.target, \n",
    "                             test_size=.25)\n",
    "(diabetes_train, diabetes_test, \n",
    " diabetes_train_tgt, diabetes_test_tgt) = tts\n",
    "\n",
    "models = {'kNN': neighbors.KNeighborsRegressor(n_neighbors=3),\n",
    "          'linreg' : linear_model.LinearRegression()}\n",
    "\n",
    "for name, model in models.items():\n",
    "    fit   = model.fit(diabetes_train, diabetes_train_tgt)\n",
    "    preds = fit.predaict(diabetes_test)\n",
    "\n",
    "    score = np.sqrt(metrics.mean_squared_error(diabetes_test_tgt, preds))\n",
    "    print(\"{:>6s} : {:0.2f}\".format(name,score))"
   ]
  },
  {
   "cell_type": "markdown",
   "metadata": {},
   "source": [
    "Ex. Write a piece of script to measure the mem consumption of the linear regression with diabetes data. "
   ]
  }
 ],
 "metadata": {
  "kernelspec": {
   "display_name": "Python 3",
   "language": "python",
   "name": "python3"
  },
  "language_info": {
   "codemirror_mode": {
    "name": "ipython",
    "version": 3
   },
   "file_extension": ".py",
   "mimetype": "text/x-python",
   "name": "python",
   "nbconvert_exporter": "python",
   "pygments_lexer": "ipython3",
   "version": "3.7.6"
  }
 },
 "nbformat": 4,
 "nbformat_minor": 2
}
