{
 "cells": [
  {
   "cell_type": "code",
   "execution_count": 4,
   "metadata": {
    "collapsed": true
   },
   "outputs": [],
   "source": [
    "import statsmodels.api as sm\n",
    "import statsmodels.formula.api as smf\n",
    "from sklearn import datasets ## imports datasets from scikit-learn\n",
    "import numpy as np\n",
    "import pandas as pd\n",
    "import matplotlib.pyplot as plt"
   ]
  },
  {
   "cell_type": "markdown",
   "metadata": {},
   "source": [
    "# Load Datasets"
   ]
  },
  {
   "cell_type": "code",
   "execution_count": 2,
   "metadata": {
    "collapsed": true
   },
   "outputs": [],
   "source": [
    "data = datasets.load_boston() ## loads Boston dataset from datasets library \n",
    "\n",
    "df = pd.DataFrame(data.data, columns=data.feature_names)\n",
    "target = pd.DataFrame(data.target, columns=[\"MEDV\"])\n",
    "# Concatenate y in the dataframe\n",
    "df_target = pd.concat([df,target], axis=1)"
   ]
  },
  {
   "cell_type": "markdown",
   "metadata": {},
   "source": [
    "# Some Exploration"
   ]
  },
  {
   "cell_type": "markdown",
   "metadata": {},
   "source": [
    "## 1. When variables are centered, the intercept term is always 0"
   ]
  },
  {
   "cell_type": "code",
   "execution_count": 5,
   "metadata": {
    "scrolled": false
   },
   "outputs": [
    {
     "data": {
      "text/html": [
       "<table class=\"simpletable\">\n",
       "<caption>OLS Regression Results</caption>\n",
       "<tr>\n",
       "  <th>Dep. Variable:</th>          <td>MEDV</td>       <th>  R-squared:         </th> <td>   0.549</td>\n",
       "</tr>\n",
       "<tr>\n",
       "  <th>Model:</th>                   <td>OLS</td>       <th>  Adj. R-squared:    </th> <td>   0.546</td>\n",
       "</tr>\n",
       "<tr>\n",
       "  <th>Method:</th>             <td>Least Squares</td>  <th>  F-statistic:       </th> <td>   203.8</td>\n",
       "</tr>\n",
       "<tr>\n",
       "  <th>Date:</th>             <td>Tue, 30 Mar 2021</td> <th>  Prob (F-statistic):</th> <td>1.93e-86</td>\n",
       "</tr>\n",
       "<tr>\n",
       "  <th>Time:</th>                 <td>11:52:47</td>     <th>  Log-Likelihood:    </th> <td> -1638.7</td>\n",
       "</tr>\n",
       "<tr>\n",
       "  <th>No. Observations:</th>      <td>   506</td>      <th>  AIC:               </th> <td>   3285.</td>\n",
       "</tr>\n",
       "<tr>\n",
       "  <th>Df Residuals:</th>          <td>   502</td>      <th>  BIC:               </th> <td>   3302.</td>\n",
       "</tr>\n",
       "<tr>\n",
       "  <th>Df Model:</th>              <td>     3</td>      <th>                     </th>     <td> </td>   \n",
       "</tr>\n",
       "<tr>\n",
       "  <th>Covariance Type:</th>      <td>nonrobust</td>    <th>                     </th>     <td> </td>   \n",
       "</tr>\n",
       "</table>\n",
       "<table class=\"simpletable\">\n",
       "<tr>\n",
       "      <td></td>         <th>coef</th>     <th>std err</th>      <th>t</th>      <th>P>|t|</th>  <th>[0.025</th>    <th>0.975]</th>  \n",
       "</tr>\n",
       "<tr>\n",
       "  <th>Intercept</th> <td> 3.617e-14</td> <td>    0.275</td> <td> 1.31e-13</td> <td> 1.000</td> <td>   -0.541</td> <td>    0.541</td>\n",
       "</tr>\n",
       "<tr>\n",
       "  <th>CHAS</th>      <td>    5.0278</td> <td>    1.097</td> <td>    4.585</td> <td> 0.000</td> <td>    2.873</td> <td>    7.182</td>\n",
       "</tr>\n",
       "<tr>\n",
       "  <th>RM</th>        <td>    8.1855</td> <td>    0.407</td> <td>   20.119</td> <td> 0.000</td> <td>    7.386</td> <td>    8.985</td>\n",
       "</tr>\n",
       "<tr>\n",
       "  <th>AGE</th>       <td>   -0.0780</td> <td>    0.010</td> <td>   -7.684</td> <td> 0.000</td> <td>   -0.098</td> <td>   -0.058</td>\n",
       "</tr>\n",
       "</table>\n",
       "<table class=\"simpletable\">\n",
       "<tr>\n",
       "  <th>Omnibus:</th>       <td>179.098</td> <th>  Durbin-Watson:     </th> <td>   0.774</td> \n",
       "</tr>\n",
       "<tr>\n",
       "  <th>Prob(Omnibus):</th> <td> 0.000</td>  <th>  Jarque-Bera (JB):  </th> <td>1274.618</td> \n",
       "</tr>\n",
       "<tr>\n",
       "  <th>Skew:</th>          <td> 1.355</td>  <th>  Prob(JB):          </th> <td>1.66e-277</td>\n",
       "</tr>\n",
       "<tr>\n",
       "  <th>Kurtosis:</th>      <td>10.287</td>  <th>  Cond. No.          </th> <td>    112.</td> \n",
       "</tr>\n",
       "</table><br/><br/>Notes:<br/>[1] Standard Errors assume that the covariance matrix of the errors is correctly specified."
      ],
      "text/plain": [
       "<class 'statsmodels.iolib.summary.Summary'>\n",
       "\"\"\"\n",
       "                            OLS Regression Results                            \n",
       "==============================================================================\n",
       "Dep. Variable:                   MEDV   R-squared:                       0.549\n",
       "Model:                            OLS   Adj. R-squared:                  0.546\n",
       "Method:                 Least Squares   F-statistic:                     203.8\n",
       "Date:                Tue, 30 Mar 2021   Prob (F-statistic):           1.93e-86\n",
       "Time:                        11:52:47   Log-Likelihood:                -1638.7\n",
       "No. Observations:                 506   AIC:                             3285.\n",
       "Df Residuals:                     502   BIC:                             3302.\n",
       "Df Model:                           3                                         \n",
       "Covariance Type:            nonrobust                                         \n",
       "==============================================================================\n",
       "                 coef    std err          t      P>|t|      [0.025      0.975]\n",
       "------------------------------------------------------------------------------\n",
       "Intercept   3.617e-14      0.275   1.31e-13      1.000      -0.541       0.541\n",
       "CHAS           5.0278      1.097      4.585      0.000       2.873       7.182\n",
       "RM             8.1855      0.407     20.119      0.000       7.386       8.985\n",
       "AGE           -0.0780      0.010     -7.684      0.000      -0.098      -0.058\n",
       "==============================================================================\n",
       "Omnibus:                      179.098   Durbin-Watson:                   0.774\n",
       "Prob(Omnibus):                  0.000   Jarque-Bera (JB):             1274.618\n",
       "Skew:                           1.355   Prob(JB):                    1.66e-277\n",
       "Kurtosis:                      10.287   Cond. No.                         112.\n",
       "==============================================================================\n",
       "\n",
       "Notes:\n",
       "[1] Standard Errors assume that the covariance matrix of the errors is correctly specified.\n",
       "\"\"\""
      ]
     },
     "execution_count": 5,
     "metadata": {},
     "output_type": "execute_result"
    }
   ],
   "source": [
    "# This is to show that when all variables are centered, the intercept beta_0 is always 0.\n",
    "df_centered = df_target - df_target.mean(axis=0)\n",
    "model = smf.ols(formula='MEDV ~ CHAS + RM + AGE', data=df_centered).fit()\n",
    "model.summary()"
   ]
  },
  {
   "cell_type": "markdown",
   "metadata": {},
   "source": [
    "## 2. Standardization"
   ]
  },
  {
   "cell_type": "code",
   "execution_count": 6,
   "metadata": {},
   "outputs": [
    {
     "name": "stdout",
     "output_type": "stream",
     "text": [
      "mean of data [0.5 0.5] variance of data [0.25 0.25]\n",
      "scaled data is\n",
      " [[-1. -1.]\n",
      " [-1. -1.]\n",
      " [ 1.  1.]\n",
      " [ 1.  1.]]\n",
      "[[3. 3.]]\n"
     ]
    }
   ],
   "source": [
    "from sklearn.preprocessing import StandardScaler\n",
    "data = pd.DataFrame([[0, 0], [0, 0], [1, 1], [1, 1]],dtype=np.float64)\n",
    "scaler = StandardScaler() # call the scaler function\n",
    "scaler.fit(data) # use the scaler to fit the data\n",
    "print('mean of data', scaler.mean_, 'variance of data', scaler.var_)\n",
    "\n",
    "data_scaled = scaler.transform(data) # use transform to obtain the scaled data\n",
    "print('scaled data is\\n', data_scaled)\n",
    "\n",
    "print(scaler.transform([[2, 2]]))   # Now we can transform any data points"
   ]
  },
  {
   "cell_type": "markdown",
   "metadata": {},
   "source": [
    "# Lasso and Ridge"
   ]
  },
  {
   "cell_type": "markdown",
   "metadata": {},
   "source": [
    "## 1. Without Cross-validation"
   ]
  },
  {
   "cell_type": "markdown",
   "metadata": {},
   "source": [
    "### 1.1 Lasso (use sklearn package) "
   ]
  },
  {
   "cell_type": "markdown",
   "metadata": {},
   "source": [
    "The objective for Lasso is: \n",
    "(1 / (2 * n_samples)) * ||y - Xw||^2_2 + alpha * ||w||_1"
   ]
  },
  {
   "cell_type": "code",
   "execution_count": 41,
   "metadata": {},
   "outputs": [
    {
     "name": "stderr",
     "output_type": "stream",
     "text": [
      "/Users/chenghua/anaconda/lib/python3.6/site-packages/sklearn/preprocessing/data.py:645: DataConversionWarning: Data with input dtype uint8, float64 were all converted to float64 by StandardScaler.\n",
      "  return self.partial_fit(X, y)\n",
      "/Users/chenghua/anaconda/lib/python3.6/site-packages/ipykernel_launcher.py:9: DataConversionWarning: Data with input dtype uint8, float64 were all converted to float64 by StandardScaler.\n",
      "  if __name__ == '__main__':\n"
     ]
    }
   ],
   "source": [
    "# First step, transformation\n",
    "from sklearn.preprocessing import StandardScaler\n",
    "y = target\n",
    "df_dummy = pd.get_dummies(df, columns = ['CHAS'],drop_first = True) # Change categorical to one-hot\n",
    "X = df_dummy.drop(columns=['ZN','INDUS','NOX','RAD','AGE','PTRATIO','B']) # we don't include these variables in the model\n",
    "scaler_x, scaler_y = StandardScaler(), StandardScaler()\n",
    "scaler_x.fit(X)\n",
    "scaler_y.fit(y)\n",
    "X = scaler_x.transform(X)\n",
    "y = scaler_y.transform(y)"
   ]
  },
  {
   "cell_type": "code",
   "execution_count": 9,
   "metadata": {},
   "outputs": [
    {
     "data": {
      "text/plain": [
       "Lasso(alpha=0.15, copy_X=True, fit_intercept=True, max_iter=1000,\n",
       "   normalize=False, positive=False, precompute=False, random_state=None,\n",
       "   selection='cyclic', tol=0.0001, warm_start=False)"
      ]
     },
     "execution_count": 9,
     "metadata": {},
     "output_type": "execute_result"
    }
   ],
   "source": [
    "# Lasso\n",
    "from sklearn.linear_model import Lasso      # Runs Lasso with a given parameter\n",
    "model = Lasso(alpha=0.15)                    # Here alpha is like lambda in our slide\n",
    "model.fit(X, y)"
   ]
  },
  {
   "cell_type": "code",
   "execution_count": 10,
   "metadata": {},
   "outputs": [
    {
     "name": "stdout",
     "output_type": "stream",
     "text": [
      "[-0.          0.29736325 -0.         -0.01606816 -0.39639773  0.        ]\n",
      "[-6.09665115e-16]\n",
      "0.6131825436772258\n",
      "[0.56007244 0.2688365  0.87643327 0.85968643 0.79000964]\n"
     ]
    }
   ],
   "source": [
    "print(model.coef_)         # beta_1, beta_2,...,beta_6\n",
    "print(model.intercept_)    # beta_0 (we see that with the transformation, beta_0 = 0)\n",
    "print(model.score(X,y))    # R^2\n",
    "y_pred = model.predict(X)  # Predicting y given X\n",
    "print(y_pred[:5])"
   ]
  },
  {
   "cell_type": "markdown",
   "metadata": {},
   "source": [
    "### 1.2 Ridge (sklearn)"
   ]
  },
  {
   "cell_type": "markdown",
   "metadata": {},
   "source": [
    "The objective for ridge is: \n",
    "||y - Xw||^2_2 + alpha * ||w||^2_2"
   ]
  },
  {
   "cell_type": "code",
   "execution_count": 13,
   "metadata": {},
   "outputs": [
    {
     "data": {
      "text/plain": [
       "Ridge(alpha=151.79999999999998, copy_X=True, fit_intercept=True,\n",
       "   max_iter=None, normalize=False, random_state=None, solver='auto',\n",
       "   tol=0.001)"
      ]
     },
     "execution_count": 13,
     "metadata": {},
     "output_type": "execute_result"
    }
   ],
   "source": [
    "# Ridge\n",
    "from sklearn.linear_model import Ridge      # Runs Ridge with a given parameter\n",
    "model = Ridge(alpha=0.15*(2*len(y)))                   # Here alpha is like lambda in our slide\n",
    "model.fit(X, y)"
   ]
  },
  {
   "cell_type": "code",
   "execution_count": 14,
   "metadata": {},
   "outputs": [
    {
     "name": "stdout",
     "output_type": "stream",
     "text": [
      "[[-0.07711512  0.33139771 -0.0628562  -0.12809425 -0.35081919  0.08538305]]\n",
      "[-6.02842017e-16]\n",
      "0.6583909160735733\n",
      "[[0.60008944]\n",
      " [0.33749744]\n",
      " [0.94949148]\n",
      " [0.89725359]\n",
      " [0.84974177]]\n"
     ]
    }
   ],
   "source": [
    "print(model.coef_)         # beta_1, beta_2,...,beta_6\n",
    "print(model.intercept_)    # beta_0\n",
    "print(model.score(X,y))    # R^2\n",
    "y_pred = model.predict(X)\n",
    "y_pred = model.predict(X)  # Predicting y given X\n",
    "print(y_pred[:5])"
   ]
  },
  {
   "cell_type": "markdown",
   "metadata": {},
   "source": [
    "### 1.3 Lasso and Ridge using statsmodels package"
   ]
  },
  {
   "cell_type": "markdown",
   "metadata": {},
   "source": [
    "#### Full model"
   ]
  },
  {
   "cell_type": "code",
   "execution_count": 17,
   "metadata": {},
   "outputs": [
    {
     "data": {
      "text/html": [
       "<table class=\"simpletable\">\n",
       "<caption>OLS Regression Results</caption>\n",
       "<tr>\n",
       "  <th>Dep. Variable:</th>            <td>y</td>        <th>  R-squared (uncentered):</th>      <td>   0.678</td> \n",
       "</tr>\n",
       "<tr>\n",
       "  <th>Model:</th>                   <td>OLS</td>       <th>  Adj. R-squared (uncentered):</th> <td>   0.674</td> \n",
       "</tr>\n",
       "<tr>\n",
       "  <th>Method:</th>             <td>Least Squares</td>  <th>  F-statistic:       </th>          <td>   175.1</td> \n",
       "</tr>\n",
       "<tr>\n",
       "  <th>Date:</th>             <td>Tue, 30 Mar 2021</td> <th>  Prob (F-statistic):</th>          <td>1.87e-119</td>\n",
       "</tr>\n",
       "<tr>\n",
       "  <th>Time:</th>                 <td>11:57:21</td>     <th>  Log-Likelihood:    </th>          <td> -431.62</td> \n",
       "</tr>\n",
       "<tr>\n",
       "  <th>No. Observations:</th>      <td>   506</td>      <th>  AIC:               </th>          <td>   875.2</td> \n",
       "</tr>\n",
       "<tr>\n",
       "  <th>Df Residuals:</th>          <td>   500</td>      <th>  BIC:               </th>          <td>   900.6</td> \n",
       "</tr>\n",
       "<tr>\n",
       "  <th>Df Model:</th>              <td>     6</td>      <th>                     </th>              <td> </td>    \n",
       "</tr>\n",
       "<tr>\n",
       "  <th>Covariance Type:</th>      <td>nonrobust</td>    <th>                     </th>              <td> </td>    \n",
       "</tr>\n",
       "</table>\n",
       "<table class=\"simpletable\">\n",
       "<tr>\n",
       "   <td></td>     <th>coef</th>     <th>std err</th>      <th>t</th>      <th>P>|t|</th>  <th>[0.025</th>    <th>0.975]</th>  \n",
       "</tr>\n",
       "<tr>\n",
       "  <th>x1</th> <td>   -0.0583</td> <td>    0.032</td> <td>   -1.819</td> <td> 0.069</td> <td>   -0.121</td> <td>    0.005</td>\n",
       "</tr>\n",
       "<tr>\n",
       "  <th>x2</th> <td>    0.3715</td> <td>    0.033</td> <td>   11.387</td> <td> 0.000</td> <td>    0.307</td> <td>    0.436</td>\n",
       "</tr>\n",
       "<tr>\n",
       "  <th>x3</th> <td>   -0.1536</td> <td>    0.032</td> <td>   -4.789</td> <td> 0.000</td> <td>   -0.217</td> <td>   -0.091</td>\n",
       "</tr>\n",
       "<tr>\n",
       "  <th>x4</th> <td>   -0.1467</td> <td>    0.036</td> <td>   -4.111</td> <td> 0.000</td> <td>   -0.217</td> <td>   -0.077</td>\n",
       "</tr>\n",
       "<tr>\n",
       "  <th>x5</th> <td>   -0.4746</td> <td>    0.039</td> <td>  -12.061</td> <td> 0.000</td> <td>   -0.552</td> <td>   -0.397</td>\n",
       "</tr>\n",
       "<tr>\n",
       "  <th>x6</th> <td>    0.0920</td> <td>    0.026</td> <td>    3.564</td> <td> 0.000</td> <td>    0.041</td> <td>    0.143</td>\n",
       "</tr>\n",
       "</table>\n",
       "<table class=\"simpletable\">\n",
       "<tr>\n",
       "  <th>Omnibus:</th>       <td>165.592</td> <th>  Durbin-Watson:     </th> <td>   0.934</td> \n",
       "</tr>\n",
       "<tr>\n",
       "  <th>Prob(Omnibus):</th> <td> 0.000</td>  <th>  Jarque-Bera (JB):  </th> <td> 648.809</td> \n",
       "</tr>\n",
       "<tr>\n",
       "  <th>Skew:</th>          <td> 1.446</td>  <th>  Prob(JB):          </th> <td>1.30e-141</td>\n",
       "</tr>\n",
       "<tr>\n",
       "  <th>Kurtosis:</th>      <td> 7.734</td>  <th>  Cond. No.          </th> <td>    3.10</td> \n",
       "</tr>\n",
       "</table><br/><br/>Notes:<br/>[1] R² is computed without centering (uncentered) since the model does not contain a constant.<br/>[2] Standard Errors assume that the covariance matrix of the errors is correctly specified."
      ],
      "text/plain": [
       "<class 'statsmodels.iolib.summary.Summary'>\n",
       "\"\"\"\n",
       "                                 OLS Regression Results                                \n",
       "=======================================================================================\n",
       "Dep. Variable:                      y   R-squared (uncentered):                   0.678\n",
       "Model:                            OLS   Adj. R-squared (uncentered):              0.674\n",
       "Method:                 Least Squares   F-statistic:                              175.1\n",
       "Date:                Tue, 30 Mar 2021   Prob (F-statistic):                   1.87e-119\n",
       "Time:                        11:57:21   Log-Likelihood:                         -431.62\n",
       "No. Observations:                 506   AIC:                                      875.2\n",
       "Df Residuals:                     500   BIC:                                      900.6\n",
       "Df Model:                           6                                                  \n",
       "Covariance Type:            nonrobust                                                  \n",
       "==============================================================================\n",
       "                 coef    std err          t      P>|t|      [0.025      0.975]\n",
       "------------------------------------------------------------------------------\n",
       "x1            -0.0583      0.032     -1.819      0.069      -0.121       0.005\n",
       "x2             0.3715      0.033     11.387      0.000       0.307       0.436\n",
       "x3            -0.1536      0.032     -4.789      0.000      -0.217      -0.091\n",
       "x4            -0.1467      0.036     -4.111      0.000      -0.217      -0.077\n",
       "x5            -0.4746      0.039    -12.061      0.000      -0.552      -0.397\n",
       "x6             0.0920      0.026      3.564      0.000       0.041       0.143\n",
       "==============================================================================\n",
       "Omnibus:                      165.592   Durbin-Watson:                   0.934\n",
       "Prob(Omnibus):                  0.000   Jarque-Bera (JB):              648.809\n",
       "Skew:                           1.446   Prob(JB):                    1.30e-141\n",
       "Kurtosis:                       7.734   Cond. No.                         3.10\n",
       "==============================================================================\n",
       "\n",
       "Notes:\n",
       "[1] R² is computed without centering (uncentered) since the model does not contain a constant.\n",
       "[2] Standard Errors assume that the covariance matrix of the errors is correctly specified.\n",
       "\"\"\""
      ]
     },
     "execution_count": 17,
     "metadata": {},
     "output_type": "execute_result"
    }
   ],
   "source": [
    "import statsmodels.api as sm\n",
    "model = sm.OLS(y, X).fit() ## sm.OLS(output, input)\n",
    "model.summary()"
   ]
  },
  {
   "cell_type": "markdown",
   "metadata": {},
   "source": [
    "#### lasso"
   ]
  },
  {
   "cell_type": "markdown",
   "metadata": {},
   "source": [
    "The objective for this package is:\n",
    "    0.5∗𝑅𝑆𝑆/𝑛+𝑎𝑙𝑝ℎ𝑎∗((1−𝐿1_𝑤𝑡)∗|𝑝𝑎𝑟𝑎𝑚𝑠|22/2+𝐿1_𝑤𝑡∗|𝑝𝑎𝑟𝑎𝑚𝑠|1)"
   ]
  },
  {
   "cell_type": "code",
   "execution_count": 18,
   "metadata": {},
   "outputs": [
    {
     "name": "stdout",
     "output_type": "stream",
     "text": [
      "[ 0.          0.29734871  0.         -0.01604702 -0.39641816  0.        ]\n"
     ]
    }
   ],
   "source": [
    "model = sm.OLS(y, X).fit_regularized(alpha=0.15, L1_wt=1.0) # Lasso\n",
    "print(model.params)"
   ]
  },
  {
   "cell_type": "markdown",
   "metadata": {},
   "source": [
    "#### Ridge"
   ]
  },
  {
   "cell_type": "code",
   "execution_count": 19,
   "metadata": {},
   "outputs": [
    {
     "name": "stdout",
     "output_type": "stream",
     "text": [
      "[-0.07711512  0.33139771 -0.0628562  -0.12809425 -0.35081919  0.08538305]\n"
     ]
    }
   ],
   "source": [
    "model = sm.OLS(y, X).fit_regularized(alpha=0.15*(2), L1_wt=0)  # Ridge (Need to pay attention to the objective)\n",
    "print(model.params)"
   ]
  },
  {
   "cell_type": "markdown",
   "metadata": {},
   "source": [
    "## 2. Lasso and Ridge with Cross-Validation"
   ]
  },
  {
   "cell_type": "markdown",
   "metadata": {},
   "source": [
    "### 2.1 Split data in Kfold"
   ]
  },
  {
   "cell_type": "code",
   "execution_count": 26,
   "metadata": {},
   "outputs": [
    {
     "name": "stdout",
     "output_type": "stream",
     "text": [
      "KFold(n_splits=5, random_state=None, shuffle=False)\n"
     ]
    }
   ],
   "source": [
    "from sklearn.model_selection import KFold\n",
    "kf = KFold(n_splits=5)\n",
    "print(kf)"
   ]
  },
  {
   "cell_type": "code",
   "execution_count": 27,
   "metadata": {},
   "outputs": [
    {
     "name": "stdout",
     "output_type": "stream",
     "text": [
      "TRAIN: [102 103 104 105 106 107 108 109 110 111 112 113 114 115 116 117 118 119\n",
      " 120 121 122 123 124 125 126 127 128 129 130 131 132 133 134 135 136 137\n",
      " 138 139 140 141 142 143 144 145 146 147 148 149 150 151 152 153 154 155\n",
      " 156 157 158 159 160 161 162 163 164 165 166 167 168 169 170 171 172 173\n",
      " 174 175 176 177 178 179 180 181 182 183 184 185 186 187 188 189 190 191\n",
      " 192 193 194 195 196 197 198 199 200 201 202 203 204 205 206 207 208 209\n",
      " 210 211 212 213 214 215 216 217 218 219 220 221 222 223 224 225 226 227\n",
      " 228 229 230 231 232 233 234 235 236 237 238 239 240 241 242 243 244 245\n",
      " 246 247 248 249 250 251 252 253 254 255 256 257 258 259 260 261 262 263\n",
      " 264 265 266 267 268 269 270 271 272 273 274 275 276 277 278 279 280 281\n",
      " 282 283 284 285 286 287 288 289 290 291 292 293 294 295 296 297 298 299\n",
      " 300 301 302 303 304 305 306 307 308 309 310 311 312 313 314 315 316 317\n",
      " 318 319 320 321 322 323 324 325 326 327 328 329 330 331 332 333 334 335\n",
      " 336 337 338 339 340 341 342 343 344 345 346 347 348 349 350 351 352 353\n",
      " 354 355 356 357 358 359 360 361 362 363 364 365 366 367 368 369 370 371\n",
      " 372 373 374 375 376 377 378 379 380 381 382 383 384 385 386 387 388 389\n",
      " 390 391 392 393 394 395 396 397 398 399 400 401 402 403 404 405 406 407\n",
      " 408 409 410 411 412 413 414 415 416 417 418 419 420 421 422 423 424 425\n",
      " 426 427 428 429 430 431 432 433 434 435 436 437 438 439 440 441 442 443\n",
      " 444 445 446 447 448 449 450 451 452 453 454 455 456 457 458 459 460 461\n",
      " 462 463 464 465 466 467 468 469 470 471 472 473 474 475 476 477 478 479\n",
      " 480 481 482 483 484 485 486 487 488 489 490 491 492 493 494 495 496 497\n",
      " 498 499 500 501 502 503 504 505] TEST: [  0   1   2   3   4   5   6   7   8   9  10  11  12  13  14  15  16  17\n",
      "  18  19  20  21  22  23  24  25  26  27  28  29  30  31  32  33  34  35\n",
      "  36  37  38  39  40  41  42  43  44  45  46  47  48  49  50  51  52  53\n",
      "  54  55  56  57  58  59  60  61  62  63  64  65  66  67  68  69  70  71\n",
      "  72  73  74  75  76  77  78  79  80  81  82  83  84  85  86  87  88  89\n",
      "  90  91  92  93  94  95  96  97  98  99 100 101]\n",
      "TRAIN: [  0   1   2   3   4   5   6   7   8   9  10  11  12  13  14  15  16  17\n",
      "  18  19  20  21  22  23  24  25  26  27  28  29  30  31  32  33  34  35\n",
      "  36  37  38  39  40  41  42  43  44  45  46  47  48  49  50  51  52  53\n",
      "  54  55  56  57  58  59  60  61  62  63  64  65  66  67  68  69  70  71\n",
      "  72  73  74  75  76  77  78  79  80  81  82  83  84  85  86  87  88  89\n",
      "  90  91  92  93  94  95  96  97  98  99 100 101 203 204 205 206 207 208\n",
      " 209 210 211 212 213 214 215 216 217 218 219 220 221 222 223 224 225 226\n",
      " 227 228 229 230 231 232 233 234 235 236 237 238 239 240 241 242 243 244\n",
      " 245 246 247 248 249 250 251 252 253 254 255 256 257 258 259 260 261 262\n",
      " 263 264 265 266 267 268 269 270 271 272 273 274 275 276 277 278 279 280\n",
      " 281 282 283 284 285 286 287 288 289 290 291 292 293 294 295 296 297 298\n",
      " 299 300 301 302 303 304 305 306 307 308 309 310 311 312 313 314 315 316\n",
      " 317 318 319 320 321 322 323 324 325 326 327 328 329 330 331 332 333 334\n",
      " 335 336 337 338 339 340 341 342 343 344 345 346 347 348 349 350 351 352\n",
      " 353 354 355 356 357 358 359 360 361 362 363 364 365 366 367 368 369 370\n",
      " 371 372 373 374 375 376 377 378 379 380 381 382 383 384 385 386 387 388\n",
      " 389 390 391 392 393 394 395 396 397 398 399 400 401 402 403 404 405 406\n",
      " 407 408 409 410 411 412 413 414 415 416 417 418 419 420 421 422 423 424\n",
      " 425 426 427 428 429 430 431 432 433 434 435 436 437 438 439 440 441 442\n",
      " 443 444 445 446 447 448 449 450 451 452 453 454 455 456 457 458 459 460\n",
      " 461 462 463 464 465 466 467 468 469 470 471 472 473 474 475 476 477 478\n",
      " 479 480 481 482 483 484 485 486 487 488 489 490 491 492 493 494 495 496\n",
      " 497 498 499 500 501 502 503 504 505] TEST: [102 103 104 105 106 107 108 109 110 111 112 113 114 115 116 117 118 119\n",
      " 120 121 122 123 124 125 126 127 128 129 130 131 132 133 134 135 136 137\n",
      " 138 139 140 141 142 143 144 145 146 147 148 149 150 151 152 153 154 155\n",
      " 156 157 158 159 160 161 162 163 164 165 166 167 168 169 170 171 172 173\n",
      " 174 175 176 177 178 179 180 181 182 183 184 185 186 187 188 189 190 191\n",
      " 192 193 194 195 196 197 198 199 200 201 202]\n",
      "TRAIN: [  0   1   2   3   4   5   6   7   8   9  10  11  12  13  14  15  16  17\n",
      "  18  19  20  21  22  23  24  25  26  27  28  29  30  31  32  33  34  35\n",
      "  36  37  38  39  40  41  42  43  44  45  46  47  48  49  50  51  52  53\n",
      "  54  55  56  57  58  59  60  61  62  63  64  65  66  67  68  69  70  71\n",
      "  72  73  74  75  76  77  78  79  80  81  82  83  84  85  86  87  88  89\n",
      "  90  91  92  93  94  95  96  97  98  99 100 101 102 103 104 105 106 107\n",
      " 108 109 110 111 112 113 114 115 116 117 118 119 120 121 122 123 124 125\n",
      " 126 127 128 129 130 131 132 133 134 135 136 137 138 139 140 141 142 143\n",
      " 144 145 146 147 148 149 150 151 152 153 154 155 156 157 158 159 160 161\n",
      " 162 163 164 165 166 167 168 169 170 171 172 173 174 175 176 177 178 179\n",
      " 180 181 182 183 184 185 186 187 188 189 190 191 192 193 194 195 196 197\n",
      " 198 199 200 201 202 304 305 306 307 308 309 310 311 312 313 314 315 316\n",
      " 317 318 319 320 321 322 323 324 325 326 327 328 329 330 331 332 333 334\n",
      " 335 336 337 338 339 340 341 342 343 344 345 346 347 348 349 350 351 352\n",
      " 353 354 355 356 357 358 359 360 361 362 363 364 365 366 367 368 369 370\n",
      " 371 372 373 374 375 376 377 378 379 380 381 382 383 384 385 386 387 388\n",
      " 389 390 391 392 393 394 395 396 397 398 399 400 401 402 403 404 405 406\n",
      " 407 408 409 410 411 412 413 414 415 416 417 418 419 420 421 422 423 424\n",
      " 425 426 427 428 429 430 431 432 433 434 435 436 437 438 439 440 441 442\n",
      " 443 444 445 446 447 448 449 450 451 452 453 454 455 456 457 458 459 460\n",
      " 461 462 463 464 465 466 467 468 469 470 471 472 473 474 475 476 477 478\n",
      " 479 480 481 482 483 484 485 486 487 488 489 490 491 492 493 494 495 496\n",
      " 497 498 499 500 501 502 503 504 505] TEST: [203 204 205 206 207 208 209 210 211 212 213 214 215 216 217 218 219 220\n",
      " 221 222 223 224 225 226 227 228 229 230 231 232 233 234 235 236 237 238\n",
      " 239 240 241 242 243 244 245 246 247 248 249 250 251 252 253 254 255 256\n",
      " 257 258 259 260 261 262 263 264 265 266 267 268 269 270 271 272 273 274\n",
      " 275 276 277 278 279 280 281 282 283 284 285 286 287 288 289 290 291 292\n",
      " 293 294 295 296 297 298 299 300 301 302 303]\n",
      "TRAIN: [  0   1   2   3   4   5   6   7   8   9  10  11  12  13  14  15  16  17\n",
      "  18  19  20  21  22  23  24  25  26  27  28  29  30  31  32  33  34  35\n",
      "  36  37  38  39  40  41  42  43  44  45  46  47  48  49  50  51  52  53\n",
      "  54  55  56  57  58  59  60  61  62  63  64  65  66  67  68  69  70  71\n",
      "  72  73  74  75  76  77  78  79  80  81  82  83  84  85  86  87  88  89\n",
      "  90  91  92  93  94  95  96  97  98  99 100 101 102 103 104 105 106 107\n",
      " 108 109 110 111 112 113 114 115 116 117 118 119 120 121 122 123 124 125\n",
      " 126 127 128 129 130 131 132 133 134 135 136 137 138 139 140 141 142 143\n",
      " 144 145 146 147 148 149 150 151 152 153 154 155 156 157 158 159 160 161\n",
      " 162 163 164 165 166 167 168 169 170 171 172 173 174 175 176 177 178 179\n",
      " 180 181 182 183 184 185 186 187 188 189 190 191 192 193 194 195 196 197\n",
      " 198 199 200 201 202 203 204 205 206 207 208 209 210 211 212 213 214 215\n",
      " 216 217 218 219 220 221 222 223 224 225 226 227 228 229 230 231 232 233\n",
      " 234 235 236 237 238 239 240 241 242 243 244 245 246 247 248 249 250 251\n",
      " 252 253 254 255 256 257 258 259 260 261 262 263 264 265 266 267 268 269\n",
      " 270 271 272 273 274 275 276 277 278 279 280 281 282 283 284 285 286 287\n",
      " 288 289 290 291 292 293 294 295 296 297 298 299 300 301 302 303 405 406\n",
      " 407 408 409 410 411 412 413 414 415 416 417 418 419 420 421 422 423 424\n",
      " 425 426 427 428 429 430 431 432 433 434 435 436 437 438 439 440 441 442\n",
      " 443 444 445 446 447 448 449 450 451 452 453 454 455 456 457 458 459 460\n",
      " 461 462 463 464 465 466 467 468 469 470 471 472 473 474 475 476 477 478\n",
      " 479 480 481 482 483 484 485 486 487 488 489 490 491 492 493 494 495 496\n",
      " 497 498 499 500 501 502 503 504 505] TEST: [304 305 306 307 308 309 310 311 312 313 314 315 316 317 318 319 320 321\n",
      " 322 323 324 325 326 327 328 329 330 331 332 333 334 335 336 337 338 339\n",
      " 340 341 342 343 344 345 346 347 348 349 350 351 352 353 354 355 356 357\n",
      " 358 359 360 361 362 363 364 365 366 367 368 369 370 371 372 373 374 375\n",
      " 376 377 378 379 380 381 382 383 384 385 386 387 388 389 390 391 392 393\n",
      " 394 395 396 397 398 399 400 401 402 403 404]\n",
      "TRAIN: [  0   1   2   3   4   5   6   7   8   9  10  11  12  13  14  15  16  17\n",
      "  18  19  20  21  22  23  24  25  26  27  28  29  30  31  32  33  34  35\n",
      "  36  37  38  39  40  41  42  43  44  45  46  47  48  49  50  51  52  53\n",
      "  54  55  56  57  58  59  60  61  62  63  64  65  66  67  68  69  70  71\n",
      "  72  73  74  75  76  77  78  79  80  81  82  83  84  85  86  87  88  89\n",
      "  90  91  92  93  94  95  96  97  98  99 100 101 102 103 104 105 106 107\n",
      " 108 109 110 111 112 113 114 115 116 117 118 119 120 121 122 123 124 125\n",
      " 126 127 128 129 130 131 132 133 134 135 136 137 138 139 140 141 142 143\n",
      " 144 145 146 147 148 149 150 151 152 153 154 155 156 157 158 159 160 161\n",
      " 162 163 164 165 166 167 168 169 170 171 172 173 174 175 176 177 178 179\n",
      " 180 181 182 183 184 185 186 187 188 189 190 191 192 193 194 195 196 197\n",
      " 198 199 200 201 202 203 204 205 206 207 208 209 210 211 212 213 214 215\n",
      " 216 217 218 219 220 221 222 223 224 225 226 227 228 229 230 231 232 233\n",
      " 234 235 236 237 238 239 240 241 242 243 244 245 246 247 248 249 250 251\n",
      " 252 253 254 255 256 257 258 259 260 261 262 263 264 265 266 267 268 269\n",
      " 270 271 272 273 274 275 276 277 278 279 280 281 282 283 284 285 286 287\n",
      " 288 289 290 291 292 293 294 295 296 297 298 299 300 301 302 303 304 305\n",
      " 306 307 308 309 310 311 312 313 314 315 316 317 318 319 320 321 322 323\n",
      " 324 325 326 327 328 329 330 331 332 333 334 335 336 337 338 339 340 341\n",
      " 342 343 344 345 346 347 348 349 350 351 352 353 354 355 356 357 358 359\n",
      " 360 361 362 363 364 365 366 367 368 369 370 371 372 373 374 375 376 377\n",
      " 378 379 380 381 382 383 384 385 386 387 388 389 390 391 392 393 394 395\n",
      " 396 397 398 399 400 401 402 403 404] TEST: [405 406 407 408 409 410 411 412 413 414 415 416 417 418 419 420 421 422\n",
      " 423 424 425 426 427 428 429 430 431 432 433 434 435 436 437 438 439 440\n",
      " 441 442 443 444 445 446 447 448 449 450 451 452 453 454 455 456 457 458\n",
      " 459 460 461 462 463 464 465 466 467 468 469 470 471 472 473 474 475 476\n",
      " 477 478 479 480 481 482 483 484 485 486 487 488 489 490 491 492 493 494\n",
      " 495 496 497 498 499 500 501 502 503 504 505]\n"
     ]
    }
   ],
   "source": [
    "for train_index, test_index in kf.split(X):\n",
    "    print(\"TRAIN:\", train_index, \"TEST:\", test_index)"
   ]
  },
  {
   "cell_type": "code",
   "execution_count": 28,
   "metadata": {},
   "outputs": [
    {
     "name": "stdout",
     "output_type": "stream",
     "text": [
      "KFold(n_splits=5, random_state=None, shuffle=True)\n"
     ]
    }
   ],
   "source": [
    "from sklearn.model_selection import KFold\n",
    "kf = KFold(n_splits=5, shuffle=True)\n",
    "print(kf)"
   ]
  },
  {
   "cell_type": "code",
   "execution_count": 29,
   "metadata": {},
   "outputs": [
    {
     "name": "stdout",
     "output_type": "stream",
     "text": [
      "TRAIN: [  0   1   2   4   5   7   8  10  12  15  16  17  19  20  22  24  26  27\n",
      "  28  29  30  31  33  36  37  39  40  42  43  44  46  48  51  52  53  54\n",
      "  55  56  57  59  60  61  62  66  67  68  69  71  72  73  74  75  76  77\n",
      "  78  79  80  81  82  83  85  86  87  88  90  91  92  93  94  95  97  98\n",
      "  99 100 102 103 104 105 106 107 108 109 110 112 113 114 116 117 118 119\n",
      " 120 121 122 124 125 126 127 128 129 131 132 133 135 136 137 138 139 141\n",
      " 143 145 146 147 148 149 150 151 152 153 154 155 157 158 159 162 164 165\n",
      " 166 167 168 169 170 171 173 174 176 177 178 179 180 181 182 183 184 185\n",
      " 186 187 188 189 190 192 194 195 196 198 199 200 201 202 203 204 206 207\n",
      " 208 209 210 211 212 213 214 216 217 218 219 220 221 222 224 225 226 227\n",
      " 228 229 231 232 233 234 235 237 238 239 240 241 243 244 245 248 249 250\n",
      " 251 252 253 254 255 256 257 258 259 260 262 263 264 265 266 268 269 270\n",
      " 271 273 274 275 276 277 278 279 280 281 282 283 284 285 286 287 288 289\n",
      " 291 292 293 294 295 296 297 298 299 300 301 302 303 304 305 306 307 310\n",
      " 311 312 313 315 316 318 320 321 322 323 324 326 327 328 329 330 333 334\n",
      " 335 336 337 338 340 341 342 343 344 346 347 348 354 355 357 358 359 362\n",
      " 363 365 366 368 369 370 371 372 374 375 376 377 378 379 380 381 382 384\n",
      " 385 387 388 389 390 391 392 393 394 395 396 398 399 400 401 402 403 404\n",
      " 405 406 407 410 411 412 413 414 415 416 417 418 419 420 421 422 423 424\n",
      " 425 426 427 428 429 430 431 432 433 434 435 436 437 440 443 444 445 446\n",
      " 449 450 451 452 453 454 455 457 458 459 460 461 462 463 464 465 466 469\n",
      " 470 471 473 474 476 477 478 479 480 482 483 485 486 487 489 492 493 494\n",
      " 495 496 497 498 499 501 502 505] TEST: [  3   6   9  11  13  14  18  21  23  25  32  34  35  38  41  45  47  49\n",
      "  50  58  63  64  65  70  84  89  96 101 111 115 123 130 134 140 142 144\n",
      " 156 160 161 163 172 175 191 193 197 205 215 223 230 236 242 246 247 261\n",
      " 267 272 290 308 309 314 317 319 325 331 332 339 345 349 350 351 352 353\n",
      " 356 360 361 364 367 373 383 386 397 408 409 438 439 441 442 447 448 456\n",
      " 467 468 472 475 481 484 488 490 491 500 503 504]\n",
      "TRAIN: [  0   1   2   3   4   5   6   7   8   9  10  11  12  13  14  16  17  18\n",
      "  19  20  21  22  23  24  25  27  28  29  30  31  32  33  34  35  36  37\n",
      "  38  39  41  42  43  44  45  46  47  48  49  50  55  56  58  59  60  61\n",
      "  62  63  64  65  66  68  69  70  71  74  76  77  78  80  81  82  84  85\n",
      "  87  88  89  90  91  92  93  94  96  97  99 100 101 102 105 106 107 108\n",
      " 109 111 112 113 114 115 116 117 119 121 123 124 125 126 127 130 131 132\n",
      " 134 136 137 140 141 142 144 145 147 148 149 151 152 153 154 156 157 158\n",
      " 159 160 161 162 163 164 165 166 167 168 169 170 171 172 173 174 175 176\n",
      " 178 179 181 182 184 187 188 189 190 191 192 193 194 195 196 197 199 200\n",
      " 201 202 203 205 206 207 208 209 210 211 212 215 216 218 221 223 224 229\n",
      " 230 231 233 234 235 236 237 239 240 241 242 244 245 246 247 248 249 251\n",
      " 252 253 254 255 256 258 259 260 261 262 263 264 265 266 267 268 270 271\n",
      " 272 273 275 276 277 279 280 281 283 285 286 287 288 290 291 292 294 295\n",
      " 296 297 298 299 301 302 303 305 306 307 308 309 313 314 315 316 317 319\n",
      " 320 321 322 323 324 325 327 330 331 332 333 335 337 338 339 340 341 342\n",
      " 343 344 345 346 348 349 350 351 352 353 355 356 358 359 360 361 363 364\n",
      " 365 366 367 368 369 370 371 372 373 375 376 378 379 382 383 384 385 386\n",
      " 388 389 390 391 392 393 394 395 396 397 398 399 401 402 403 404 405 407\n",
      " 408 409 410 411 412 413 414 415 416 417 418 419 421 422 423 424 426 428\n",
      " 429 430 431 434 435 436 437 438 439 441 442 444 445 446 447 448 450 452\n",
      " 454 456 457 458 459 460 461 462 463 465 466 467 468 469 470 471 472 474\n",
      " 475 477 478 480 481 482 483 484 486 487 488 489 490 491 492 493 494 495\n",
      " 496 498 499 500 501 502 503 504 505] TEST: [ 15  26  40  51  52  53  54  57  67  72  73  75  79  83  86  95  98 103\n",
      " 104 110 118 120 122 128 129 133 135 138 139 143 146 150 155 177 180 183\n",
      " 185 186 198 204 213 214 217 219 220 222 225 226 227 228 232 238 243 250\n",
      " 257 269 274 278 282 284 289 293 300 304 310 311 312 318 326 328 329 334\n",
      " 336 347 354 357 362 374 377 380 381 387 400 406 420 425 427 432 433 440\n",
      " 443 449 451 453 455 464 473 476 479 485 497]\n",
      "TRAIN: [  0   1   3   4   6   7   9  10  11  12  13  14  15  17  18  19  20  21\n",
      "  22  23  24  25  26  27  28  29  31  32  33  34  35  36  37  38  40  41\n",
      "  42  43  44  45  46  47  48  49  50  51  52  53  54  55  57  58  59  60\n",
      "  61  62  63  64  65  67  68  69  70  72  73  74  75  76  77  78  79  81\n",
      "  82  83  84  85  86  87  89  92  93  94  95  96  97  98 100 101 102 103\n",
      " 104 105 106 107 108 109 110 111 115 116 117 118 120 122 123 124 125 126\n",
      " 127 128 129 130 131 132 133 134 135 136 137 138 139 140 141 142 143 144\n",
      " 145 146 147 150 151 152 153 155 156 158 159 160 161 162 163 164 166 168\n",
      " 169 170 171 172 173 175 177 178 179 180 181 182 183 185 186 189 191 193\n",
      " 197 198 199 201 202 203 204 205 206 207 208 211 213 214 215 217 219 220\n",
      " 221 222 223 224 225 226 227 228 229 230 231 232 235 236 238 239 241 242\n",
      " 243 245 246 247 250 251 252 254 255 256 257 260 261 262 265 266 267 268\n",
      " 269 270 271 272 273 274 276 278 279 280 281 282 283 284 285 286 287 289\n",
      " 290 291 292 293 298 299 300 301 302 303 304 305 308 309 310 311 312 313\n",
      " 314 315 317 318 319 320 323 324 325 326 327 328 329 331 332 333 334 335\n",
      " 336 337 338 339 342 343 345 346 347 348 349 350 351 352 353 354 355 356\n",
      " 357 358 359 360 361 362 363 364 366 367 368 369 370 371 373 374 375 376\n",
      " 377 378 380 381 383 384 386 387 389 391 392 393 394 395 397 398 400 401\n",
      " 402 404 405 406 407 408 409 410 411 414 415 416 418 419 420 423 424 425\n",
      " 426 427 428 430 431 432 433 434 435 436 438 439 440 441 442 443 444 446\n",
      " 447 448 449 451 452 453 455 456 458 459 461 462 463 464 465 466 467 468\n",
      " 469 472 473 475 476 477 478 479 481 482 483 484 485 486 487 488 490 491\n",
      " 493 496 497 498 500 502 503 504 505] TEST: [  2   5   8  16  30  39  56  66  71  80  88  90  91  99 112 113 114 119\n",
      " 121 148 149 154 157 165 167 174 176 184 187 188 190 192 194 195 196 200\n",
      " 209 210 212 216 218 233 234 237 240 244 248 249 253 258 259 263 264 275\n",
      " 277 288 294 295 296 297 306 307 316 321 322 330 340 341 344 365 372 379\n",
      " 382 385 388 390 396 399 403 412 413 417 421 422 429 437 445 450 454 457\n",
      " 460 470 471 474 480 489 492 494 495 499 501]\n",
      "TRAIN: [  1   2   3   5   6   7   8   9  10  11  13  14  15  16  18  19  21  22\n",
      "  23  24  25  26  29  30  32  33  34  35  36  38  39  40  41  43  44  45\n",
      "  46  47  48  49  50  51  52  53  54  56  57  58  59  63  64  65  66  67\n",
      "  68  70  71  72  73  75  76  77  78  79  80  83  84  85  86  88  89  90\n",
      "  91  92  94  95  96  98  99 101 102 103 104 108 109 110 111 112 113 114\n",
      " 115 117 118 119 120 121 122 123 124 126 128 129 130 132 133 134 135 136\n",
      " 138 139 140 141 142 143 144 146 147 148 149 150 152 153 154 155 156 157\n",
      " 159 160 161 163 165 166 167 172 174 175 176 177 179 180 181 183 184 185\n",
      " 186 187 188 190 191 192 193 194 195 196 197 198 199 200 204 205 206 208\n",
      " 209 210 212 213 214 215 216 217 218 219 220 221 222 223 225 226 227 228\n",
      " 229 230 232 233 234 235 236 237 238 240 242 243 244 245 246 247 248 249\n",
      " 250 253 255 256 257 258 259 260 261 263 264 266 267 268 269 271 272 274\n",
      " 275 277 278 279 282 283 284 285 286 287 288 289 290 292 293 294 295 296\n",
      " 297 299 300 301 302 304 305 306 307 308 309 310 311 312 314 315 316 317\n",
      " 318 319 320 321 322 325 326 327 328 329 330 331 332 334 336 337 338 339\n",
      " 340 341 342 343 344 345 346 347 348 349 350 351 352 353 354 355 356 357\n",
      " 358 360 361 362 364 365 366 367 369 370 372 373 374 375 376 377 378 379\n",
      " 380 381 382 383 385 386 387 388 390 391 392 393 396 397 399 400 401 403\n",
      " 405 406 408 409 412 413 417 418 419 420 421 422 423 425 427 429 430 431\n",
      " 432 433 435 437 438 439 440 441 442 443 444 445 446 447 448 449 450 451\n",
      " 453 454 455 456 457 458 459 460 462 463 464 465 466 467 468 470 471 472\n",
      " 473 474 475 476 477 479 480 481 484 485 486 487 488 489 490 491 492 494\n",
      " 495 496 497 499 500 501 502 503 504] TEST: [  0   4  12  17  20  27  28  31  37  42  55  60  61  62  69  74  81  82\n",
      "  87  93  97 100 105 106 107 116 125 127 131 137 145 151 158 162 164 168\n",
      " 169 170 171 173 178 182 189 201 202 203 207 211 224 231 239 241 251 252\n",
      " 254 262 265 270 273 276 280 281 291 298 303 313 323 324 333 335 359 363\n",
      " 368 371 384 389 394 395 398 402 404 407 410 411 414 415 416 424 426 428\n",
      " 434 436 452 461 469 478 482 483 493 498 505]\n",
      "TRAIN: [  0   2   3   4   5   6   8   9  11  12  13  14  15  16  17  18  20  21\n",
      "  23  25  26  27  28  30  31  32  34  35  37  38  39  40  41  42  45  47\n",
      "  49  50  51  52  53  54  55  56  57  58  60  61  62  63  64  65  66  67\n",
      "  69  70  71  72  73  74  75  79  80  81  82  83  84  86  87  88  89  90\n",
      "  91  93  95  96  97  98  99 100 101 103 104 105 106 107 110 111 112 113\n",
      " 114 115 116 118 119 120 121 122 123 125 127 128 129 130 131 133 134 135\n",
      " 137 138 139 140 142 143 144 145 146 148 149 150 151 154 155 156 157 158\n",
      " 160 161 162 163 164 165 167 168 169 170 171 172 173 174 175 176 177 178\n",
      " 180 182 183 184 185 186 187 188 189 190 191 192 193 194 195 196 197 198\n",
      " 200 201 202 203 204 205 207 209 210 211 212 213 214 215 216 217 218 219\n",
      " 220 222 223 224 225 226 227 228 230 231 232 233 234 236 237 238 239 240\n",
      " 241 242 243 244 246 247 248 249 250 251 252 253 254 257 258 259 261 262\n",
      " 263 264 265 267 269 270 272 273 274 275 276 277 278 280 281 282 284 288\n",
      " 289 290 291 293 294 295 296 297 298 300 303 304 306 307 308 309 310 311\n",
      " 312 313 314 316 317 318 319 321 322 323 324 325 326 328 329 330 331 332\n",
      " 333 334 335 336 339 340 341 344 345 347 349 350 351 352 353 354 356 357\n",
      " 359 360 361 362 363 364 365 367 368 371 372 373 374 377 379 380 381 382\n",
      " 383 384 385 386 387 388 389 390 394 395 396 397 398 399 400 402 403 404\n",
      " 406 407 408 409 410 411 412 413 414 415 416 417 420 421 422 424 425 426\n",
      " 427 428 429 432 433 434 436 437 438 439 440 441 442 443 445 447 448 449\n",
      " 450 451 452 453 454 455 456 457 460 461 464 467 468 469 470 471 472 473\n",
      " 474 475 476 478 479 480 481 482 483 484 485 488 489 490 491 492 493 494\n",
      " 495 497 498 499 500 501 503 504 505] TEST: [  1   7  10  19  22  24  29  33  36  43  44  46  48  59  68  76  77  78\n",
      "  85  92  94 102 108 109 117 124 126 132 136 141 147 152 153 159 166 179\n",
      " 181 199 206 208 221 229 235 245 255 256 260 266 268 271 279 283 285 286\n",
      " 287 292 299 301 302 305 315 320 327 337 338 342 343 346 348 355 358 366\n",
      " 369 370 375 376 378 391 392 393 401 405 418 419 423 430 431 435 444 446\n",
      " 458 459 462 463 465 466 477 486 487 496 502]\n"
     ]
    }
   ],
   "source": [
    "for train_index, test_index in kf.split(X):\n",
    "    print(\"TRAIN:\", train_index, \"TEST:\", test_index)"
   ]
  },
  {
   "cell_type": "markdown",
   "metadata": {},
   "source": [
    "### 2.2 We can use the builtin Package cross_val_score to evaluate the model"
   ]
  },
  {
   "cell_type": "code",
   "execution_count": 110,
   "metadata": {},
   "outputs": [
    {
     "name": "stdout",
     "output_type": "stream",
     "text": [
      "[-0.11519645 -0.36833356 -0.82039383 -0.84205337 -0.43112767]\n"
     ]
    }
   ],
   "source": [
    "from sklearn.model_selection import cross_val_score\n",
    "model = Lasso(alpha=0.15)                    # Here alpha is like lambda in our slide\n",
    "print(cross_val_score(model, X, y, cv=5, scoring='neg_mean_squared_error'))\n",
    "# Output the cross validation score for each fold"
   ]
  },
  {
   "cell_type": "code",
   "execution_count": 111,
   "metadata": {},
   "outputs": [
    {
     "name": "stdout",
     "output_type": "stream",
     "text": [
      "[-0.12284232 -0.31074328 -0.47458661 -0.79483972 -0.2517076 ]\n"
     ]
    }
   ],
   "source": [
    "from sklearn.model_selection import cross_val_score\n",
    "model = Ridge(alpha=0.15*(2*len(y)))                    # Here alpha is like lambda in our slide\n",
    "print(cross_val_score(model, X, y, cv=5, scoring='neg_mean_squared_error'))\n",
    "# Output the cross validation score for each fold"
   ]
  },
  {
   "cell_type": "markdown",
   "metadata": {},
   "source": [
    "### 2.3 Grid Search and CV search for the best lambda"
   ]
  },
  {
   "cell_type": "code",
   "execution_count": 101,
   "metadata": {},
   "outputs": [
    {
     "name": "stderr",
     "output_type": "stream",
     "text": [
      "/Users/chenghua/anaconda/lib/python3.6/site-packages/sklearn/preprocessing/data.py:645: DataConversionWarning: Data with input dtype uint8, float64 were all converted to float64 by StandardScaler.\n",
      "  return self.partial_fit(X, y)\n",
      "/Users/chenghua/anaconda/lib/python3.6/site-packages/ipykernel_launcher.py:9: DataConversionWarning: Data with input dtype uint8, float64 were all converted to float64 by StandardScaler.\n",
      "  if __name__ == '__main__':\n"
     ]
    }
   ],
   "source": [
    "# First step, transformation\n",
    "from sklearn.preprocessing import StandardScaler\n",
    "y = target\n",
    "df_dummy = pd.get_dummies(df, columns = ['CHAS'],drop_first = True) # Change categorical to one-hot\n",
    "X = df_dummy\n",
    "scaler_x, scaler_y = StandardScaler(), StandardScaler()\n",
    "scaler_x.fit(X)\n",
    "scaler_y.fit(y)\n",
    "X = scaler_x.transform(X)\n",
    "y = scaler_y.transform(y)"
   ]
  },
  {
   "cell_type": "code",
   "execution_count": 107,
   "metadata": {},
   "outputs": [
    {
     "name": "stderr",
     "output_type": "stream",
     "text": [
      "/Users/chenghua/anaconda/lib/python3.6/site-packages/sklearn/model_selection/_search.py:841: DeprecationWarning: The default of the `iid` parameter will change from True to False in version 0.22 and will be removed in 0.24. This will change numeric results when test-set sizes are unequal.\n",
      "  DeprecationWarning)\n"
     ]
    },
    {
     "data": {
      "image/png": "[encoded data removed]",
      "text/plain": [
       "<Figure size 576x432 with 1 Axes>"
      ]
     },
     "metadata": {},
     "output_type": "display_data"
    },
    {
     "name": "stdout",
     "output_type": "stream",
     "text": [
      "{'alpha': 0.019179102616724848}\n"
     ]
    }
   ],
   "source": [
    "from sklearn.model_selection import GridSearchCV\n",
    "model = Lasso()\n",
    "alphas = np.logspace(-10, 10, 100)\n",
    "\n",
    "tuned_parameters = [{'alpha': alphas}]\n",
    "n_folds = 5\n",
    "\n",
    "clf = GridSearchCV(model, tuned_parameters, cv=n_folds, refit=False, scoring='neg_mean_squared_error')\n",
    "clf.fit(X, y)\n",
    "scores = clf.cv_results_['mean_test_score']\n",
    "scores_std = clf.cv_results_['std_test_score']\n",
    "\n",
    "plt.figure().set_size_inches(8, 6)\n",
    "plt.semilogx(alphas, scores)\n",
    "plt.ylabel('test MSE')\n",
    "plt.xlabel('alpha')\n",
    "plt.axhline(np.max(scores), linestyle='--', color='.5')\n",
    "plt.xlim([alphas[0], alphas[-1]])\n",
    "plt.show()\n",
    "print(clf.best_params_)"
   ]
  },
  {
   "cell_type": "code",
   "execution_count": 108,
   "metadata": {},
   "outputs": [
    {
     "name": "stderr",
     "output_type": "stream",
     "text": [
      "/Users/chenghua/anaconda/lib/python3.6/site-packages/sklearn/model_selection/_search.py:841: DeprecationWarning: The default of the `iid` parameter will change from True to False in version 0.22 and will be removed in 0.24. This will change numeric results when test-set sizes are unequal.\n",
      "  DeprecationWarning)\n"
     ]
    },
    {
     "data": {
      "image/png": "[encoded data removed]",
      "text/plain": [
       "<Figure size 576x432 with 1 Axes>"
      ]
     },
     "metadata": {},
     "output_type": "display_data"
    },
    {
     "name": "stdout",
     "output_type": "stream",
     "text": [
      "{'alpha': 83.02175681319736}\n"
     ]
    }
   ],
   "source": [
    "from sklearn.model_selection import GridSearchCV\n",
    "model = Ridge()\n",
    "alphas = np.logspace(-10, 10, 100)\n",
    "\n",
    "tuned_parameters = [{'alpha': alphas}]\n",
    "n_folds = 5\n",
    "\n",
    "clf = GridSearchCV(model, tuned_parameters, cv=n_folds, refit=False, scoring='neg_mean_squared_error')\n",
    "clf.fit(X, y)\n",
    "scores = clf.cv_results_['mean_test_score']\n",
    "scores_std = clf.cv_results_['std_test_score']\n",
    "\n",
    "plt.figure().set_size_inches(8, 6)\n",
    "plt.semilogx(alphas, scores)\n",
    "plt.ylabel('test MSE')\n",
    "plt.xlabel('alpha')\n",
    "plt.axhline(np.max(scores), linestyle='--', color='.5')\n",
    "plt.xlim([alphas[0], alphas[-1]])\n",
    "plt.show()\n",
    "\n",
    "print(clf.best_params_)"
   ]
  }
 ],
 "metadata": {
  "kernelspec": {
   "display_name": "Python 3",
   "language": "python",
   "name": "python3"
  },
  "language_info": {
   "codemirror_mode": {
    "name": "ipython",
    "version": 3
   },
   "file_extension": ".py",
   "mimetype": "text/x-python",
   "name": "python",
   "nbconvert_exporter": "python",
   "pygments_lexer": "ipython3",
   "version": "3.6.1"
  }
 },
 "nbformat": 4,
 "nbformat_minor": 2
}
