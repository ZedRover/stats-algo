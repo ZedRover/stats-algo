{
 "cells": [
  {
   "cell_type": "code",
   "execution_count": 1,
   "metadata": {},
   "outputs": [],
   "source": [
    "#pandas.Series\n"
   ]
  },
  {
   "cell_type": "code",
   "execution_count": 3,
   "metadata": {},
   "outputs": [
    {
     "data": {
      "text/html": [
       "<div>\n",
       "<style scoped>\n",
       "    .dataframe tbody tr th:only-of-type {\n",
       "        vertical-align: middle;\n",
       "    }\n",
       "\n",
       "    .dataframe tbody tr th {\n",
       "        vertical-align: top;\n",
       "    }\n",
       "\n",
       "    .dataframe thead th {\n",
       "        text-align: right;\n",
       "    }\n",
       "</style>\n",
       "<table border=\"1\" class=\"dataframe\">\n",
       "  <thead>\n",
       "    <tr style=\"text-align: right;\">\n",
       "      <th></th>\n",
       "      <th>name</th>\n",
       "      <th>age</th>\n",
       "    </tr>\n",
       "  </thead>\n",
       "  <tbody>\n",
       "    <tr>\n",
       "      <th>11</th>\n",
       "      <td>alan</td>\n",
       "      <td>10</td>\n",
       "    </tr>\n",
       "    <tr>\n",
       "      <th>12</th>\n",
       "      <td>asdf</td>\n",
       "      <td>12</td>\n",
       "    </tr>\n",
       "  </tbody>\n",
       "</table>\n",
       "</div>"
      ],
      "text/plain": [
       "    name  age\n",
       "11  alan   10\n",
       "12  asdf   12"
      ]
     },
     "execution_count": 3,
     "metadata": {},
     "output_type": "execute_result"
    }
   ],
   "source": [
    "#pandas.DataFrame\n",
    "import pandas as pd\n",
    "a = {\"name\":[\"alan\",\"asdf\"],\"age\":[10,12]}\n",
    "b = pd.DataFrame(a)\n",
    "b.index = [11,12]\n",
    "b"
   ]
  },
  {
   "cell_type": "code",
   "execution_count": 4,
   "metadata": {
    "tags": []
   },
   "outputs": [
    {
     "name": "stdout",
     "output_type": "stream",
     "text": [
      "[[0.00000000e+000 2.24042139e-314 6.46069882e-319 ... 5.55062520e-254\n",
      "  2.38469049e-244 1.02452391e-234]\n",
      " [5.83290235e-302 5.85266547e-302 5.85494397e-302 ... 1.14086523e-104\n",
      "  4.90144188e-095 2.10578163e-085]\n",
      " [9.04696209e-076 3.88679977e-066 5.45607016e-061 ... 1.80544279e-309\n",
      "  6.31993568e+069 1.90160792e-210]\n",
      " ...\n",
      " [2.31460835e-152 1.14448785e+243 2.86530675e+161 ... 5.98189629e-154\n",
      "  4.47593816e-091 1.87725413e-009]\n",
      " [1.38220962e+219 8.44747281e+252 1.77457962e+248 ... 1.87725413e-009\n",
      "  1.80723869e+185 2.31634004e-152]\n",
      " [2.35900690e+251 4.81727459e+276 4.81728283e+276 ... 1.46922889e+195\n",
      "  6.19407483e+223 4.70102456e+180]]\n",
      "                0              1              2              3   \\\n",
      "0     0.000000e+00  2.240421e-314  6.460699e-319            NaN   \n",
      "1    5.832902e-302  5.852665e-302  5.854944e-302  8.124415e-206   \n",
      "2     9.046962e-76   3.886800e-66   5.456070e-61  5.832903e-302   \n",
      "3    1.827172e-309   1.166444e+89  1.843470e-309  6.061253e-302   \n",
      "4    1.105350e+185   7.491090e-95  6.393789e+170  3.131317e+199   \n",
      "..             ...            ...            ...            ...   \n",
      "995  2.462918e+198  7.360940e+223  1.217906e-152  5.981504e-154   \n",
      "996  1.235583e-259  9.281019e+252  2.523032e-258   4.475938e-91   \n",
      "997  2.314608e-152  1.144488e+243  2.865307e+161  5.997474e+180   \n",
      "998  1.382210e+219  8.447473e+252  1.774580e+248  7.882299e+276   \n",
      "999  2.359007e+251  4.817275e+276  4.817283e+276   3.028764e-86   \n",
      "\n",
      "                4              5              6              7   \\\n",
      "0    8.331307e-316  3.545438e-309  1.121529e-321  8.691695e-311   \n",
      "1    5.832902e-302  2.287847e-191  5.832903e-302  4.222860e-172   \n",
      "2     7.174157e-47   1.006748e-41   2.020248e-32   8.679486e-23   \n",
      "3    1.474519e+103  6.334890e+112  3.567411e-191  3.578469e-306   \n",
      "4     1.394847e-75  1.851760e-286  6.709417e-302  5.780569e+218   \n",
      "..             ...            ...            ...            ...   \n",
      "995  4.817317e+276  2.433960e-152  3.296737e+180  1.906495e+185   \n",
      "996  2.440413e-154   2.166384e-27  1.021885e-152  1.368945e+161   \n",
      "997   1.036231e-28  9.499827e-154  1.425873e+214  9.136127e+242   \n",
      "998   3.034262e-86  2.934946e+222  4.817317e+276  9.277774e+242   \n",
      "999  6.011927e+180  2.463092e-154  4.832460e+276   8.037043e-95   \n",
      "\n",
      "                8              9              10             11  \\\n",
      "0    3.642729e-280  5.833298e-302  5.834437e-302  1.629225e-292   \n",
      "1    5.942354e-167  1.189163e-157  5.832903e-302  3.348697e-143   \n",
      "2     3.728921e-13   1.602036e-03   6.882741e+06   9.644068e+11   \n",
      "3    3.579859e-306  3.581250e-306  5.335607e+146  7.870113e-148   \n",
      "4    4.876962e+229  1.697915e-309   7.250868e-42   4.806132e-37   \n",
      "..             ...            ...            ...            ...   \n",
      "995  1.239717e+224  1.010550e+261  4.816966e+276  4.643020e+164   \n",
      "996  1.948086e+227  8.784220e+247  4.245102e+175  1.344528e+161   \n",
      "997  4.722098e+164  6.013470e-154  1.774580e+248  9.104342e+276   \n",
      "998   3.028764e-86  6.013470e-154  4.572175e+228  3.266324e+131   \n",
      "999  1.058947e-153  6.031345e-154   1.722212e+97  1.163049e+214   \n",
      "\n",
      "                12             13             14             15  \\\n",
      "0    5.832902e-302  5.838994e-302  5.840134e-302  5.841273e-302   \n",
      "1    4.709330e-138  5.832903e-302  6.180950e-124  8.689601e-119   \n",
      "2     1.938184e+21  5.832903e-302  3.169355e-309  1.789146e-309   \n",
      "3    5.125612e-143  2.267340e+156  2.201434e-133  2.268178e+156   \n",
      "4    3.239617e+233  1.335058e-205  3.859524e-297  9.594856e-287   \n",
      "..             ...            ...            ...            ...   \n",
      "995  3.671490e+228  9.061672e+227  2.025392e+267  3.110838e+161   \n",
      "996  6.218139e+175  1.392356e-258  2.198197e+209  2.199803e-152   \n",
      "997  4.245154e+175  1.951325e+227  9.757727e+199  9.517485e-259   \n",
      "998   7.253808e-43   4.288895e-67   1.261553e-76   9.166560e-72   \n",
      "999  9.921526e+247  6.013470e-154  1.238086e+223  1.434859e+161   \n",
      "\n",
      "                16             17             18             19  \n",
      "0    1.291968e-263  5.550625e-254  2.384690e-244  1.024524e-234  \n",
      "1    5.832903e-302  1.140865e-104   4.901442e-95   2.105782e-85  \n",
      "2     2.244394e+55  1.805443e-309   6.319936e+69  1.901608e-210  \n",
      "3    9.455085e-124  6.386713e+170  1.695971e+180  3.589594e-306  \n",
      "4    3.784703e-307  5.946397e+247   1.338583e-22  2.126952e+262  \n",
      "..             ...            ...            ...            ...  \n",
      "995  1.774580e+248  1.814504e-152  3.482374e+227  5.285558e+180  \n",
      "996  1.774580e+248  7.203588e+159  5.305813e+180  1.067580e+224  \n",
      "997  3.412148e+161  5.981896e-154   4.475938e-91   1.877254e-09  \n",
      "998  8.981352e-120   1.877254e-09  1.807239e+185  2.316340e-152  \n",
      "999  1.507626e+161  1.469229e+195  6.194075e+223  4.701025e+180  \n",
      "\n",
      "[1000 rows x 20 columns]\n"
     ]
    }
   ],
   "source": [
    "import numpy as np\n",
    "#Array\n",
    "#pd.DataFrame(Array)\n",
    "aa = np.empty((1000,20))\n",
    "print(aa)\n",
    "bb = pd.DataFrame(aa)\n",
    "print(bb)"
   ]
  },
  {
   "cell_type": "code",
   "execution_count": 5,
   "metadata": {
    "tags": []
   },
   "outputs": [
    {
     "name": "stdout",
     "output_type": "stream",
     "text": [
      "              0              1              2              3              4   \\\n",
      "0   0.000000e+00  2.240421e-314  6.460699e-319            NaN  8.331307e-316   \n",
      "1  5.832902e-302  5.852665e-302  5.854944e-302  8.124415e-206  5.832902e-302   \n",
      "2   9.046962e-76   3.886800e-66   5.456070e-61  5.832903e-302   7.174157e-47   \n",
      "3  1.827172e-309   1.166444e+89  1.843470e-309  6.061253e-302  1.474519e+103   \n",
      "4  1.105350e+185   7.491090e-95  6.393789e+170  3.131317e+199   1.394847e-75   \n",
      "\n",
      "              5              6              7              8              9   \\\n",
      "0  3.545438e-309  1.121529e-321  8.691695e-311  3.642729e-280  5.833298e-302   \n",
      "1  2.287847e-191  5.832903e-302  4.222860e-172  5.942354e-167  1.189163e-157   \n",
      "2   1.006748e-41   2.020248e-32   8.679486e-23   3.728921e-13   1.602036e-03   \n",
      "3  6.334890e+112  3.567411e-191  3.578469e-306  3.579859e-306  3.581250e-306   \n",
      "4  1.851760e-286  6.709417e-302  5.780569e+218  4.876962e+229  1.697915e-309   \n",
      "\n",
      "              10             11             12             13             14  \\\n",
      "0  5.834437e-302  1.629225e-292  5.832902e-302  5.838994e-302  5.840134e-302   \n",
      "1  5.832903e-302  3.348697e-143  4.709330e-138  5.832903e-302  6.180950e-124   \n",
      "2   6.882741e+06   9.644068e+11   1.938184e+21  5.832903e-302  3.169355e-309   \n",
      "3  5.335607e+146  7.870113e-148  5.125612e-143  2.267340e+156  2.201434e-133   \n",
      "4   7.250868e-42   4.806132e-37  3.239617e+233  1.335058e-205  3.859524e-297   \n",
      "\n",
      "              15             16             17             18             19  \n",
      "0  5.841273e-302  1.291968e-263  5.550625e-254  2.384690e-244  1.024524e-234  \n",
      "1  8.689601e-119  5.832903e-302  1.140865e-104   4.901442e-95   2.105782e-85  \n",
      "2  1.789146e-309   2.244394e+55  1.805443e-309   6.319936e+69  1.901608e-210  \n",
      "3  2.268178e+156  9.455085e-124  6.386713e+170  1.695971e+180  3.589594e-306  \n",
      "4  9.594856e-287  3.784703e-307  5.946397e+247   1.338583e-22  2.126952e+262  \n",
      "==================================\n",
      "                0              1              2              3   \\\n",
      "995  2.462918e+198  7.360940e+223  1.217906e-152  5.981504e-154   \n",
      "996  1.235583e-259  9.281019e+252  2.523032e-258   4.475938e-91   \n",
      "997  2.314608e-152  1.144488e+243  2.865307e+161  5.997474e+180   \n",
      "998  1.382210e+219  8.447473e+252  1.774580e+248  7.882299e+276   \n",
      "999  2.359007e+251  4.817275e+276  4.817283e+276   3.028764e-86   \n",
      "\n",
      "                4              5              6              7   \\\n",
      "995  4.817317e+276  2.433960e-152  3.296737e+180  1.906495e+185   \n",
      "996  2.440413e-154   2.166384e-27  1.021885e-152  1.368945e+161   \n",
      "997   1.036231e-28  9.499827e-154  1.425873e+214  9.136127e+242   \n",
      "998   3.034262e-86  2.934946e+222  4.817317e+276  9.277774e+242   \n",
      "999  6.011927e+180  2.463092e-154  4.832460e+276   8.037043e-95   \n",
      "\n",
      "                8              9              10             11  \\\n",
      "995  1.239717e+224  1.010550e+261  4.816966e+276  4.643020e+164   \n",
      "996  1.948086e+227  8.784220e+247  4.245102e+175  1.344528e+161   \n",
      "997  4.722098e+164  6.013470e-154  1.774580e+248  9.104342e+276   \n",
      "998   3.028764e-86  6.013470e-154  4.572175e+228  3.266324e+131   \n",
      "999  1.058947e-153  6.031345e-154   1.722212e+97  1.163049e+214   \n",
      "\n",
      "                12             13             14             15  \\\n",
      "995  3.671490e+228  9.061672e+227  2.025392e+267  3.110838e+161   \n",
      "996  6.218139e+175  1.392356e-258  2.198197e+209  2.199803e-152   \n",
      "997  4.245154e+175  1.951325e+227  9.757727e+199  9.517485e-259   \n",
      "998   7.253808e-43   4.288895e-67   1.261553e-76   9.166560e-72   \n",
      "999  9.921526e+247  6.013470e-154  1.238086e+223  1.434859e+161   \n",
      "\n",
      "                16             17             18             19  \n",
      "995  1.774580e+248  1.814504e-152  3.482374e+227  5.285558e+180  \n",
      "996  1.774580e+248  7.203588e+159  5.305813e+180  1.067580e+224  \n",
      "997  3.412148e+161  5.981896e-154   4.475938e-91   1.877254e-09  \n",
      "998  8.981352e-120   1.877254e-09  1.807239e+185  2.316340e-152  \n",
      "999  1.507626e+161  1.469229e+195  6.194075e+223  4.701025e+180  \n"
     ]
    }
   ],
   "source": [
    "#print(bb.describe())\n",
    "#print(bb.size)\n",
    "print(bb.head())\n",
    "print(\"==================================\")\n",
    "print(bb.tail())\n"
   ]
  },
  {
   "cell_type": "code",
   "execution_count": 6,
   "metadata": {
    "tags": []
   },
   "outputs": [
    {
     "name": "stdout",
     "output_type": "stream",
     "text": [
      "               1              2\n",
      "1  5.852665e-302  5.854944e-302\n",
      "2   3.886800e-66   5.456070e-61\n",
      "3   1.166444e+89  1.843470e-309\n",
      "4   7.491090e-95  6.393789e+170\n",
      "5  3.540994e-308  3.540994e-308\n",
      "6   2.870238e+74  6.644664e+295\n",
      "7  6.038950e+170  2.617657e-307\n",
      "8  1.319605e+267  1.114398e-229\n",
      "9 -8.805831e-225 -3.108701e-268\n"
     ]
    }
   ],
   "source": [
    "print(bb.iloc[1:10,1:3])"
   ]
  },
  {
   "cell_type": "code",
   "execution_count": 7,
   "metadata": {},
   "outputs": [
    {
     "data": {
      "text/html": [
       "<div>\n",
       "<style scoped>\n",
       "    .dataframe tbody tr th:only-of-type {\n",
       "        vertical-align: middle;\n",
       "    }\n",
       "\n",
       "    .dataframe tbody tr th {\n",
       "        vertical-align: top;\n",
       "    }\n",
       "\n",
       "    .dataframe thead th {\n",
       "        text-align: right;\n",
       "    }\n",
       "</style>\n",
       "<table border=\"1\" class=\"dataframe\">\n",
       "  <thead>\n",
       "    <tr style=\"text-align: right;\">\n",
       "      <th></th>\n",
       "      <th>1</th>\n",
       "      <th>2</th>\n",
       "      <th>3</th>\n",
       "      <th>4</th>\n",
       "      <th>5</th>\n",
       "      <th>6</th>\n",
       "      <th>7</th>\n",
       "      <th>8</th>\n",
       "    </tr>\n",
       "  </thead>\n",
       "  <tbody>\n",
       "    <tr>\n",
       "      <th>2</th>\n",
       "      <td>3.886800e-66</td>\n",
       "      <td>5.456070e-61</td>\n",
       "      <td>5.832903e-302</td>\n",
       "      <td>7.174157e-47</td>\n",
       "      <td>1.006748e-41</td>\n",
       "      <td>2.020248e-32</td>\n",
       "      <td>8.679486e-23</td>\n",
       "      <td>3.728921e-13</td>\n",
       "    </tr>\n",
       "  </tbody>\n",
       "</table>\n",
       "</div>"
      ],
      "text/plain": [
       "              1             2              3             4             5  \\\n",
       "2  3.886800e-66  5.456070e-61  5.832903e-302  7.174157e-47  1.006748e-41   \n",
       "\n",
       "              6             7             8  \n",
       "2  2.020248e-32  8.679486e-23  3.728921e-13  "
      ]
     },
     "execution_count": 7,
     "metadata": {},
     "output_type": "execute_result"
    }
   ],
   "source": [
    "bb.iloc[2:3,1:9]"
   ]
  },
  {
   "cell_type": "code",
   "execution_count": 8,
   "metadata": {},
   "outputs": [
    {
     "ename": "KeyError",
     "evalue": "\"None of [Index([''], dtype='object')] are in the [index]\"",
     "output_type": "error",
     "traceback": [
      "\u001b[0;31m---------------------------------------------------------------------------\u001b[0m",
      "\u001b[0;31mKeyError\u001b[0m                                  Traceback (most recent call last)",
      "\u001b[0;32m<ipython-input-8-202067d798ae>\u001b[0m in \u001b[0;36m<module>\u001b[0;34m\u001b[0m\n\u001b[1;32m      2\u001b[0m \u001b[0;31m#通过标签索引\u001b[0m\u001b[0;34m\u001b[0m\u001b[0;34m\u001b[0m\u001b[0;34m\u001b[0m\u001b[0m\n\u001b[1;32m      3\u001b[0m \u001b[0;31m#index行 columns列\u001b[0m\u001b[0;34m\u001b[0m\u001b[0;34m\u001b[0m\u001b[0;34m\u001b[0m\u001b[0m\n\u001b[0;32m----> 4\u001b[0;31m \u001b[0mbb\u001b[0m\u001b[0;34m.\u001b[0m\u001b[0mloc\u001b[0m\u001b[0;34m[\u001b[0m\u001b[0;34m[\u001b[0m\u001b[0;34m\"\"\u001b[0m\u001b[0;34m]\u001b[0m\u001b[0;34m,\u001b[0m\u001b[0;34m[\u001b[0m\u001b[0;34m\"\"\u001b[0m\u001b[0;34m]\u001b[0m\u001b[0;34m]\u001b[0m\u001b[0;34m\u001b[0m\u001b[0;34m\u001b[0m\u001b[0m\n\u001b[0m\u001b[1;32m      5\u001b[0m \u001b[0;34m\u001b[0m\u001b[0m\n",
      "\u001b[0;32m~/.pyenv/versions/anaconda3-5.3.1/lib/python3.7/site-packages/pandas/core/indexing.py\u001b[0m in \u001b[0;36m__getitem__\u001b[0;34m(self, key)\u001b[0m\n\u001b[1;32m    871\u001b[0m                     \u001b[0;31m# AttributeError for IntervalTree get_value\u001b[0m\u001b[0;34m\u001b[0m\u001b[0;34m\u001b[0m\u001b[0;34m\u001b[0m\u001b[0m\n\u001b[1;32m    872\u001b[0m                     \u001b[0;32mpass\u001b[0m\u001b[0;34m\u001b[0m\u001b[0;34m\u001b[0m\u001b[0m\n\u001b[0;32m--> 873\u001b[0;31m             \u001b[0;32mreturn\u001b[0m \u001b[0mself\u001b[0m\u001b[0;34m.\u001b[0m\u001b[0m_getitem_tuple\u001b[0m\u001b[0;34m(\u001b[0m\u001b[0mkey\u001b[0m\u001b[0;34m)\u001b[0m\u001b[0;34m\u001b[0m\u001b[0;34m\u001b[0m\u001b[0m\n\u001b[0m\u001b[1;32m    874\u001b[0m         \u001b[0;32melse\u001b[0m\u001b[0;34m:\u001b[0m\u001b[0;34m\u001b[0m\u001b[0;34m\u001b[0m\u001b[0m\n\u001b[1;32m    875\u001b[0m             \u001b[0;31m# we by definition only have the 0th axis\u001b[0m\u001b[0;34m\u001b[0m\u001b[0;34m\u001b[0m\u001b[0;34m\u001b[0m\u001b[0m\n",
      "\u001b[0;32m~/.pyenv/versions/anaconda3-5.3.1/lib/python3.7/site-packages/pandas/core/indexing.py\u001b[0m in \u001b[0;36m_getitem_tuple\u001b[0;34m(self, tup)\u001b[0m\n\u001b[1;32m   1051\u001b[0m         \u001b[0;31m# ugly hack for GH #836\u001b[0m\u001b[0;34m\u001b[0m\u001b[0;34m\u001b[0m\u001b[0;34m\u001b[0m\u001b[0m\n\u001b[1;32m   1052\u001b[0m         \u001b[0;32mif\u001b[0m \u001b[0mself\u001b[0m\u001b[0;34m.\u001b[0m\u001b[0m_multi_take_opportunity\u001b[0m\u001b[0;34m(\u001b[0m\u001b[0mtup\u001b[0m\u001b[0;34m)\u001b[0m\u001b[0;34m:\u001b[0m\u001b[0;34m\u001b[0m\u001b[0;34m\u001b[0m\u001b[0m\n\u001b[0;32m-> 1053\u001b[0;31m             \u001b[0;32mreturn\u001b[0m \u001b[0mself\u001b[0m\u001b[0;34m.\u001b[0m\u001b[0m_multi_take\u001b[0m\u001b[0;34m(\u001b[0m\u001b[0mtup\u001b[0m\u001b[0;34m)\u001b[0m\u001b[0;34m\u001b[0m\u001b[0;34m\u001b[0m\u001b[0m\n\u001b[0m\u001b[1;32m   1054\u001b[0m \u001b[0;34m\u001b[0m\u001b[0m\n\u001b[1;32m   1055\u001b[0m         \u001b[0;32mreturn\u001b[0m \u001b[0mself\u001b[0m\u001b[0;34m.\u001b[0m\u001b[0m_getitem_tuple_same_dim\u001b[0m\u001b[0;34m(\u001b[0m\u001b[0mtup\u001b[0m\u001b[0;34m)\u001b[0m\u001b[0;34m\u001b[0m\u001b[0;34m\u001b[0m\u001b[0m\n",
      "\u001b[0;32m~/.pyenv/versions/anaconda3-5.3.1/lib/python3.7/site-packages/pandas/core/indexing.py\u001b[0m in \u001b[0;36m_multi_take\u001b[0;34m(self, tup)\u001b[0m\n\u001b[1;32m   1003\u001b[0m         d = {\n\u001b[1;32m   1004\u001b[0m             \u001b[0maxis\u001b[0m\u001b[0;34m:\u001b[0m \u001b[0mself\u001b[0m\u001b[0;34m.\u001b[0m\u001b[0m_get_listlike_indexer\u001b[0m\u001b[0;34m(\u001b[0m\u001b[0mkey\u001b[0m\u001b[0;34m,\u001b[0m \u001b[0maxis\u001b[0m\u001b[0;34m)\u001b[0m\u001b[0;34m\u001b[0m\u001b[0;34m\u001b[0m\u001b[0m\n\u001b[0;32m-> 1005\u001b[0;31m             \u001b[0;32mfor\u001b[0m \u001b[0;34m(\u001b[0m\u001b[0mkey\u001b[0m\u001b[0;34m,\u001b[0m \u001b[0maxis\u001b[0m\u001b[0;34m)\u001b[0m \u001b[0;32min\u001b[0m \u001b[0mzip\u001b[0m\u001b[0;34m(\u001b[0m\u001b[0mtup\u001b[0m\u001b[0;34m,\u001b[0m \u001b[0mself\u001b[0m\u001b[0;34m.\u001b[0m\u001b[0mobj\u001b[0m\u001b[0;34m.\u001b[0m\u001b[0m_AXIS_ORDERS\u001b[0m\u001b[0;34m)\u001b[0m\u001b[0;34m\u001b[0m\u001b[0;34m\u001b[0m\u001b[0m\n\u001b[0m\u001b[1;32m   1006\u001b[0m         }\n\u001b[1;32m   1007\u001b[0m         \u001b[0;32mreturn\u001b[0m \u001b[0mself\u001b[0m\u001b[0;34m.\u001b[0m\u001b[0mobj\u001b[0m\u001b[0;34m.\u001b[0m\u001b[0m_reindex_with_indexers\u001b[0m\u001b[0;34m(\u001b[0m\u001b[0md\u001b[0m\u001b[0;34m,\u001b[0m \u001b[0mcopy\u001b[0m\u001b[0;34m=\u001b[0m\u001b[0;32mTrue\u001b[0m\u001b[0;34m,\u001b[0m \u001b[0mallow_dups\u001b[0m\u001b[0;34m=\u001b[0m\u001b[0;32mTrue\u001b[0m\u001b[0;34m)\u001b[0m\u001b[0;34m\u001b[0m\u001b[0;34m\u001b[0m\u001b[0m\n",
      "\u001b[0;32m~/.pyenv/versions/anaconda3-5.3.1/lib/python3.7/site-packages/pandas/core/indexing.py\u001b[0m in \u001b[0;36m<dictcomp>\u001b[0;34m(.0)\u001b[0m\n\u001b[1;32m   1003\u001b[0m         d = {\n\u001b[1;32m   1004\u001b[0m             \u001b[0maxis\u001b[0m\u001b[0;34m:\u001b[0m \u001b[0mself\u001b[0m\u001b[0;34m.\u001b[0m\u001b[0m_get_listlike_indexer\u001b[0m\u001b[0;34m(\u001b[0m\u001b[0mkey\u001b[0m\u001b[0;34m,\u001b[0m \u001b[0maxis\u001b[0m\u001b[0;34m)\u001b[0m\u001b[0;34m\u001b[0m\u001b[0;34m\u001b[0m\u001b[0m\n\u001b[0;32m-> 1005\u001b[0;31m             \u001b[0;32mfor\u001b[0m \u001b[0;34m(\u001b[0m\u001b[0mkey\u001b[0m\u001b[0;34m,\u001b[0m \u001b[0maxis\u001b[0m\u001b[0;34m)\u001b[0m \u001b[0;32min\u001b[0m \u001b[0mzip\u001b[0m\u001b[0;34m(\u001b[0m\u001b[0mtup\u001b[0m\u001b[0;34m,\u001b[0m \u001b[0mself\u001b[0m\u001b[0;34m.\u001b[0m\u001b[0mobj\u001b[0m\u001b[0;34m.\u001b[0m\u001b[0m_AXIS_ORDERS\u001b[0m\u001b[0;34m)\u001b[0m\u001b[0;34m\u001b[0m\u001b[0;34m\u001b[0m\u001b[0m\n\u001b[0m\u001b[1;32m   1006\u001b[0m         }\n\u001b[1;32m   1007\u001b[0m         \u001b[0;32mreturn\u001b[0m \u001b[0mself\u001b[0m\u001b[0;34m.\u001b[0m\u001b[0mobj\u001b[0m\u001b[0;34m.\u001b[0m\u001b[0m_reindex_with_indexers\u001b[0m\u001b[0;34m(\u001b[0m\u001b[0md\u001b[0m\u001b[0;34m,\u001b[0m \u001b[0mcopy\u001b[0m\u001b[0;34m=\u001b[0m\u001b[0;32mTrue\u001b[0m\u001b[0;34m,\u001b[0m \u001b[0mallow_dups\u001b[0m\u001b[0;34m=\u001b[0m\u001b[0;32mTrue\u001b[0m\u001b[0;34m)\u001b[0m\u001b[0;34m\u001b[0m\u001b[0;34m\u001b[0m\u001b[0m\n",
      "\u001b[0;32m~/.pyenv/versions/anaconda3-5.3.1/lib/python3.7/site-packages/pandas/core/indexing.py\u001b[0m in \u001b[0;36m_get_listlike_indexer\u001b[0;34m(self, key, axis, raise_missing)\u001b[0m\n\u001b[1;32m   1252\u001b[0m             \u001b[0mkeyarr\u001b[0m\u001b[0;34m,\u001b[0m \u001b[0mindexer\u001b[0m\u001b[0;34m,\u001b[0m \u001b[0mnew_indexer\u001b[0m \u001b[0;34m=\u001b[0m \u001b[0max\u001b[0m\u001b[0;34m.\u001b[0m\u001b[0m_reindex_non_unique\u001b[0m\u001b[0;34m(\u001b[0m\u001b[0mkeyarr\u001b[0m\u001b[0;34m)\u001b[0m\u001b[0;34m\u001b[0m\u001b[0;34m\u001b[0m\u001b[0m\n\u001b[1;32m   1253\u001b[0m \u001b[0;34m\u001b[0m\u001b[0m\n\u001b[0;32m-> 1254\u001b[0;31m         \u001b[0mself\u001b[0m\u001b[0;34m.\u001b[0m\u001b[0m_validate_read_indexer\u001b[0m\u001b[0;34m(\u001b[0m\u001b[0mkeyarr\u001b[0m\u001b[0;34m,\u001b[0m \u001b[0mindexer\u001b[0m\u001b[0;34m,\u001b[0m \u001b[0maxis\u001b[0m\u001b[0;34m,\u001b[0m \u001b[0mraise_missing\u001b[0m\u001b[0;34m=\u001b[0m\u001b[0mraise_missing\u001b[0m\u001b[0;34m)\u001b[0m\u001b[0;34m\u001b[0m\u001b[0;34m\u001b[0m\u001b[0m\n\u001b[0m\u001b[1;32m   1255\u001b[0m         \u001b[0;32mreturn\u001b[0m \u001b[0mkeyarr\u001b[0m\u001b[0;34m,\u001b[0m \u001b[0mindexer\u001b[0m\u001b[0;34m\u001b[0m\u001b[0;34m\u001b[0m\u001b[0m\n\u001b[1;32m   1256\u001b[0m \u001b[0;34m\u001b[0m\u001b[0m\n",
      "\u001b[0;32m~/.pyenv/versions/anaconda3-5.3.1/lib/python3.7/site-packages/pandas/core/indexing.py\u001b[0m in \u001b[0;36m_validate_read_indexer\u001b[0;34m(self, key, indexer, axis, raise_missing)\u001b[0m\n\u001b[1;32m   1296\u001b[0m             \u001b[0;32mif\u001b[0m \u001b[0mmissing\u001b[0m \u001b[0;34m==\u001b[0m \u001b[0mlen\u001b[0m\u001b[0;34m(\u001b[0m\u001b[0mindexer\u001b[0m\u001b[0;34m)\u001b[0m\u001b[0;34m:\u001b[0m\u001b[0;34m\u001b[0m\u001b[0;34m\u001b[0m\u001b[0m\n\u001b[1;32m   1297\u001b[0m                 \u001b[0maxis_name\u001b[0m \u001b[0;34m=\u001b[0m \u001b[0mself\u001b[0m\u001b[0;34m.\u001b[0m\u001b[0mobj\u001b[0m\u001b[0;34m.\u001b[0m\u001b[0m_get_axis_name\u001b[0m\u001b[0;34m(\u001b[0m\u001b[0maxis\u001b[0m\u001b[0;34m)\u001b[0m\u001b[0;34m\u001b[0m\u001b[0;34m\u001b[0m\u001b[0m\n\u001b[0;32m-> 1298\u001b[0;31m                 \u001b[0;32mraise\u001b[0m \u001b[0mKeyError\u001b[0m\u001b[0;34m(\u001b[0m\u001b[0;34mf\"None of [{key}] are in the [{axis_name}]\"\u001b[0m\u001b[0;34m)\u001b[0m\u001b[0;34m\u001b[0m\u001b[0;34m\u001b[0m\u001b[0m\n\u001b[0m\u001b[1;32m   1299\u001b[0m \u001b[0;34m\u001b[0m\u001b[0m\n\u001b[1;32m   1300\u001b[0m             \u001b[0;31m# We (temporarily) allow for some missing keys with .loc, except in\u001b[0m\u001b[0;34m\u001b[0m\u001b[0;34m\u001b[0m\u001b[0;34m\u001b[0m\u001b[0m\n",
      "\u001b[0;31mKeyError\u001b[0m: \"None of [Index([''], dtype='object')] are in the [index]\""
     ]
    }
   ],
   "source": [
    "#df.loc[]\n",
    "#通过标签索引\n",
    "#index行 columns列\n",
    "bb.loc[[\"\"],[\"\"]]\n",
    "\n"
   ]
  },
  {
   "cell_type": "code",
   "execution_count": 31,
   "metadata": {
    "tags": []
   },
   "outputs": [
    {
     "name": "stdout",
     "output_type": "stream",
     "text": [
      "age                                                \n",
      "       count   mean       std   min    25%   50%   75%   max\n",
      "gender                                                      \n",
      "f        4.0   9.25  14.52297   1.0   1.75   2.5  10.0  31.0\n",
      "m        1.0  21.00       NaN  21.0  21.00  21.0  21.0  21.0\n"
     ]
    }
   ],
   "source": [
    "data = {\"gender\":['f','m','f','f','f'],\n",
    "\"age\":[1,21,31,2,3]}\n",
    "data1 = pd.DataFrame(data)\n",
    "print(data1.groupby(\"gender\").describe())"
   ]
  },
  {
   "cell_type": "code",
   "execution_count": 38,
   "metadata": {},
   "outputs": [
    {
     "data": {
      "text/html": [
       "<div>\n",
       "<style scoped>\n",
       "    .dataframe tbody tr th:only-of-type {\n",
       "        vertical-align: middle;\n",
       "    }\n",
       "\n",
       "    .dataframe tbody tr th {\n",
       "        vertical-align: top;\n",
       "    }\n",
       "\n",
       "    .dataframe thead th {\n",
       "        text-align: right;\n",
       "    }\n",
       "</style>\n",
       "<table border=\"1\" class=\"dataframe\">\n",
       "  <thead>\n",
       "    <tr style=\"text-align: right;\">\n",
       "      <th></th>\n",
       "      <th>0</th>\n",
       "      <th>1</th>\n",
       "      <th>2</th>\n",
       "      <th>3</th>\n",
       "      <th>4</th>\n",
       "    </tr>\n",
       "  </thead>\n",
       "  <tbody>\n",
       "    <tr>\n",
       "      <th>gender</th>\n",
       "      <td>f</td>\n",
       "      <td>m</td>\n",
       "      <td>f</td>\n",
       "      <td>f</td>\n",
       "      <td>f</td>\n",
       "    </tr>\n",
       "    <tr>\n",
       "      <th>age</th>\n",
       "      <td>1</td>\n",
       "      <td>21</td>\n",
       "      <td>31</td>\n",
       "      <td>2</td>\n",
       "      <td>3</td>\n",
       "    </tr>\n",
       "  </tbody>\n",
       "</table>\n",
       "</div>"
      ],
      "text/plain": [
       "        0   1   2  3  4\n",
       "gender  f   m   f  f  f\n",
       "age     1  21  31  2  3"
      ]
     },
     "execution_count": 38,
     "metadata": {},
     "output_type": "execute_result"
    }
   ],
   "source": [
    "data1.T"
   ]
  },
  {
   "cell_type": "code",
   "execution_count": 126,
   "metadata": {
    "tags": []
   },
   "outputs": [
    {
     "data": {
      "text/html": [
       "<div>\n",
       "<style scoped>\n",
       "    .dataframe tbody tr th:only-of-type {\n",
       "        vertical-align: middle;\n",
       "    }\n",
       "\n",
       "    .dataframe tbody tr th {\n",
       "        vertical-align: top;\n",
       "    }\n",
       "\n",
       "    .dataframe thead th {\n",
       "        text-align: right;\n",
       "    }\n",
       "</style>\n",
       "<table border=\"1\" class=\"dataframe\">\n",
       "  <thead>\n",
       "    <tr style=\"text-align: right;\">\n",
       "      <th></th>\n",
       "      <th>0</th>\n",
       "      <th>1</th>\n",
       "      <th>2</th>\n",
       "      <th>3</th>\n",
       "      <th>4</th>\n",
       "      <th>5</th>\n",
       "      <th>6</th>\n",
       "      <th>7</th>\n",
       "      <th>8</th>\n",
       "      <th>9</th>\n",
       "    </tr>\n",
       "  </thead>\n",
       "  <tbody>\n",
       "    <tr>\n",
       "      <th>0</th>\n",
       "      <td>q</td>\n",
       "      <td>w</td>\n",
       "      <td>e</td>\n",
       "      <td>r</td>\n",
       "      <td>a</td>\n",
       "      <td>s</td>\n",
       "      <td>t</td>\n",
       "      <td>u</td>\n",
       "      <td>v</td>\n",
       "      <td>NaN</td>\n",
       "    </tr>\n",
       "    <tr>\n",
       "      <th>1</th>\n",
       "      <td>1</td>\n",
       "      <td>2</td>\n",
       "      <td>3</td>\n",
       "      <td>4</td>\n",
       "      <td>5</td>\n",
       "      <td>6</td>\n",
       "      <td>1</td>\n",
       "      <td>2</td>\n",
       "      <td>1</td>\n",
       "      <td>NaN</td>\n",
       "    </tr>\n",
       "    <tr>\n",
       "      <th>2</th>\n",
       "      <td>99</td>\n",
       "      <td>12</td>\n",
       "      <td>12</td>\n",
       "      <td>31</td>\n",
       "      <td>23</td>\n",
       "      <td>12</td>\n",
       "      <td>31</td>\n",
       "      <td>23</td>\n",
       "      <td>NaN</td>\n",
       "      <td>NaN</td>\n",
       "    </tr>\n",
       "  </tbody>\n",
       "</table>\n",
       "</div>"
      ],
      "text/plain": [
       "    0   1   2   3   4   5   6   7    8   9\n",
       "0   q   w   e   r   a   s   t   u    v NaN\n",
       "1   1   2   3   4   5   6   1   2    1 NaN\n",
       "2  99  12  12  31  23  12  31  23  NaN NaN"
      ]
     },
     "execution_count": 126,
     "metadata": {},
     "output_type": "execute_result"
    }
   ],
   "source": [
    "data = pd.read_csv(\"exe.csv\",header=None)\n",
    "data"
   ]
  },
  {
   "cell_type": "markdown",
   "metadata": {},
   "source": [
    "# 线性回归模型"
   ]
  },
  {
   "cell_type": "code",
   "execution_count": null,
   "metadata": {},
   "outputs": [],
   "source": []
  }
 ],
 "metadata": {
  "kernelspec": {
   "display_name": "PyCharm (Qaunt_1)",
   "language": "python",
   "name": "pycharm-5cba733e"
  },
  "language_info": {
   "codemirror_mode": {
    "name": "ipython",
    "version": 3
   },
   "file_extension": ".py",
   "mimetype": "text/x-python",
   "name": "python",
   "nbconvert_exporter": "python",
   "pygments_lexer": "ipython3",
   "version": "3.7.3"
  }
 },
 "nbformat": 4,
 "nbformat_minor": 4
}
