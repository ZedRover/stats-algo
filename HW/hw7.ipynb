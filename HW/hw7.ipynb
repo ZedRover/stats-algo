{
 "metadata": {
  "language_info": {
   "codemirror_mode": {
    "name": "ipython",
    "version": 3
   },
   "file_extension": ".py",
   "mimetype": "text/x-python",
   "name": "python",
   "nbconvert_exporter": "python",
   "pygments_lexer": "ipython3",
   "version": "3.7.3-final"
  },
  "orig_nbformat": 2,
  "kernelspec": {
   "name": "python3",
   "display_name": "Python 3",
   "language": "python"
  }
 },
 "nbformat": 4,
 "nbformat_minor": 2,
 "cells": [
  {
   "source": [
    "# 1\n",
    "#### (a)\n",
    "\n",
    "$p_1$ = $\\frac{n-1}{n} $\n",
    "\n",
    "#### (b)\n",
    "\n",
    "$p_2$ = $\\frac{n-1}{n}$\n",
    "\n",
    "#### (c)\n",
    "\n",
    "$p_3$ = $(\\frac{n-1}{n})^n$\n",
    "\n",
    "#### (d)\n",
    "\n",
    "$p_4$ = $1-(\\frac{n-1}{n})^n = 1-0.8^5=0.67232$"
   ],
   "cell_type": "markdown",
   "metadata": {}
  },
  {
   "source": [
    "# 2"
   ],
   "cell_type": "markdown",
   "metadata": {}
  },
  {
   "cell_type": "code",
   "execution_count": 1,
   "metadata": {},
   "outputs": [],
   "source": [
    "from scipy import stats\n",
    "from statsmodels.formula.api import ols\n",
    "import pandas as pd \n",
    "import numpy as np "
   ]
  },
  {
   "cell_type": "code",
   "execution_count": 2,
   "metadata": {},
   "outputs": [
    {
     "output_type": "execute_result",
     "data": {
      "text/plain": [
       "<class 'statsmodels.iolib.summary.Summary'>\n",
       "\"\"\"\n",
       "                            OLS Regression Results                            \n",
       "==============================================================================\n",
       "Dep. Variable:                      y   R-squared:                       0.965\n",
       "Model:                            OLS   Adj. R-squared:                  0.957\n",
       "Method:                 Least Squares   F-statistic:                     111.3\n",
       "Date:                Sun, 13 Dec 2020   Prob (F-statistic):           1.45e-06\n",
       "Time:                        20:05:06   Log-Likelihood:                -37.832\n",
       "No. Observations:                  11   AIC:                             81.66\n",
       "Df Residuals:                       8   BIC:                             82.86\n",
       "Df Model:                           2                                         \n",
       "Covariance Type:            nonrobust                                         \n",
       "==============================================================================\n",
       "                 coef    std err          t      P>|t|      [0.025      0.975]\n",
       "------------------------------------------------------------------------------\n",
       "Intercept     21.7636     11.550      1.884      0.096      -4.870      48.397\n",
       "x             41.3208      7.827      5.280      0.001      23.273      59.369\n",
       "I(x ** 2)     -2.5065      1.145     -2.189      0.060      -5.147       0.134\n",
       "==============================================================================\n",
       "Omnibus:                        0.337   Durbin-Watson:                   2.300\n",
       "Prob(Omnibus):                  0.845   Jarque-Bera (JB):                0.457\n",
       "Skew:                           0.233   Prob(JB):                        0.796\n",
       "Kurtosis:                       2.117   Cond. No.                         90.9\n",
       "==============================================================================\n",
       "\n",
       "Notes:\n",
       "[1] Standard Errors assume that the covariance matrix of the errors is correctly specified.\n",
       "\"\"\""
      ],
      "text/html": "<table class=\"simpletable\">\n<caption>OLS Regression Results</caption>\n<tr>\n  <th>Dep. Variable:</th>            <td>y</td>        <th>  R-squared:         </th> <td>   0.965</td>\n</tr>\n<tr>\n  <th>Model:</th>                   <td>OLS</td>       <th>  Adj. R-squared:    </th> <td>   0.957</td>\n</tr>\n<tr>\n  <th>Method:</th>             <td>Least Squares</td>  <th>  F-statistic:       </th> <td>   111.3</td>\n</tr>\n<tr>\n  <th>Date:</th>             <td>Sun, 13 Dec 2020</td> <th>  Prob (F-statistic):</th> <td>1.45e-06</td>\n</tr>\n<tr>\n  <th>Time:</th>                 <td>20:05:06</td>     <th>  Log-Likelihood:    </th> <td> -37.832</td>\n</tr>\n<tr>\n  <th>No. Observations:</th>      <td>    11</td>      <th>  AIC:               </th> <td>   81.66</td>\n</tr>\n<tr>\n  <th>Df Residuals:</th>          <td>     8</td>      <th>  BIC:               </th> <td>   82.86</td>\n</tr>\n<tr>\n  <th>Df Model:</th>              <td>     2</td>      <th>                     </th>     <td> </td>   \n</tr>\n<tr>\n  <th>Covariance Type:</th>      <td>nonrobust</td>    <th>                     </th>     <td> </td>   \n</tr>\n</table>\n<table class=\"simpletable\">\n<tr>\n      <td></td>         <th>coef</th>     <th>std err</th>      <th>t</th>      <th>P>|t|</th>  <th>[0.025</th>    <th>0.975]</th>  \n</tr>\n<tr>\n  <th>Intercept</th> <td>   21.7636</td> <td>   11.550</td> <td>    1.884</td> <td> 0.096</td> <td>   -4.870</td> <td>   48.397</td>\n</tr>\n<tr>\n  <th>x</th>         <td>   41.3208</td> <td>    7.827</td> <td>    5.280</td> <td> 0.001</td> <td>   23.273</td> <td>   59.369</td>\n</tr>\n<tr>\n  <th>I(x ** 2)</th> <td>   -2.5065</td> <td>    1.145</td> <td>   -2.189</td> <td> 0.060</td> <td>   -5.147</td> <td>    0.134</td>\n</tr>\n</table>\n<table class=\"simpletable\">\n<tr>\n  <th>Omnibus:</th>       <td> 0.337</td> <th>  Durbin-Watson:     </th> <td>   2.300</td>\n</tr>\n<tr>\n  <th>Prob(Omnibus):</th> <td> 0.845</td> <th>  Jarque-Bera (JB):  </th> <td>   0.457</td>\n</tr>\n<tr>\n  <th>Skew:</th>          <td> 0.233</td> <th>  Prob(JB):          </th> <td>   0.796</td>\n</tr>\n<tr>\n  <th>Kurtosis:</th>      <td> 2.117</td> <th>  Cond. No.          </th> <td>    90.9</td>\n</tr>\n</table><br/><br/>Notes:<br/>[1] Standard Errors assume that the covariance matrix of the errors is correctly specified."
     },
     "metadata": {},
     "execution_count": 2
    }
   ],
   "source": [
    "x_data = [1,1,2,2,3,3,4,4,5,5,6]\n",
    "y_data = [62,67,83,91,122,131,140,144,171,180,170]\n",
    "df_data = pd.DataFrame({\"x\":x_data , \"y\": y_data})\n",
    "Model_1 = ols(\"y~x+I(x**2)\",data = df_data).fit()\n",
    "Model_1.summary()"
   ]
  },
  {
   "source": [
    "## $Model_1: Y = 21.7636+41.3208X-2.5065X^2$"
   ],
   "cell_type": "markdown",
   "metadata": {}
  },
  {
   "cell_type": "code",
   "execution_count": 3,
   "metadata": {},
   "outputs": [
    {
     "output_type": "execute_result",
     "data": {
      "text/plain": [
       "<class 'statsmodels.iolib.summary.Summary'>\n",
       "\"\"\"\n",
       "                            OLS Regression Results                            \n",
       "==============================================================================\n",
       "Dep. Variable:                      y   R-squared:                       0.958\n",
       "Model:                            OLS   Adj. R-squared:                  0.948\n",
       "Method:                 Least Squares   F-statistic:                     92.25\n",
       "Date:                Sun, 13 Dec 2020   Prob (F-statistic):           2.98e-06\n",
       "Time:                        20:05:06   Log-Likelihood:                -38.826\n",
       "No. Observations:                  11   AIC:                             83.65\n",
       "Df Residuals:                       8   BIC:                             84.85\n",
       "Df Model:                           2                                         \n",
       "Covariance Type:            nonrobust                                         \n",
       "=================================================================================\n",
       "                    coef    std err          t      P>|t|      [0.025      0.975]\n",
       "---------------------------------------------------------------------------------\n",
       "Intercept       -27.3585     23.077     -1.186      0.270     -80.575      25.858\n",
       "I(np.sqrt(x))    87.7191     18.727      4.684      0.002      44.536     130.903\n",
       "I(x ** 2)        -0.1610      0.806     -0.200      0.847      -2.019       1.698\n",
       "==============================================================================\n",
       "Omnibus:                        0.108   Durbin-Watson:                   2.191\n",
       "Prob(Omnibus):                  0.947   Jarque-Bera (JB):                0.325\n",
       "Skew:                           0.074   Prob(JB):                        0.850\n",
       "Kurtosis:                       2.171   Cond. No.                         175.\n",
       "==============================================================================\n",
       "\n",
       "Notes:\n",
       "[1] Standard Errors assume that the covariance matrix of the errors is correctly specified.\n",
       "\"\"\""
      ],
      "text/html": "<table class=\"simpletable\">\n<caption>OLS Regression Results</caption>\n<tr>\n  <th>Dep. Variable:</th>            <td>y</td>        <th>  R-squared:         </th> <td>   0.958</td>\n</tr>\n<tr>\n  <th>Model:</th>                   <td>OLS</td>       <th>  Adj. R-squared:    </th> <td>   0.948</td>\n</tr>\n<tr>\n  <th>Method:</th>             <td>Least Squares</td>  <th>  F-statistic:       </th> <td>   92.25</td>\n</tr>\n<tr>\n  <th>Date:</th>             <td>Sun, 13 Dec 2020</td> <th>  Prob (F-statistic):</th> <td>2.98e-06</td>\n</tr>\n<tr>\n  <th>Time:</th>                 <td>20:05:06</td>     <th>  Log-Likelihood:    </th> <td> -38.826</td>\n</tr>\n<tr>\n  <th>No. Observations:</th>      <td>    11</td>      <th>  AIC:               </th> <td>   83.65</td>\n</tr>\n<tr>\n  <th>Df Residuals:</th>          <td>     8</td>      <th>  BIC:               </th> <td>   84.85</td>\n</tr>\n<tr>\n  <th>Df Model:</th>              <td>     2</td>      <th>                     </th>     <td> </td>   \n</tr>\n<tr>\n  <th>Covariance Type:</th>      <td>nonrobust</td>    <th>                     </th>     <td> </td>   \n</tr>\n</table>\n<table class=\"simpletable\">\n<tr>\n        <td></td>           <th>coef</th>     <th>std err</th>      <th>t</th>      <th>P>|t|</th>  <th>[0.025</th>    <th>0.975]</th>  \n</tr>\n<tr>\n  <th>Intercept</th>     <td>  -27.3585</td> <td>   23.077</td> <td>   -1.186</td> <td> 0.270</td> <td>  -80.575</td> <td>   25.858</td>\n</tr>\n<tr>\n  <th>I(np.sqrt(x))</th> <td>   87.7191</td> <td>   18.727</td> <td>    4.684</td> <td> 0.002</td> <td>   44.536</td> <td>  130.903</td>\n</tr>\n<tr>\n  <th>I(x ** 2)</th>     <td>   -0.1610</td> <td>    0.806</td> <td>   -0.200</td> <td> 0.847</td> <td>   -2.019</td> <td>    1.698</td>\n</tr>\n</table>\n<table class=\"simpletable\">\n<tr>\n  <th>Omnibus:</th>       <td> 0.108</td> <th>  Durbin-Watson:     </th> <td>   2.191</td>\n</tr>\n<tr>\n  <th>Prob(Omnibus):</th> <td> 0.947</td> <th>  Jarque-Bera (JB):  </th> <td>   0.325</td>\n</tr>\n<tr>\n  <th>Skew:</th>          <td> 0.074</td> <th>  Prob(JB):          </th> <td>   0.850</td>\n</tr>\n<tr>\n  <th>Kurtosis:</th>      <td> 2.171</td> <th>  Cond. No.          </th> <td>    175.</td>\n</tr>\n</table><br/><br/>Notes:<br/>[1] Standard Errors assume that the covariance matrix of the errors is correctly specified."
     },
     "metadata": {},
     "execution_count": 3
    }
   ],
   "source": [
    "Model_2 = ols(\"y~I(np.sqrt(x))+I(x**2)\",data = df_data).fit()\n",
    "Model_2.summary()"
   ]
  },
  {
   "source": [
    "## $Model_2 : Y = -27.3585+87.7191X^{1/2}-0.1610X^2$"
   ],
   "cell_type": "markdown",
   "metadata": {}
  },
  {
   "source": [
    "conclusion: $model_1$ is better than $model_2$ as the $R^2$ is higher,and the p-value of the coefficient is lower."
   ],
   "cell_type": "markdown",
   "metadata": {}
  },
  {
   "cell_type": "code",
   "execution_count": 7,
   "metadata": {},
   "outputs": [
    {
     "output_type": "stream",
     "name": "stdout",
     "text": [
      "Model1 MSE: -167.47243012544055\nModel2 MSE: -202.0938873958088\nChoose model1\n"
     ]
    }
   ],
   "source": [
    "import scipy.stats as stats\n",
    "from sklearn.linear_model import LinearRegression \n",
    "from sklearn.model_selection import cross_val_score\n",
    "\n",
    "x = np.array(x_data).reshape(-1,1)\n",
    "y = np.array(y_data).reshape(-1,1)\n",
    "xdf = pd.DataFrame(x,columns=[\"x\"])\n",
    "xdf[\"x-square\"] = xdf[\"x\"]**2\n",
    "lr_results1 = cross_val_score(LinearRegression(),xdf,y,cv = 11,scoring = 'neg_mean_squared_error')\n",
    "\n",
    "print(\"Model1 MSE:\",np.mean(lr_results1))\n",
    "xdf[\"x-sqrt\"] = np.sqrt(xdf[\"x\"])\n",
    "xdf = xdf.drop([\"x\"],axis=1)\n",
    "\n",
    "\n",
    "lr_results2 = cross_val_score(LinearRegression(),xdf,y,cv = 11,scoring = 'neg_mean_squared_error')\n",
    "print(\"Model2 MSE:\",np.mean(lr_results2))\n",
    "print(\"Choose model1\")\n"
   ]
  },
  {
   "source": [
    "# 3"
   ],
   "cell_type": "markdown",
   "metadata": {}
  },
  {
   "cell_type": "code",
   "execution_count": 8,
   "metadata": {},
   "outputs": [
    {
     "output_type": "stream",
     "name": "stdout",
     "text": [
      "The median value of X : 26.1\n"
     ]
    }
   ],
   "source": [
    "file = np.loadtxt(\"/Users/zed/VSCode/Stats-Alg/HW/crab.txt\")\n",
    "df = pd.DataFrame(file)\n",
    "df = df.rename(columns = {3:\"X\"})\n",
    "print(\"The median value of X :\",np.median(df[\"X\"]))"
   ]
  },
  {
   "cell_type": "code",
   "execution_count": 17,
   "metadata": {},
   "outputs": [
    {
     "output_type": "stream",
     "name": "stdout",
     "text": [
      "SE: 31.54999999999979\n"
     ]
    }
   ],
   "source": [
    "# bootstrap confidence intervals\n",
    "from numpy.random import seed\n",
    "from numpy.random import rand\n",
    "from numpy.random import randint\n",
    "from numpy import percentile\n",
    "# generate dataset\n",
    "seed(1)\n",
    "file = np.loadtxt(\"/Users/zed/VSCode/Stats-Alg/HW/crab.txt\")\n",
    "df = pd.DataFrame(file)\n",
    "df = df.rename(columns = {3:\"X\"})\n",
    "dataset = list(df[u\"X\"])\n",
    "# bootstrap\n",
    "\n",
    "medians = [0]*1000\n",
    "scores = []\n",
    "se = 0\n",
    "for i in range(1000):\n",
    "    medians[i]  = np.random.choice(df[\"X\"],size=len(dataset),replace = True)\n",
    "    scores.append(np.median(medians[i]))\n",
    "    se += (scores[i]-np.median(dataset))**2\n",
    "\n",
    "print(\"SE:\",se)"
   ]
  },
  {
   "cell_type": "code",
   "execution_count": 15,
   "metadata": {},
   "outputs": [
    {
     "output_type": "stream",
     "name": "stdout",
     "text": [
      "(26.09689639333184, 26.118903606668162)\n"
     ]
    }
   ],
   "source": [
    "import scipy.stats as stats\n",
    "mu_es_array=np.array(scores)\n",
    "mu=np.mean(mu_es_array)\n",
    "std=stats.sem(mu_es_array)\n",
    "print(stats.norm.interval(0.95, loc=mu, scale=std))"
   ]
  },
  {
   "source": [
    "# 4"
   ],
   "cell_type": "markdown",
   "metadata": {}
  },
  {
   "source": [
    "Error $= \\sum_{i=1}^n y_ilog(h(x_i))+(1-y_i)log(1-h(x_i))$\n",
    "\n",
    "\n",
    "$h(x)=\\frac{exp(\\beta_0+\\beta_1x)}{1+exp(\\beta_0+\\beta_1x)}$"
   ],
   "cell_type": "markdown",
   "metadata": {}
  },
  {
   "cell_type": "code",
   "execution_count": null,
   "metadata": {},
   "outputs": [],
   "source": []
  }
 ]
}