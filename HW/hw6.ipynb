{
 "metadata": {
  "language_info": {
   "codemirror_mode": {
    "name": "ipython",
    "version": 3
   },
   "file_extension": ".py",
   "mimetype": "text/x-python",
   "name": "python",
   "nbconvert_exporter": "python",
   "pygments_lexer": "ipython3",
   "version": "3.7.3-final"
  },
  "orig_nbformat": 2,
  "kernelspec": {
   "name": "python3",
   "display_name": "Python 3"
  }
 },
 "nbformat": 4,
 "nbformat_minor": 2,
 "cells": [
  {
   "cell_type": "code",
   "execution_count": 2,
   "metadata": {},
   "outputs": [],
   "source": [
    "import pandas as pd\n",
    "import numpy as np \n",
    "import os\n",
    "os.chdir(\"/Users/zed/VSCode/Stats-Alg/HW\")"
   ]
  },
  {
   "cell_type": "code",
   "execution_count": 3,
   "metadata": {},
   "outputs": [],
   "source": [
    "data = pd.read_table(\"CompanyBill.txt\",header=None)\n",
    "data[data == 0] =np.nan\n",
    "data = data.dropna(axis=0, how='any')"
   ]
  },
  {
   "source": [
    "## 1"
   ],
   "cell_type": "markdown",
   "metadata": {}
  },
  {
   "cell_type": "code",
   "execution_count": 4,
   "metadata": {},
   "outputs": [
    {
     "output_type": "stream",
     "name": "stdout",
     "text": [
      "rows: 4266 columns: 7\n"
     ]
    }
   ],
   "source": [
    "print(\"rows:\",data.shape[0],\"columns:\",data.shape[1])"
   ]
  },
  {
   "source": [
    "## 2"
   ],
   "cell_type": "markdown",
   "metadata": {}
  },
  {
   "cell_type": "code",
   "execution_count": 5,
   "metadata": {},
   "outputs": [],
   "source": [
    "cindex = []\n",
    "for i in range(1,8):\n",
    "    cindex.append(\"V\"+str(i))\n",
    "data.columns = cindex\n",
    "data.to_csv(\"data.csv\",index=False)"
   ]
  },
  {
   "cell_type": "code",
   "execution_count": 6,
   "metadata": {},
   "outputs": [],
   "source": [
    "from scipy import stats\n",
    "from statsmodels.formula.api import ols\n",
    "from statsmodels.stats.anova import anova_lm"
   ]
  },
  {
   "cell_type": "code",
   "execution_count": 7,
   "metadata": {},
   "outputs": [
    {
     "output_type": "execute_result",
     "data": {
      "text/plain": [
       "<class 'statsmodels.iolib.summary.Summary'>\n",
       "\"\"\"\n",
       "                            OLS Regression Results                            \n",
       "==============================================================================\n",
       "Dep. Variable:                     V1   R-squared:                       0.989\n",
       "Model:                            OLS   Adj. R-squared:                  0.989\n",
       "Method:                 Least Squares   F-statistic:                 6.421e+04\n",
       "Date:                Sun, 06 Dec 2020   Prob (F-statistic):               0.00\n",
       "Time:                        20:01:44   Log-Likelihood:                -52328.\n",
       "No. Observations:                4266   AIC:                         1.047e+05\n",
       "Df Residuals:                    4259   BIC:                         1.047e+05\n",
       "Df Model:                           6                                         \n",
       "Covariance Type:            nonrobust                                         \n",
       "==============================================================================\n",
       "                 coef    std err          t      P>|t|      [0.025      0.975]\n",
       "------------------------------------------------------------------------------\n",
       "Intercept  -9069.3257   2297.411     -3.948      0.000   -1.36e+04   -4565.203\n",
       "V2             0.3902      0.009     44.526      0.000       0.373       0.407\n",
       "V3             0.3186      0.011     30.133      0.000       0.298       0.339\n",
       "V4            -0.0947      0.018     -5.319      0.000      -0.130      -0.060\n",
       "V5             0.5268      0.025     20.734      0.000       0.477       0.577\n",
       "V6            -0.0883      0.023     -3.844      0.000      -0.133      -0.043\n",
       "V7           484.7038     87.295      5.552      0.000     313.559     655.848\n",
       "==============================================================================\n",
       "Omnibus:                     3740.589   Durbin-Watson:                   1.835\n",
       "Prob(Omnibus):                  0.000   Jarque-Bera (JB):         13015756.569\n",
       "Skew:                           2.704   Prob(JB):                         0.00\n",
       "Kurtosis:                     273.547   Cond. No.                     3.30e+06\n",
       "==============================================================================\n",
       "\n",
       "Notes:\n",
       "[1] Standard Errors assume that the covariance matrix of the errors is correctly specified.\n",
       "[2] The condition number is large, 3.3e+06. This might indicate that there are\n",
       "strong multicollinearity or other numerical problems.\n",
       "\"\"\""
      ],
      "text/html": "<table class=\"simpletable\">\n<caption>OLS Regression Results</caption>\n<tr>\n  <th>Dep. Variable:</th>           <td>V1</td>        <th>  R-squared:         </th> <td>   0.989</td> \n</tr>\n<tr>\n  <th>Model:</th>                   <td>OLS</td>       <th>  Adj. R-squared:    </th> <td>   0.989</td> \n</tr>\n<tr>\n  <th>Method:</th>             <td>Least Squares</td>  <th>  F-statistic:       </th> <td>6.421e+04</td>\n</tr>\n<tr>\n  <th>Date:</th>             <td>Sun, 06 Dec 2020</td> <th>  Prob (F-statistic):</th>  <td>  0.00</td>  \n</tr>\n<tr>\n  <th>Time:</th>                 <td>20:01:44</td>     <th>  Log-Likelihood:    </th> <td> -52328.</td> \n</tr>\n<tr>\n  <th>No. Observations:</th>      <td>  4266</td>      <th>  AIC:               </th> <td>1.047e+05</td>\n</tr>\n<tr>\n  <th>Df Residuals:</th>          <td>  4259</td>      <th>  BIC:               </th> <td>1.047e+05</td>\n</tr>\n<tr>\n  <th>Df Model:</th>              <td>     6</td>      <th>                     </th>     <td> </td>    \n</tr>\n<tr>\n  <th>Covariance Type:</th>      <td>nonrobust</td>    <th>                     </th>     <td> </td>    \n</tr>\n</table>\n<table class=\"simpletable\">\n<tr>\n      <td></td>         <th>coef</th>     <th>std err</th>      <th>t</th>      <th>P>|t|</th>  <th>[0.025</th>    <th>0.975]</th>  \n</tr>\n<tr>\n  <th>Intercept</th> <td>-9069.3257</td> <td> 2297.411</td> <td>   -3.948</td> <td> 0.000</td> <td>-1.36e+04</td> <td>-4565.203</td>\n</tr>\n<tr>\n  <th>V2</th>        <td>    0.3902</td> <td>    0.009</td> <td>   44.526</td> <td> 0.000</td> <td>    0.373</td> <td>    0.407</td>\n</tr>\n<tr>\n  <th>V3</th>        <td>    0.3186</td> <td>    0.011</td> <td>   30.133</td> <td> 0.000</td> <td>    0.298</td> <td>    0.339</td>\n</tr>\n<tr>\n  <th>V4</th>        <td>   -0.0947</td> <td>    0.018</td> <td>   -5.319</td> <td> 0.000</td> <td>   -0.130</td> <td>   -0.060</td>\n</tr>\n<tr>\n  <th>V5</th>        <td>    0.5268</td> <td>    0.025</td> <td>   20.734</td> <td> 0.000</td> <td>    0.477</td> <td>    0.577</td>\n</tr>\n<tr>\n  <th>V6</th>        <td>   -0.0883</td> <td>    0.023</td> <td>   -3.844</td> <td> 0.000</td> <td>   -0.133</td> <td>   -0.043</td>\n</tr>\n<tr>\n  <th>V7</th>        <td>  484.7038</td> <td>   87.295</td> <td>    5.552</td> <td> 0.000</td> <td>  313.559</td> <td>  655.848</td>\n</tr>\n</table>\n<table class=\"simpletable\">\n<tr>\n  <th>Omnibus:</th>       <td>3740.589</td> <th>  Durbin-Watson:     </th>   <td>   1.835</td>  \n</tr>\n<tr>\n  <th>Prob(Omnibus):</th>  <td> 0.000</td>  <th>  Jarque-Bera (JB):  </th> <td>13015756.569</td>\n</tr>\n<tr>\n  <th>Skew:</th>           <td> 2.704</td>  <th>  Prob(JB):          </th>   <td>    0.00</td>  \n</tr>\n<tr>\n  <th>Kurtosis:</th>       <td>273.547</td> <th>  Cond. No.          </th>   <td>3.30e+06</td>  \n</tr>\n</table><br/><br/>Notes:<br/>[1] Standard Errors assume that the covariance matrix of the errors is correctly specified.<br/>[2] The condition number is large, 3.3e+06. This might indicate that there are<br/>strong multicollinearity or other numerical problems."
     },
     "metadata": {},
     "execution_count": 7
    }
   ],
   "source": [
    "model = ols(\"V1~V2+V3+V4+V5+V6+V7\",data = data).fit()\n",
    "model.summary()"
   ]
  },
  {
   "source": [
    "As the Adj-$R^2$ is 0.989，it's too high for a real model.AIC and BIC is also too high,there is large probability of the model to overfit the data."
   ],
   "cell_type": "markdown",
   "metadata": {}
  },
  {
   "cell_type": "code",
   "execution_count": 9,
   "metadata": {},
   "outputs": [
    {
     "output_type": "stream",
     "name": "stdout",
     "text": [
      "                            OLS Regression Results                            \n==============================================================================\nDep. Variable:                     V1   R-squared:                       0.987\nModel:                            OLS   Adj. R-squared:                  0.987\nMethod:                 Least Squares   F-statistic:                 1.122e+05\nDate:                Sun, 06 Dec 2020   Prob (F-statistic):               0.00\nTime:                        20:02:03   Log-Likelihood:                -52613.\nNo. Observations:                4266   AIC:                         1.052e+05\nDf Residuals:                    4262   BIC:                         1.053e+05\nDf Model:                           3                                         \nCovariance Type:            nonrobust                                         \n==============================================================================\n                 coef    std err          t      P>|t|      [0.025      0.975]\n------------------------------------------------------------------------------\nIntercept   4130.6136    987.569      4.183      0.000    2194.464    6066.763\nV2             0.4515      0.009     51.434      0.000       0.434       0.469\nV3             0.3637      0.010     35.538      0.000       0.344       0.384\nV4             0.2354      0.008     29.414      0.000       0.220       0.251\n==============================================================================\nOmnibus:                     4406.160   Durbin-Watson:                   1.865\nProb(Omnibus):                  0.000   Jarque-Bera (JB):         20269475.240\nSkew:                           3.716   Prob(JB):                         0.00\nKurtosis:                     340.607   Cond. No.                     1.03e+06\n==============================================================================\n\nNotes:\n[1] Standard Errors assume that the covariance matrix of the errors is correctly specified.\n[2] The condition number is large, 1.03e+06. This might indicate that there are\nstrong multicollinearity or other numerical problems.\n                            OLS Regression Results                            \n==============================================================================\nDep. Variable:                     V1   R-squared:                       0.989\nModel:                            OLS   Adj. R-squared:                  0.989\nMethod:                 Least Squares   F-statistic:                 1.257e+05\nDate:                Sun, 06 Dec 2020   Prob (F-statistic):               0.00\nTime:                        20:02:03   Log-Likelihood:                -52375.\nNo. Observations:                4266   AIC:                         1.048e+05\nDf Residuals:                    4262   BIC:                         1.048e+05\nDf Model:                           3                                         \nCovariance Type:            nonrobust                                         \n==============================================================================\n                 coef    std err          t      P>|t|      [0.025      0.975]\n------------------------------------------------------------------------------\nIntercept   2292.8089    935.196      2.452      0.014     459.339    4126.279\nV2             0.4047      0.009     47.303      0.000       0.388       0.421\nV3             0.3031      0.010     30.185      0.000       0.283       0.323\nV5             0.3426      0.009     38.371      0.000       0.325       0.360\n==============================================================================\nOmnibus:                     5133.722   Durbin-Watson:                   1.848\nProb(Omnibus):                  0.000   Jarque-Bera (JB):         24429604.261\nSkew:                           5.096   Prob(JB):                         0.00\nKurtosis:                     373.586   Cond. No.                     1.03e+06\n==============================================================================\n\nNotes:\n[1] Standard Errors assume that the covariance matrix of the errors is correctly specified.\n[2] The condition number is large, 1.03e+06. This might indicate that there are\nstrong multicollinearity or other numerical problems.\n                            OLS Regression Results                            \n==============================================================================\nDep. Variable:                     V1   R-squared:                       0.987\nModel:                            OLS   Adj. R-squared:                  0.987\nMethod:                 Least Squares   F-statistic:                 1.050e+05\nDate:                Sun, 06 Dec 2020   Prob (F-statistic):               0.00\nTime:                        20:02:03   Log-Likelihood:                -52754.\nNo. Observations:                4266   AIC:                         1.055e+05\nDf Residuals:                    4262   BIC:                         1.055e+05\nDf Model:                           3                                         \nCovariance Type:            nonrobust                                         \n==============================================================================\n                 coef    std err          t      P>|t|      [0.025      0.975]\n------------------------------------------------------------------------------\nIntercept  -6581.1421    965.706     -6.815      0.000   -8474.429   -4687.855\nV2             0.5383      0.008     68.225      0.000       0.523       0.554\nV4            -0.1531      0.018     -8.301      0.000      -0.189      -0.117\nV5             0.6329      0.021     30.187      0.000       0.592       0.674\n==============================================================================\nOmnibus:                     4856.174   Durbin-Watson:                   1.873\nProb(Omnibus):                  0.000   Jarque-Bera (JB):         23888778.926\nSkew:                           4.529   Prob(JB):                         0.00\nKurtosis:                     369.488   Cond. No.                     1.00e+06\n==============================================================================\n\nNotes:\n[1] Standard Errors assume that the covariance matrix of the errors is correctly specified.\n[2] The condition number is large,  1e+06. This might indicate that there are\nstrong multicollinearity or other numerical problems.\n                            OLS Regression Results                            \n==============================================================================\nDep. Variable:                     V1   R-squared:                       0.983\nModel:                            OLS   Adj. R-squared:                  0.983\nMethod:                 Least Squares   F-statistic:                 8.313e+04\nDate:                Sun, 06 Dec 2020   Prob (F-statistic):               0.00\nTime:                        20:02:03   Log-Likelihood:                -53244.\nNo. Observations:                4266   AIC:                         1.065e+05\nDf Residuals:                    4262   BIC:                         1.065e+05\nDf Model:                           3                                         \nCovariance Type:            nonrobust                                         \n==============================================================================\n                 coef    std err          t      P>|t|      [0.025      0.975]\n------------------------------------------------------------------------------\nIntercept   1.048e+04   1129.073      9.284      0.000    8269.179    1.27e+04\nV3             0.5524      0.010     53.125      0.000       0.532       0.573\nV4            -0.1619      0.021     -7.820      0.000      -0.202      -0.121\nV5             0.7017      0.024     29.607      0.000       0.655       0.748\n==============================================================================\nOmnibus:                     7648.869   Durbin-Watson:                   1.738\nProb(Omnibus):                  0.000   Jarque-Bera (JB):         48639939.926\nSkew:                          12.107   Prob(JB):                         0.00\nKurtosis:                     525.548   Cond. No.                     9.90e+05\n==============================================================================\n\nNotes:\n[1] Standard Errors assume that the covariance matrix of the errors is correctly specified.\n[2] The condition number is large, 9.9e+05. This might indicate that there are\nstrong multicollinearity or other numerical problems.\n"
     ]
    }
   ],
   "source": [
    "model1=ols(formula='V1~V2+V3+V4',data=data).fit()\n",
    "model2=ols(formula='V1~V2+V3+V5',data=data).fit()\n",
    "model3=ols(formula='V1~V2+V4+V5',data=data).fit()\n",
    "model4=ols(formula='V1~V3+V4+V5',data=data).fit()\n",
    "print(model1.summary())\n",
    "print(model2.summary())\n",
    "print(model3.summary())\n",
    "print(model4.summary())"
   ]
  },
  {
   "source": [
    "The new model is better,since the AIC and BIC is low than former."
   ],
   "cell_type": "markdown",
   "metadata": {}
  },
  {
   "cell_type": "code",
   "execution_count": 11,
   "metadata": {},
   "outputs": [
    {
     "output_type": "execute_result",
     "data": {
      "text/plain": [
       "<class 'statsmodels.iolib.summary.Summary'>\n",
       "\"\"\"\n",
       "                            OLS Regression Results                            \n",
       "==============================================================================\n",
       "Dep. Variable:                     V1   R-squared:                       0.989\n",
       "Model:                            OLS   Adj. R-squared:                  0.989\n",
       "Method:                 Least Squares   F-statistic:                 6.421e+04\n",
       "Date:                Sun, 06 Dec 2020   Prob (F-statistic):               0.00\n",
       "Time:                        20:02:51   Log-Likelihood:                -52328.\n",
       "No. Observations:                4266   AIC:                         1.047e+05\n",
       "Df Residuals:                    4259   BIC:                         1.047e+05\n",
       "Df Model:                           6                                         \n",
       "Covariance Type:            nonrobust                                         \n",
       "==============================================================================\n",
       "                 coef    std err          t      P>|t|      [0.025      0.975]\n",
       "------------------------------------------------------------------------------\n",
       "Intercept  -9069.3257   2297.411     -3.948      0.000   -1.36e+04   -4565.203\n",
       "V2             0.3902      0.009     44.526      0.000       0.373       0.407\n",
       "V3             0.3186      0.011     30.133      0.000       0.298       0.339\n",
       "V4            -0.0947      0.018     -5.319      0.000      -0.130      -0.060\n",
       "V5             0.5268      0.025     20.734      0.000       0.477       0.577\n",
       "V6            -0.0883      0.023     -3.844      0.000      -0.133      -0.043\n",
       "V7           484.7038     87.295      5.552      0.000     313.559     655.848\n",
       "==============================================================================\n",
       "Omnibus:                     3740.589   Durbin-Watson:                   1.835\n",
       "Prob(Omnibus):                  0.000   Jarque-Bera (JB):         13015756.569\n",
       "Skew:                           2.704   Prob(JB):                         0.00\n",
       "Kurtosis:                     273.547   Cond. No.                     3.30e+06\n",
       "==============================================================================\n",
       "\n",
       "Notes:\n",
       "[1] Standard Errors assume that the covariance matrix of the errors is correctly specified.\n",
       "[2] The condition number is large, 3.3e+06. This might indicate that there are\n",
       "strong multicollinearity or other numerical problems.\n",
       "\"\"\""
      ],
      "text/html": "<table class=\"simpletable\">\n<caption>OLS Regression Results</caption>\n<tr>\n  <th>Dep. Variable:</th>           <td>V1</td>        <th>  R-squared:         </th> <td>   0.989</td> \n</tr>\n<tr>\n  <th>Model:</th>                   <td>OLS</td>       <th>  Adj. R-squared:    </th> <td>   0.989</td> \n</tr>\n<tr>\n  <th>Method:</th>             <td>Least Squares</td>  <th>  F-statistic:       </th> <td>6.421e+04</td>\n</tr>\n<tr>\n  <th>Date:</th>             <td>Sun, 06 Dec 2020</td> <th>  Prob (F-statistic):</th>  <td>  0.00</td>  \n</tr>\n<tr>\n  <th>Time:</th>                 <td>20:02:51</td>     <th>  Log-Likelihood:    </th> <td> -52328.</td> \n</tr>\n<tr>\n  <th>No. Observations:</th>      <td>  4266</td>      <th>  AIC:               </th> <td>1.047e+05</td>\n</tr>\n<tr>\n  <th>Df Residuals:</th>          <td>  4259</td>      <th>  BIC:               </th> <td>1.047e+05</td>\n</tr>\n<tr>\n  <th>Df Model:</th>              <td>     6</td>      <th>                     </th>     <td> </td>    \n</tr>\n<tr>\n  <th>Covariance Type:</th>      <td>nonrobust</td>    <th>                     </th>     <td> </td>    \n</tr>\n</table>\n<table class=\"simpletable\">\n<tr>\n      <td></td>         <th>coef</th>     <th>std err</th>      <th>t</th>      <th>P>|t|</th>  <th>[0.025</th>    <th>0.975]</th>  \n</tr>\n<tr>\n  <th>Intercept</th> <td>-9069.3257</td> <td> 2297.411</td> <td>   -3.948</td> <td> 0.000</td> <td>-1.36e+04</td> <td>-4565.203</td>\n</tr>\n<tr>\n  <th>V2</th>        <td>    0.3902</td> <td>    0.009</td> <td>   44.526</td> <td> 0.000</td> <td>    0.373</td> <td>    0.407</td>\n</tr>\n<tr>\n  <th>V3</th>        <td>    0.3186</td> <td>    0.011</td> <td>   30.133</td> <td> 0.000</td> <td>    0.298</td> <td>    0.339</td>\n</tr>\n<tr>\n  <th>V4</th>        <td>   -0.0947</td> <td>    0.018</td> <td>   -5.319</td> <td> 0.000</td> <td>   -0.130</td> <td>   -0.060</td>\n</tr>\n<tr>\n  <th>V5</th>        <td>    0.5268</td> <td>    0.025</td> <td>   20.734</td> <td> 0.000</td> <td>    0.477</td> <td>    0.577</td>\n</tr>\n<tr>\n  <th>V6</th>        <td>   -0.0883</td> <td>    0.023</td> <td>   -3.844</td> <td> 0.000</td> <td>   -0.133</td> <td>   -0.043</td>\n</tr>\n<tr>\n  <th>V7</th>        <td>  484.7038</td> <td>   87.295</td> <td>    5.552</td> <td> 0.000</td> <td>  313.559</td> <td>  655.848</td>\n</tr>\n</table>\n<table class=\"simpletable\">\n<tr>\n  <th>Omnibus:</th>       <td>3740.589</td> <th>  Durbin-Watson:     </th>   <td>   1.835</td>  \n</tr>\n<tr>\n  <th>Prob(Omnibus):</th>  <td> 0.000</td>  <th>  Jarque-Bera (JB):  </th> <td>13015756.569</td>\n</tr>\n<tr>\n  <th>Skew:</th>           <td> 2.704</td>  <th>  Prob(JB):          </th>   <td>    0.00</td>  \n</tr>\n<tr>\n  <th>Kurtosis:</th>       <td>273.547</td> <th>  Cond. No.          </th>   <td>3.30e+06</td>  \n</tr>\n</table><br/><br/>Notes:<br/>[1] Standard Errors assume that the covariance matrix of the errors is correctly specified.<br/>[2] The condition number is large, 3.3e+06. This might indicate that there are<br/>strong multicollinearity or other numerical problems."
     },
     "metadata": {},
     "execution_count": 11
    }
   ],
   "source": [
    "model5=ols(formula='V1~V2+V3+V5+V2*V3+V2*V5+V3*V5',data=data).fit()\n",
    "model.summary()"
   ]
  },
  {
   "source": [
    "AIC BIC is lower,the model is better."
   ],
   "cell_type": "markdown",
   "metadata": {}
  },
  {
   "cell_type": "code",
   "execution_count": null,
   "metadata": {},
   "outputs": [],
   "source": []
  }
 ]
}