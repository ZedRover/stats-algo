{
 "cells": [
  {
   "cell_type": "markdown",
   "metadata": {},
   "source": []
  },
  {
   "cell_type": "code",
   "execution_count": 8,
   "metadata": {},
   "outputs": [],
   "source": [
    "import pandas as pd \n",
    "import numpy as np \n",
    "from scipy import stats\n",
    "from statsmodels.formula.api import ols\n",
    "from statsmodels.stats.anova import anova_lm"
   ]
  },
  {
   "cell_type": "markdown",
   "metadata": {},
   "source": [
    "## 1"
   ]
  },
  {
   "cell_type": "markdown",
   "metadata": {},
   "source": [
    "$H_0: \\mu_1 = \\mu_2$\n",
    "\n",
    "$H_1: \\mu_1 != \\mu_2$ \n",
    "\n",
    "$SSTR = 15520.4732$\n",
    "\n",
    "$SSE = 39716.0972$\n",
    "\n",
    "$MSTR =  7760.2366$\n",
    "\n",
    "$MSE = 2090.3209$\n",
    "\n",
    "$F = \\frac{MSTR}{MSE} =3.7124$\n",
    "\n",
    "$p =  0.0435 > 0.025$\n",
    "\n",
    "$\\therefore reject  H_1$\n",
    "\n",
    "SSTR is larger than the one calculated by code\n"
   ]
  },
  {
   "cell_type": "markdown",
   "metadata": {},
   "source": [
    "## 2 卡方检验"
   ]
  },
  {
   "cell_type": "code",
   "execution_count": 4,
   "metadata": {},
   "outputs": [
    {
     "name": "stdout",
     "output_type": "stream",
     "text": [
      "K-sqare: 1.0770949437632993\n",
      "p:  0.299348347052785\n"
     ]
    }
   ],
   "source": [
    "df1=pd.DataFrame([[43,96],[28,84]])\n",
    "a=df1.loc[0,0]\n",
    "b=df1.loc[0,1]\n",
    "c=df1.loc[1,0]\n",
    "d=df1.loc[1,1]\n",
    "n=a+b+c+d\n",
    "Ksquare=(n*(a*d-b*c)**2)/((a+b)*(c+d)*(a+c)*(b+d))\n",
    "print('K-sqare:',Ksquare)\n",
    "chi2dis=stats.chi2(1)\n",
    "pval=1-chi2dis.cdf(Ksquare)\n",
    "print('p: ',pval)"
   ]
  },
  {
   "cell_type": "code",
   "execution_count": 5,
   "metadata": {},
   "outputs": [
    {
     "data": {
      "text/plain": [
       "0.36978779888781643"
      ]
     },
     "execution_count": 5,
     "metadata": {},
     "output_type": "execute_result"
    }
   ],
   "source": [
    "data = np.array([[43,96],[28,84]])\n",
    "V,p,dof,expected = stats.chi2_contingency(data)\n",
    "p"
   ]
  },
  {
   "cell_type": "code",
   "execution_count": null,
   "metadata": {},
   "outputs": [],
   "source": []
  },
  {
   "cell_type": "markdown",
   "metadata": {},
   "source": [
    "## 3 "
   ]
  },
  {
   "cell_type": "code",
   "execution_count": 10,
   "metadata": {},
   "outputs": [
    {
     "name": "stdout",
     "output_type": "stream",
     "text": [
      "                df       sum_sq     mean_sq         F    PR(>F)\n",
      "C(treatment)   1.0   280.055556  280.055556  0.676168  0.422995\n",
      "Residual      16.0  6626.888889  414.180556       NaN       NaN\n"
     ]
    }
   ],
   "source": [
    "data=np.array([[99,1],[88,1],[79,1],[59,1],[54,1],[89,1],[79,1],[56,1],[89,1],[99,2],[89,2],[23,2],[70,2],[50,2],[67,2],[78,2],[89,2],[56,2]])\n",
    "df=pd.DataFrame(data,columns=['value','treatment'])\n",
    "model=ols('value~C(treatment)',df).fit()\n",
    "results=anova_lm(model)\n",
    "print(results)"
   ]
  },
  {
   "cell_type": "markdown",
   "metadata": {},
   "source": [
    "## 4"
   ]
  },
  {
   "cell_type": "code",
   "execution_count": 15,
   "metadata": {},
   "outputs": [
    {
     "data": {
      "text/plain": [
       "0.08192777671391077"
      ]
     },
     "execution_count": 15,
     "metadata": {},
     "output_type": "execute_result"
    }
   ],
   "source": [
    "data = np.array([[1600,1610,1650,1680,1700,1720,1800],[1580,1640,1640,1700,1750],[1540,1550,1600,1620,1640,1660,1740,1820],[1510,1520,1530,1570,1600,1680]])\n",
    "F_stats,pValue = stats.f_oneway(data[0],data[1],data[2],data[3])\n",
    "pValue"
   ]
  },
  {
   "cell_type": "markdown",
   "metadata": {},
   "source": [
    "## 5"
   ]
  },
  {
   "cell_type": "code",
   "execution_count": 26,
   "metadata": {},
   "outputs": [
    {
     "name": "stdout",
     "output_type": "stream",
     "text": [
      "K-sqare: 2.7606330983131366\n",
      "p: 0.43002147589312656\n"
     ]
    }
   ],
   "source": [
    "chi2=(68**2/(100*279)+75**2/(120*279)+57**2/(90*279)+79**2/(110*279)+\n",
    "     32**2/(141*100)+45**2/(120*141)+33**2/(90*141)+31**2/(110*141)-1)*420\n",
    "chi2dis=stats.chi2(3)\n",
    "p_value=1-chi2dis.cdf(chi2)\n",
    "print('K-sqare:',chi2)\n",
    "print('p:',p_value)"
   ]
  },
  {
   "cell_type": "code",
   "execution_count": 30,
   "metadata": {},
   "outputs": [
    {
     "name": "stdout",
     "output_type": "stream",
     "text": [
      "K-sqare: 2.644374985369685\n",
      "p_value: 0.44976309332550357\n"
     ]
    }
   ],
   "source": [
    "data=np.array([[65,75,57,79],[32,45,33,31]])\n",
    "V,p,dof,expected=stats.chi2_contingency(data)\n",
    "print('K-sqare:',V)\n",
    "print('p_value:',p)"
   ]
  },
  {
   "cell_type": "code",
   "execution_count": null,
   "metadata": {},
   "outputs": [],
   "source": [
    " "
   ]
  },
  {
   "cell_type": "code",
   "execution_count": null,
   "metadata": {},
   "outputs": [],
   "source": []
  }
 ],
 "metadata": {
  "kernelspec": {
   "display_name": "Python 3.7 (XPython)",
   "language": "python",
   "name": "xpython"
  },
  "language_info": {
   "file_extension": ".py",
   "mimetype": "text/x-python",
   "name": "python",
   "version": "3.7.8"
  }
 },
 "nbformat": 4,
 "nbformat_minor": 4
}
