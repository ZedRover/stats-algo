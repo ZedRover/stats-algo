{
 "metadata": {
  "language_info": {
   "codemirror_mode": {
    "name": "ipython",
    "version": 3
   },
   "file_extension": ".py",
   "mimetype": "text/x-python",
   "name": "python",
   "nbconvert_exporter": "python",
   "pygments_lexer": "ipython3",
   "version": "3.7.3-final"
  },
  "orig_nbformat": 2,
  "kernelspec": {
   "name": "pycharm-5cba733e",
   "display_name": "PyCharm (Qaunt_1)"
  }
 },
 "nbformat": 4,
 "nbformat_minor": 2,
 "cells": [
  {
   "cell_type": "code",
   "execution_count": null,
   "metadata": {
    "tags": []
   },
   "outputs": [],
   "source": [
    "#problem 1\n",
    "def jch(a):\n",
    "    sum = 1\n",
    "    for i in range(1,a+1):\n",
    "        sum *= i\n",
    "    return sum\n",
    "result = 0\n",
    "for i in range(1,11):\n",
    "    result += jch(i)\n",
    "print(result)"
   ]
  },
  {
   "cell_type": "code",
   "execution_count": null,
   "metadata": {
    "tags": []
   },
   "outputs": [],
   "source": [
    "#problem 2\n",
    "import numpy as np \n",
    "import pandas as pd \n",
    "import os\n",
    "data = pd.read_csv(\"mites.txt\",sep= '\\s+')\n",
    "data.loc[:,\"dose\"].value_counts()\n",
    "g_data = data.groupby(data.loc[:,\"dose\"]).apply(lambda x : x[\"n.dead\"]/x[\"n.mites\"])\n",
    "print(g_data)\n",
    "for i in range(0,4):\n",
    "    print(g_data[i].mean())"
   ]
  },
  {
   "cell_type": "code",
   "execution_count": null,
   "metadata": {
    "tags": []
   },
   "outputs": [],
   "source": [
    "#problem 3\n",
    "import numpy as np \n",
    "import pandas as pd\n",
    "P = np.array([[0.1,0.2,0.3,0.4],[0.4,0.1,0.2,0.3],[0.3,0.4,0.1,0.2],[0.2,0.3,0.4,0.1]])\n",
    "for i in range(0,4):\n",
    "    print(P[i].sum())\n",
    "for i in [2,3,5,10]:\n",
    "    print(np.power(P,i))\n",
    "print(\"规律：对矩阵求幂得到各元素自身求幂组成的矩阵\")\n",
    "\n",
    "I = np.identity(4)\n",
    "A = I - np.linalg.inv(P.T)\n",
    "A[3] = [1,1,1,1]\n",
    "x = np.linalg.solve(A,[0,0,0,1])\n",
    "x"
   ]
  },
  {
   "cell_type": "code",
   "execution_count": null,
   "metadata": {},
   "outputs": [],
   "source": [
    "#problem 4 a\n",
    "import math\n",
    "import numpy as np \n",
    "def directpoly(x,c):\n",
    "    l = len(c)\n",
    "    if type(x) == int:\n",
    "\n",
    "        sum = 0\n",
    "        for i in range(0,l):\n",
    "            sum += c[i]*pow(x,i)\n",
    "        return sum\n",
    "    else:\n",
    "        n = x.size\n",
    "        m = np.ones(n)\n",
    "        for i in range(0,n):\n",
    "            sum = 0\n",
    "            for j in range(0,l):\n",
    "                sum += c[j]*pow(x[i],j)\n",
    "            m[i]= sum\n",
    "        return m\n",
    "directpoly(np.array([1,2,3]),[1,2,3])"
   ]
  },
  {
   "cell_type": "code",
   "execution_count": null,
   "metadata": {
    "tags": []
   },
   "outputs": [],
   "source": [
    "#problem 4 b\n",
    "import numpy as np\n",
    "import math \n",
    "def honerpoly(x,c):\n",
    "    lc = len(c)\n",
    "    lx = x.size\n",
    "    result = np.ones(lx)\n",
    "    a = np.ones(lc)\n",
    "    a[-1] = c[-1]\n",
    "    for i in range(0,lx):\n",
    "        for j in range(lc-2,-1,-1):\n",
    "            a[j] = a[j+1]*x[i] + c[j]\n",
    "        result[i] = a[0]\n",
    "    return result\n",
    "honerpoly(np.array([1,2,99]),np.array([999,2,1,1,23,123,1,231,23,123,1,231,9]))\n",
    "\n",
    "\n"
   ]
  },
  {
   "cell_type": "code",
   "execution_count": null,
   "metadata": {},
   "outputs": [],
   "source": [
    "#problem 5\n",
    "import numpy as np\n",
    "from scipy import stats\n",
    "import random\n",
    "import matplotlib.mlab as mlab\n",
    "import matplotlib.pyplot as plt\n",
    "a = random.randint(0,2)\n",
    "b = random.randint(0,2)\n",
    "mu = [-1,0,1]\n",
    "sigma = [0.5,1,1.5]\n",
    "stats.norm(mu[a],sigma[b])\n",
    "sampleNo = 100000\n",
    "np.random.seed(0)\n",
    "s = np.random.normal(mu[a], sigma[b], sampleNo)\n",
    "plt.hist(s, bins=100, normed=True)\n",
    "plt.show()\n",
    "\n"
   ]
  },
  {
   "cell_type": "code",
   "execution_count": null,
   "metadata": {
    "tags": []
   },
   "outputs": [],
   "source": [
    "id = \"statistics\"\n",
    "password = \"2020\"\n",
    "num = 2\n",
    "while num > 0:\n",
    "    a = input(\"ID:\")\n",
    "    b = input(\"password:\")\n",
    "    if a == id and b == password:\n",
    "        print(\"welcome!\")\n",
    "    else:\n",
    "        num-=1\n",
    "        print(\"You can try only \",num,\" times!\")\n",
    "        continue"
   ]
  },
  {
   "cell_type": "code",
   "execution_count": null,
   "metadata": {},
   "outputs": [],
   "source": [
    "#problem 3\n",
    "import numpy as np \n",
    "import pandas as pd\n",
    "P = np.array([[0.1,0.2,0.3,0.4],[0.4,0.1,0.2,0.3],[0.3,0.4,0.1,0.2],[0.2,0.3,0.4,0.1]])\n",
    "for i in range(0,4):\n",
    "    print(P[i].sum())\n",
    "for i in [2,3,5,10]:\n",
    "    print(np.power(P,i))\n",
    "print(\"规律：对矩阵求幂得到各元素自身求幂组成的矩阵\")\n",
    "I=np.eye(4)\n",
    "Q=I-P.T\n",
    "from scipy import linalg\n",
    "Q[3]=[1,1,1,1]\n",
    "b=np.array([0,0,0,1])\n",
    "x=linalg.solve(Q,b)\n",
    "print(x)"
   ]
  },
  {
   "cell_type": "code",
   "execution_count": null,
   "metadata": {},
   "outputs": [],
   "source": []
  }
 ]
}