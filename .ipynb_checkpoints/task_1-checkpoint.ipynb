{
 "metadata": {
  "language_info": {
   "codemirror_mode": {
    "name": "ipython",
    "version": 3
   },
   "file_extension": ".py",
   "mimetype": "text/x-python",
   "name": "python",
   "nbconvert_exporter": "python",
   "pygments_lexer": "ipython3",
   "version": "3.7.3-final"
  },
  "orig_nbformat": 2,
  "kernelspec": {
   "name": "python3",
   "display_name": "Python 3"
  }
 },
 "nbformat": 4,
 "nbformat_minor": 2,
 "cells": [
  {
   "cell_type": "code",
   "execution_count": 1,
   "metadata": {},
   "outputs": [],
   "source": [
    "#1\n",
    "SizeOfRooms = [18,10.75,20,8.5]"
   ]
  },
  {
   "cell_type": "code",
   "execution_count": 2,
   "metadata": {},
   "outputs": [],
   "source": [
    "del SizeOfRooms[2]"
   ]
  },
  {
   "cell_type": "code",
   "execution_count": 3,
   "metadata": {},
   "outputs": [
    {
     "output_type": "error",
     "ename": "ValueError",
     "evalue": "list.remove(x): x not in list",
     "traceback": [
      "\u001b[0;31m---------------------------------------------------------------------------\u001b[0m",
      "\u001b[0;31mValueError\u001b[0m                                Traceback (most recent call last)",
      "\u001b[0;32m<ipython-input-3-2200dfdc9fca>\u001b[0m in \u001b[0;36m<module>\u001b[0;34m\u001b[0m\n\u001b[0;32m----> 1\u001b[0;31m \u001b[0mSizeOfRooms\u001b[0m\u001b[0;34m.\u001b[0m\u001b[0mremove\u001b[0m\u001b[0;34m(\u001b[0m\u001b[0;36m20\u001b[0m\u001b[0;34m)\u001b[0m\u001b[0;34m\u001b[0m\u001b[0;34m\u001b[0m\u001b[0m\n\u001b[0m",
      "\u001b[0;31mValueError\u001b[0m: list.remove(x): x not in list"
     ]
    }
   ],
   "source": [
    "SizeOfRooms.remove(20)"
   ]
  },
  {
   "cell_type": "code",
   "execution_count": null,
   "metadata": {},
   "outputs": [],
   "source": [
    "#2\n",
    "import numpy as np\n",
    "mtrx = np.zeros((10,10))\n",
    "mtrx\n",
    "for i in range(0,10):\n",
    "    for j in range(0,10):\n",
    "        if(i == 0 or i == 9 or j == 0 or j == 9):\n",
    "            mtrx[i,j] = 1\n",
    "mtrx\n"
   ]
  },
  {
   "cell_type": "code",
   "execution_count": null,
   "metadata": {
    "tags": []
   },
   "outputs": [],
   "source": [
    "#3\n",
    "mtrx2 = np.empty(shape = [3,3],dtype = int)\n",
    "print(mtrx2)\n",
    "mtrx2[[0,2],:] = mtrx2[[2,0],:]\n",
    "print(mtrx2)"
   ]
  },
  {
   "cell_type": "code",
   "execution_count": null,
   "metadata": {
    "tags": []
   },
   "outputs": [],
   "source": [
    "#4\n",
    "i = 0\n",
    "while True:\n",
    "    if 2*i+1>50:\n",
    "        break\n",
    "    else:\n",
    "        print(2*i+1)\n",
    "        i+=1"
   ]
  },
  {
   "cell_type": "code",
   "execution_count": 117,
   "metadata": {
    "tags": []
   },
   "outputs": [
    {
     "output_type": "stream",
     "name": "stdout",
     "text": "fall\n"
    }
   ],
   "source": [
    "#5\n",
    "import random\n",
    "month = random.randint(1,13)\n",
    "spring = [\"spring\",3,4,5]\n",
    "autumn = [\"autumn\",6,7,8]\n",
    "fall = [\"fall\",9,10,11]\n",
    "winter = [\"winter\",12,1,2]\n",
    "allt = [spring,autumn,fall,winter]\n",
    "for i in allt:\n",
    "    if month in i:\n",
    "        print(i[0])\n",
    "      "
   ]
  },
  {
   "cell_type": "code",
   "execution_count": null,
   "metadata": {},
   "outputs": [],
   "source": []
  }
 ]
}